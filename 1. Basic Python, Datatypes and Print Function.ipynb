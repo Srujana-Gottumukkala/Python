{
 "cells": [
  {
   "cell_type": "markdown",
   "id": "19d20c22",
   "metadata": {},
   "source": [
    "# DATA SCIENCE AND AI\n",
    "\n",
    "## Python\n",
    "\n",
    "## Data types"
   ]
  },
  {
   "cell_type": "markdown",
   "id": "d6654460",
   "metadata": {},
   "source": [
    "Recap\n",
    "\n",
    "- Syntax of defining python identifiers\n",
    "    python identifier = values\n",
    "- Rules to define identifiers\n",
    "    - The first character must be a character or underscore, it cannot begin with a number\n",
    "    - Special characters (except underscore) are not allowed\n",
    "    - Keywords aren't allowed, Eg: ELSE is not a keyword, so valid identifier. else is a keyword, so invalid identifier. Since python is case sensitive\n",
    "    - There is no length limit\n",
    "\n",
    "        \n",
    "Today's topic\n",
    "- Datatypes"
   ]
  },
  {
   "cell_type": "markdown",
   "id": "bd84a536",
   "metadata": {},
   "source": [
    "Python software installed\n",
    "   - anaconda python -- bigdata and datascience, gen ai\n",
    "   - python ide - vs code, pycharm, jupyter, spyder\n",
    "   - interpreter - executes the code line by line\n",
    "   -  compiler - executes the code at once\n",
    "Python is dynamic programming language; it works based on indentation"
   ]
  },
  {
   "cell_type": "code",
   "execution_count": 12,
   "id": "e958542e",
   "metadata": {},
   "outputs": [
    {
     "data": {
      "text/plain": [
       "'3.9.12 (main, Apr  4 2022, 05:22:27) [MSC v.1916 64 bit (AMD64)]'"
      ]
     },
     "execution_count": 12,
     "metadata": {},
     "output_type": "execute_result"
    }
   ],
   "source": [
    "#Check python version\n",
    "\n",
    "import sys\n",
    "sys.version"
   ]
  },
  {
   "cell_type": "code",
   "execution_count": 25,
   "id": "d3cb2d3b",
   "metadata": {},
   "outputs": [],
   "source": [
    "# Python variable assignment\n",
    "a = 10    # a is the variable, 10 is the value"
   ]
  },
  {
   "cell_type": "markdown",
   "id": "9b9563cc",
   "metadata": {},
   "source": [
    "### Python data structures\n",
    "1. Primitive\n",
    "2. Non-Primitive:\n",
    "      - Built-in\n",
    "      - User-defined"
   ]
  },
  {
   "cell_type": "markdown",
   "id": "940e4d2f",
   "metadata": {},
   "source": [
    "Datatypes\n",
    "\n",
    "1. int\n",
    "2. float\n",
    "3. string\n",
    "4. bool\n",
    "5. complex - java doesn't have complex data types"
   ]
  },
  {
   "cell_type": "markdown",
   "id": "d4bf1d34",
   "metadata": {},
   "source": [
    "### 1. int\n",
    "- values without decimal"
   ]
  },
  {
   "cell_type": "code",
   "execution_count": 13,
   "id": "2fad9489",
   "metadata": {},
   "outputs": [
    {
     "data": {
      "text/plain": [
       "3"
      ]
     },
     "execution_count": 13,
     "metadata": {},
     "output_type": "execute_result"
    }
   ],
   "source": [
    "i = 3 # only single values are allowed\n",
    "i"
   ]
  },
  {
   "cell_type": "code",
   "execution_count": 2,
   "id": "c5b84717",
   "metadata": {},
   "outputs": [
    {
     "data": {
      "text/plain": [
       "int"
      ]
     },
     "execution_count": 2,
     "metadata": {},
     "output_type": "execute_result"
    }
   ],
   "source": [
    "type(i)"
   ]
  },
  {
   "cell_type": "code",
   "execution_count": 3,
   "id": "547dac75",
   "metadata": {},
   "outputs": [],
   "source": [
    "i2 = 3,4,5"
   ]
  },
  {
   "cell_type": "code",
   "execution_count": 4,
   "id": "2e77f885",
   "metadata": {},
   "outputs": [
    {
     "data": {
      "text/plain": [
       "tuple"
      ]
     },
     "execution_count": 4,
     "metadata": {},
     "output_type": "execute_result"
    }
   ],
   "source": [
    "type(i2)"
   ]
  },
  {
   "cell_type": "markdown",
   "id": "fcac286c",
   "metadata": {},
   "source": [
    "### 2. float \n",
    "   - contains decimals\n",
    "   - exponential - e1 is 10"
   ]
  },
  {
   "cell_type": "code",
   "execution_count": 5,
   "id": "8101ec42",
   "metadata": {},
   "outputs": [
    {
     "data": {
      "text/plain": [
       "110.45"
      ]
     },
     "execution_count": 5,
     "metadata": {},
     "output_type": "execute_result"
    }
   ],
   "source": [
    "petrol = 110.45\n",
    "petrol"
   ]
  },
  {
   "cell_type": "code",
   "execution_count": 6,
   "id": "307f0466",
   "metadata": {},
   "outputs": [],
   "source": [
    "f2 = 2e0"
   ]
  },
  {
   "cell_type": "code",
   "execution_count": 7,
   "id": "549e56bf",
   "metadata": {},
   "outputs": [
    {
     "data": {
      "text/plain": [
       "2.0"
      ]
     },
     "execution_count": 7,
     "metadata": {},
     "output_type": "execute_result"
    }
   ],
   "source": [
    "f2"
   ]
  },
  {
   "cell_type": "code",
   "execution_count": 26,
   "id": "e1cc986e",
   "metadata": {},
   "outputs": [
    {
     "data": {
      "text/plain": [
       "20.0"
      ]
     },
     "execution_count": 26,
     "metadata": {},
     "output_type": "execute_result"
    }
   ],
   "source": [
    "f3 = 2e1\n",
    "f3"
   ]
  },
  {
   "cell_type": "code",
   "execution_count": 10,
   "id": "649b917b",
   "metadata": {},
   "outputs": [
    {
     "data": {
      "text/plain": [
       "300.0"
      ]
     },
     "execution_count": 10,
     "metadata": {},
     "output_type": "execute_result"
    }
   ],
   "source": [
    "f4 = 3e2 #e2 is equivalent to 10^2 (i.e 100)\n",
    "f4"
   ]
  },
  {
   "cell_type": "code",
   "execution_count": 11,
   "id": "f5083cdc",
   "metadata": {},
   "outputs": [
    {
     "data": {
      "text/plain": [
       "3000.0"
      ]
     },
     "execution_count": 11,
     "metadata": {},
     "output_type": "execute_result"
    }
   ],
   "source": [
    "f5 = 3e3\n",
    "f5"
   ]
  },
  {
   "cell_type": "code",
   "execution_count": 12,
   "id": "4a7bab1a",
   "metadata": {},
   "outputs": [
    {
     "data": {
      "text/plain": [
       "2400.0"
      ]
     },
     "execution_count": 12,
     "metadata": {},
     "output_type": "execute_result"
    }
   ],
   "source": [
    "f6 = 2.4e3\n",
    "f6"
   ]
  },
  {
   "cell_type": "markdown",
   "id": "5d73fa31",
   "metadata": {},
   "source": [
    "- Inbuilt functions covered - print, type, id\n",
    "- Two types of functions - inbuilt vs user-defined"
   ]
  },
  {
   "cell_type": "markdown",
   "id": "92a471ab",
   "metadata": {},
   "source": [
    "In statistics\n",
    "- Numeric data  - Numbers\n",
    "- Categorical data - Text"
   ]
  },
  {
   "cell_type": "markdown",
   "id": "ee9cff61",
   "metadata": {},
   "source": [
    "### 3. String\n",
    "- 3 ways of defining a string:\n",
    "    ' ', \" \", ''' '''"
   ]
  },
  {
   "cell_type": "code",
   "execution_count": 18,
   "id": "0cdd2015",
   "metadata": {},
   "outputs": [
    {
     "data": {
      "text/plain": [
       "'nit'"
      ]
     },
     "execution_count": 18,
     "metadata": {},
     "output_type": "execute_result"
    }
   ],
   "source": [
    "s = 'nit'\n",
    "s"
   ]
  },
  {
   "cell_type": "code",
   "execution_count": 19,
   "id": "bda80399",
   "metadata": {},
   "outputs": [
    {
     "data": {
      "text/plain": [
       "'nit tech'"
      ]
     },
     "execution_count": 19,
     "metadata": {},
     "output_type": "execute_result"
    }
   ],
   "source": [
    "s1 = \"nit tech\"\n",
    "s1"
   ]
  },
  {
   "cell_type": "code",
   "execution_count": 20,
   "id": "a2fab42a",
   "metadata": {},
   "outputs": [
    {
     "data": {
      "text/plain": [
       "'nit tech'"
      ]
     },
     "execution_count": 20,
     "metadata": {},
     "output_type": "execute_result"
    }
   ],
   "source": [
    "s2 = '''nit tech'''\n",
    "s2"
   ]
  },
  {
   "cell_type": "markdown",
   "id": "f2b86af7",
   "metadata": {},
   "source": [
    "Difference between single, double and triple quotes"
   ]
  },
  {
   "cell_type": "code",
   "execution_count": 21,
   "id": "69362af0",
   "metadata": {},
   "outputs": [
    {
     "ename": "SyntaxError",
     "evalue": "EOL while scanning string literal (2247911082.py, line 1)",
     "output_type": "error",
     "traceback": [
      "\u001b[1;36m  Input \u001b[1;32mIn [21]\u001b[1;36m\u001b[0m\n\u001b[1;33m    s3 = 'nit\u001b[0m\n\u001b[1;37m             ^\u001b[0m\n\u001b[1;31mSyntaxError\u001b[0m\u001b[1;31m:\u001b[0m EOL while scanning string literal\n"
     ]
    }
   ],
   "source": [
    "s3 = 'nit\n",
    "        tech'"
   ]
  },
  {
   "cell_type": "code",
   "execution_count": 22,
   "id": "4cfb3015",
   "metadata": {},
   "outputs": [
    {
     "ename": "SyntaxError",
     "evalue": "EOL while scanning string literal (1173316524.py, line 1)",
     "output_type": "error",
     "traceback": [
      "\u001b[1;36m  Input \u001b[1;32mIn [22]\u001b[1;36m\u001b[0m\n\u001b[1;33m    s4 = \"nit\u001b[0m\n\u001b[1;37m              ^\u001b[0m\n\u001b[1;31mSyntaxError\u001b[0m\u001b[1;31m:\u001b[0m EOL while scanning string literal\n"
     ]
    }
   ],
   "source": [
    "s4 = \"nit \n",
    "    tech\""
   ]
  },
  {
   "cell_type": "code",
   "execution_count": 23,
   "id": "cf9b50ae",
   "metadata": {},
   "outputs": [],
   "source": [
    "s5 = '''nit \n",
    "        tech'''"
   ]
  },
  {
   "cell_type": "markdown",
   "id": "ea33720c",
   "metadata": {},
   "source": [
    "**Note**: Triple quotes is used for multiline strings"
   ]
  },
  {
   "cell_type": "markdown",
   "id": "14a6573b",
   "metadata": {},
   "source": [
    "### 4. Boolean"
   ]
  },
  {
   "cell_type": "code",
   "execution_count": 25,
   "id": "e79074c0",
   "metadata": {},
   "outputs": [
    {
     "ename": "NameError",
     "evalue": "name 'true' is not defined",
     "output_type": "error",
     "traceback": [
      "\u001b[1;31m---------------------------------------------------------------------------\u001b[0m",
      "\u001b[1;31mNameError\u001b[0m                                 Traceback (most recent call last)",
      "Input \u001b[1;32mIn [25]\u001b[0m, in \u001b[0;36m<cell line: 1>\u001b[1;34m()\u001b[0m\n\u001b[1;32m----> 1\u001b[0m b \u001b[38;5;241m=\u001b[39m \u001b[43mtrue\u001b[49m\n",
      "\u001b[1;31mNameError\u001b[0m: name 'true' is not defined"
     ]
    }
   ],
   "source": [
    "b = true"
   ]
  },
  {
   "cell_type": "code",
   "execution_count": 26,
   "id": "405efaad",
   "metadata": {},
   "outputs": [],
   "source": [
    "b = True"
   ]
  },
  {
   "cell_type": "code",
   "execution_count": 27,
   "id": "47e2f3cb",
   "metadata": {},
   "outputs": [],
   "source": [
    "b1 = False"
   ]
  },
  {
   "cell_type": "code",
   "execution_count": 28,
   "id": "5c4cb480",
   "metadata": {},
   "outputs": [
    {
     "data": {
      "text/plain": [
       "1"
      ]
     },
     "execution_count": 28,
     "metadata": {},
     "output_type": "execute_result"
    }
   ],
   "source": [
    "b + b1"
   ]
  },
  {
   "cell_type": "code",
   "execution_count": 29,
   "id": "2b30c17f",
   "metadata": {},
   "outputs": [
    {
     "data": {
      "text/plain": [
       "1"
      ]
     },
     "execution_count": 29,
     "metadata": {},
     "output_type": "execute_result"
    }
   ],
   "source": [
    "int(True)"
   ]
  },
  {
   "cell_type": "code",
   "execution_count": 30,
   "id": "eeff18c9",
   "metadata": {},
   "outputs": [
    {
     "data": {
      "text/plain": [
       "1"
      ]
     },
     "execution_count": 30,
     "metadata": {},
     "output_type": "execute_result"
    }
   ],
   "source": [
    "True + False"
   ]
  },
  {
   "cell_type": "code",
   "execution_count": 31,
   "id": "218a0a97",
   "metadata": {},
   "outputs": [
    {
     "data": {
      "text/plain": [
       "1"
      ]
     },
     "execution_count": 31,
     "metadata": {},
     "output_type": "execute_result"
    }
   ],
   "source": [
    "True - False"
   ]
  },
  {
   "cell_type": "code",
   "execution_count": 36,
   "id": "8667d0fa",
   "metadata": {},
   "outputs": [
    {
     "data": {
      "text/plain": [
       "1"
      ]
     },
     "execution_count": 36,
     "metadata": {},
     "output_type": "execute_result"
    }
   ],
   "source": [
    "True * True - False + False * True\n",
    "# Use BODMAS"
   ]
  },
  {
   "cell_type": "code",
   "execution_count": 37,
   "id": "164e3b12",
   "metadata": {},
   "outputs": [
    {
     "data": {
      "text/plain": [
       "0.0"
      ]
     },
     "execution_count": 37,
     "metadata": {},
     "output_type": "execute_result"
    }
   ],
   "source": [
    "False/True"
   ]
  },
  {
   "cell_type": "code",
   "execution_count": 38,
   "id": "a0b23988",
   "metadata": {},
   "outputs": [
    {
     "data": {
      "text/plain": [
       "0"
      ]
     },
     "execution_count": 38,
     "metadata": {},
     "output_type": "execute_result"
    }
   ],
   "source": [
    "False//True  # floor division"
   ]
  },
  {
   "cell_type": "code",
   "execution_count": 40,
   "id": "e37c9d02",
   "metadata": {},
   "outputs": [
    {
     "ename": "ZeroDivisionError",
     "evalue": "division by zero",
     "output_type": "error",
     "traceback": [
      "\u001b[1;31m---------------------------------------------------------------------------\u001b[0m",
      "\u001b[1;31mZeroDivisionError\u001b[0m                         Traceback (most recent call last)",
      "Input \u001b[1;32mIn [40]\u001b[0m, in \u001b[0;36m<cell line: 1>\u001b[1;34m()\u001b[0m\n\u001b[1;32m----> 1\u001b[0m \u001b[38;5;28;43;01mTrue\u001b[39;49;00m\u001b[38;5;241;43m/\u001b[39;49m\u001b[38;5;28;43;01mFalse\u001b[39;49;00m\n",
      "\u001b[1;31mZeroDivisionError\u001b[0m: division by zero"
     ]
    }
   ],
   "source": [
    "True/False\n",
    "# Interview Question"
   ]
  },
  {
   "cell_type": "markdown",
   "id": "9d050d62",
   "metadata": {},
   "source": [
    "### 5. Complex\n",
    "  a + bj"
   ]
  },
  {
   "cell_type": "code",
   "execution_count": 42,
   "id": "040bc1eb",
   "metadata": {},
   "outputs": [
    {
     "data": {
      "text/plain": [
       "complex"
      ]
     },
     "execution_count": 42,
     "metadata": {},
     "output_type": "execute_result"
    }
   ],
   "source": [
    "c = 1 + 2j \n",
    "type(c)"
   ]
  },
  {
   "cell_type": "code",
   "execution_count": 43,
   "id": "d53ba160",
   "metadata": {},
   "outputs": [
    {
     "data": {
      "text/plain": [
       "1.0"
      ]
     },
     "execution_count": 43,
     "metadata": {},
     "output_type": "execute_result"
    }
   ],
   "source": [
    "c.real"
   ]
  },
  {
   "cell_type": "code",
   "execution_count": 44,
   "id": "ae525e70",
   "metadata": {},
   "outputs": [
    {
     "data": {
      "text/plain": [
       "2.0"
      ]
     },
     "execution_count": 44,
     "metadata": {},
     "output_type": "execute_result"
    }
   ],
   "source": [
    "c.imag"
   ]
  },
  {
   "cell_type": "code",
   "execution_count": 45,
   "id": "aa9dc360",
   "metadata": {},
   "outputs": [],
   "source": [
    "d = 2 + 3j"
   ]
  },
  {
   "cell_type": "markdown",
   "id": "03a387b6",
   "metadata": {},
   "source": [
    "# Print function"
   ]
  },
  {
   "cell_type": "code",
   "execution_count": 46,
   "id": "35509e70",
   "metadata": {},
   "outputs": [
    {
     "name": "stdout",
     "output_type": "stream",
     "text": [
      "(1+2j)\n",
      "(2+3j)\n"
     ]
    }
   ],
   "source": [
    "print(c)\n",
    "print(d)"
   ]
  },
  {
   "cell_type": "code",
   "execution_count": 47,
   "id": "d4f57a8f",
   "metadata": {},
   "outputs": [
    {
     "data": {
      "text/plain": [
       "(3+5j)"
      ]
     },
     "execution_count": 47,
     "metadata": {},
     "output_type": "execute_result"
    }
   ],
   "source": [
    "c+d"
   ]
  },
  {
   "cell_type": "markdown",
   "id": "c9de2030",
   "metadata": {},
   "source": [
    "- fam - variable\n",
    "- family() - function\n",
    "- family(m,d) - 2 arguments or 2 parameters\n",
    "- add(x,y) - function with two arguments\n",
    "- mul(a,b,c) - function with three arguments"
   ]
  },
  {
   "cell_type": "code",
   "execution_count": 1,
   "id": "d1f3c6ee",
   "metadata": {},
   "outputs": [
    {
     "name": "stdout",
     "output_type": "stream",
     "text": [
      "1\n",
      "1 2\n",
      "1 2 3\n"
     ]
    }
   ],
   "source": [
    "print(1)\n",
    "print(1,2)\n",
    "print(1,2,3)"
   ]
  },
  {
   "cell_type": "code",
   "execution_count": 13,
   "id": "70a02d1a",
   "metadata": {},
   "outputs": [
    {
     "name": "stdout",
     "output_type": "stream",
     "text": [
      "The addition of 20 and 30 is= 50\n"
     ]
    }
   ],
   "source": [
    "num1 = 20\n",
    "num2 = 30\n",
    "add = num1 + num2\n",
    "print('The addition of',num1, 'and', num2, 'is=',add )"
   ]
  },
  {
   "cell_type": "markdown",
   "id": "1df36b43",
   "metadata": {},
   "source": [
    "**Format method**"
   ]
  },
  {
   "cell_type": "code",
   "execution_count": 16,
   "id": "ac70f9a7",
   "metadata": {},
   "outputs": [
    {
     "name": "stdout",
     "output_type": "stream",
     "text": [
      "The addition of 20 and 30 = 50\n"
     ]
    }
   ],
   "source": [
    "num1 = 20\n",
    "num2 = 30\n",
    "add = num1 + num2\n",
    "print('The addition of {} and {} = {}'.format(num1,num2,add))"
   ]
  },
  {
   "cell_type": "code",
   "execution_count": 17,
   "id": "4ea08f76",
   "metadata": {},
   "outputs": [
    {
     "name": "stdout",
     "output_type": "stream",
     "text": [
      "Hello, my name is Srujana, I am from Hyderabad\n"
     ]
    }
   ],
   "source": [
    "print('Hello, my name is {}, I am from {}'.format('Srujana','Hyderabad'))"
   ]
  },
  {
   "cell_type": "code",
   "execution_count": 19,
   "id": "d9fb95b6",
   "metadata": {},
   "outputs": [
    {
     "data": {
      "text/plain": [
       "58.333333333333336"
      ]
     },
     "execution_count": 19,
     "metadata": {},
     "output_type": "execute_result"
    }
   ],
   "source": [
    "num1 = 100\n",
    "num2 = 50\n",
    "num3 = 25\n",
    "avg = (num1 + num2 + num3)/3\n",
    "avg"
   ]
  },
  {
   "cell_type": "code",
   "execution_count": 20,
   "id": "9aee6b9d",
   "metadata": {},
   "outputs": [
    {
     "data": {
      "text/plain": [
       "58.33"
      ]
     },
     "execution_count": 20,
     "metadata": {},
     "output_type": "execute_result"
    }
   ],
   "source": [
    "avg1 = round((num1 + num2 + num3)/3,2)\n",
    "avg1"
   ]
  },
  {
   "cell_type": "code",
   "execution_count": 23,
   "id": "eb8a65a0",
   "metadata": {},
   "outputs": [
    {
     "name": "stdout",
     "output_type": "stream",
     "text": [
      "The average of 100, 50 and 25 is 58.33\n"
     ]
    }
   ],
   "source": [
    "print('The average of {}, {} and {} is {}'.format(num1,num2,num3,avg1))"
   ]
  },
  {
   "cell_type": "markdown",
   "id": "2dea6d47",
   "metadata": {},
   "source": [
    "**f string method**"
   ]
  },
  {
   "cell_type": "code",
   "execution_count": 25,
   "id": "95ed8c33",
   "metadata": {},
   "outputs": [
    {
     "name": "stdout",
     "output_type": "stream",
     "text": [
      "The addition of 50 and 60 is 110\n"
     ]
    }
   ],
   "source": [
    "num4 = 50\n",
    "num5 = 60\n",
    "add1 = num4 + num5\n",
    "print(f'The addition of {num4} and {num5} is {add1}')"
   ]
  },
  {
   "cell_type": "markdown",
   "id": "ef6bf2de",
   "metadata": {},
   "source": [
    "**end statement**"
   ]
  },
  {
   "cell_type": "code",
   "execution_count": 26,
   "id": "da03475c",
   "metadata": {},
   "outputs": [
    {
     "name": "stdout",
     "output_type": "stream",
     "text": [
      "hello\n",
      "good morning\n"
     ]
    }
   ],
   "source": [
    "print('hello')\n",
    "print('good morning')"
   ]
  },
  {
   "cell_type": "code",
   "execution_count": 28,
   "id": "3fb9d99a",
   "metadata": {},
   "outputs": [
    {
     "name": "stdout",
     "output_type": "stream",
     "text": [
      "Hi Srujana, Good Morning\n"
     ]
    }
   ],
   "source": [
    "print('Hi',end=' ')\n",
    "print('Srujana, Good Morning')"
   ]
  },
  {
   "cell_type": "markdown",
   "id": "49f88ae9",
   "metadata": {},
   "source": [
    "**separator**"
   ]
  },
  {
   "cell_type": "code",
   "execution_count": 30,
   "id": "a3027ad2",
   "metadata": {},
   "outputs": [
    {
     "name": "stdout",
     "output_type": "stream",
     "text": [
      "Hi!Hello!Long time\n"
     ]
    }
   ],
   "source": [
    "print('Hi','Hello','Long time',sep='!')"
   ]
  },
  {
   "cell_type": "code",
   "execution_count": 31,
   "id": "109174f3",
   "metadata": {},
   "outputs": [
    {
     "name": "stdout",
     "output_type": "stream",
     "text": [
      "Hi Hello Long time\n"
     ]
    }
   ],
   "source": [
    "print('Hi','Hello','Long time',sep=' ')"
   ]
  },
  {
   "cell_type": "code",
   "execution_count": 32,
   "id": "f4cae389",
   "metadata": {},
   "outputs": [
    {
     "name": "stdout",
     "output_type": "stream",
     "text": [
      "4 .\n"
     ]
    }
   ],
   "source": [
    "print(4,'.')"
   ]
  },
  {
   "cell_type": "code",
   "execution_count": 33,
   "id": "3b67ea63",
   "metadata": {},
   "outputs": [
    {
     "name": "stdout",
     "output_type": "stream",
     "text": [
      "4.\n"
     ]
    }
   ],
   "source": [
    "print(4,'.',sep='')\n",
    "#also used to reduce space"
   ]
  },
  {
   "cell_type": "code",
   "execution_count": 35,
   "id": "dd7cee2e",
   "metadata": {},
   "outputs": [
    {
     "data": {
      "text/plain": [
       "float"
      ]
     },
     "execution_count": 35,
     "metadata": {},
     "output_type": "execute_result"
    }
   ],
   "source": [
    "# Interesting info\n",
    "\n",
    "#1. What is the datatype of np.nan?\n",
    "import numpy as np\n",
    "type(np.nan)"
   ]
  },
  {
   "cell_type": "code",
   "execution_count": 39,
   "id": "88da1091",
   "metadata": {},
   "outputs": [
    {
     "data": {
      "text/plain": [
       "tuple"
      ]
     },
     "execution_count": 39,
     "metadata": {},
     "output_type": "execute_result"
    }
   ],
   "source": [
    "x = 7,\n",
    "type(x)"
   ]
  },
  {
   "cell_type": "markdown",
   "id": "b4653b33",
   "metadata": {},
   "source": [
    " ### Basic Python "
   ]
  },
  {
   "cell_type": "code",
   "execution_count": 1,
   "id": "7839debc",
   "metadata": {},
   "outputs": [
    {
     "ename": "TypeError",
     "evalue": "unsupported operand type(s) for +: 'int' and 'str'",
     "output_type": "error",
     "traceback": [
      "\u001b[1;31m---------------------------------------------------------------------------\u001b[0m",
      "\u001b[1;31mTypeError\u001b[0m                                 Traceback (most recent call last)",
      "Input \u001b[1;32mIn [1]\u001b[0m, in \u001b[0;36m<cell line: 3>\u001b[1;34m()\u001b[0m\n\u001b[0;32m      1\u001b[0m a \u001b[38;5;241m=\u001b[39m \u001b[38;5;241m3\u001b[39m\n\u001b[0;32m      2\u001b[0m b \u001b[38;5;241m=\u001b[39m \u001b[38;5;124m'\u001b[39m\u001b[38;5;124ms\u001b[39m\u001b[38;5;124m'\u001b[39m\n\u001b[1;32m----> 3\u001b[0m \u001b[43ma\u001b[49m\u001b[43m \u001b[49m\u001b[38;5;241;43m+\u001b[39;49m\u001b[43m \u001b[49m\u001b[43mb\u001b[49m\n",
      "\u001b[1;31mTypeError\u001b[0m: unsupported operand type(s) for +: 'int' and 'str'"
     ]
    }
   ],
   "source": [
    "a = 3\n",
    "b = 's'\n",
    "a + b\n",
    "# Note the error, int and str cannot be added"
   ]
  },
  {
   "cell_type": "code",
   "execution_count": 4,
   "id": "9562ccf6",
   "metadata": {},
   "outputs": [
    {
     "name": "stdout",
     "output_type": "stream",
     "text": [
      "\n",
      "Welcome to Python 3.9's help utility!\n",
      "\n",
      "If this is your first time using Python, you should definitely check out\n",
      "the tutorial on the Internet at https://docs.python.org/3.9/tutorial/.\n",
      "\n",
      "Enter the name of any module, keyword, or topic to get help on writing\n",
      "Python programs and using Python modules.  To quit this help utility and\n",
      "return to the interpreter, just type \"quit\".\n",
      "\n",
      "To get a list of available modules, keywords, symbols, or topics, type\n",
      "\"modules\", \"keywords\", \"symbols\", or \"topics\".  Each module also comes\n",
      "with a one-line summary of what it does; to list the modules whose name\n",
      "or summary contain a given string such as \"spam\", type \"modules spam\".\n",
      "\n",
      "help> quit\n",
      "\n",
      "You are now leaving help and returning to the Python interpreter.\n",
      "If you want to ask for help on a particular object directly from the\n",
      "interpreter, you can type \"help(object)\".  Executing \"help('string')\"\n",
      "has the same effect as typing a particular string at the help> prompt.\n"
     ]
    }
   ],
   "source": [
    "help()"
   ]
  },
  {
   "cell_type": "code",
   "execution_count": 5,
   "id": "39f980f2",
   "metadata": {},
   "outputs": [
    {
     "name": "stdout",
     "output_type": "stream",
     "text": [
      "\n",
      "Welcome to Python 3.9's help utility!\n",
      "\n",
      "If this is your first time using Python, you should definitely check out\n",
      "the tutorial on the Internet at https://docs.python.org/3.9/tutorial/.\n",
      "\n",
      "Enter the name of any module, keyword, or topic to get help on writing\n",
      "Python programs and using Python modules.  To quit this help utility and\n",
      "return to the interpreter, just type \"quit\".\n",
      "\n",
      "To get a list of available modules, keywords, symbols, or topics, type\n",
      "\"modules\", \"keywords\", \"symbols\", or \"topics\".  Each module also comes\n",
      "with a one-line summary of what it does; to list the modules whose name\n",
      "or summary contain a given string such as \"spam\", type \"modules spam\".\n",
      "\n",
      "help> keyword\n",
      "Help on module keyword:\n",
      "\n",
      "NAME\n",
      "    keyword - Keywords (from \"Grammar/python.gram\")\n",
      "\n",
      "MODULE REFERENCE\n",
      "    https://docs.python.org/3.9/library/keyword\n",
      "    \n",
      "    The following documentation is automatically generated from the Python\n",
      "    source files.  It may be incomplete, incorrect or include features that\n",
      "    are considered implementation detail and may vary between Python\n",
      "    implementations.  When in doubt, consult the module reference at the\n",
      "    location listed above.\n",
      "\n",
      "DESCRIPTION\n",
      "    This file is automatically generated; please don't muck it up!\n",
      "    \n",
      "    To update the symbols in this file, 'cd' to the top directory of\n",
      "    the python source tree and run:\n",
      "    \n",
      "        PYTHONPATH=Tools/peg_generator python3 -m pegen.keywordgen         Grammar/Grammar         Grammar/Tokens         Lib/keyword.py\n",
      "    \n",
      "    Alternatively, you can run 'make regen-keyword'.\n",
      "\n",
      "FUNCTIONS\n",
      "    iskeyword = __contains__(...) method of builtins.frozenset instance\n",
      "        x.__contains__(y) <==> y in x.\n",
      "    \n",
      "    issoftkeyword = __contains__(...) method of builtins.frozenset instance\n",
      "        x.__contains__(y) <==> y in x.\n",
      "\n",
      "DATA\n",
      "    __all__ = ['iskeyword', 'issoftkeyword', 'kwlist', 'softkwlist']\n",
      "    kwlist = ['False', 'None', 'True', '__peg_parser__', 'and', 'as', 'ass...\n",
      "    softkwlist = []\n",
      "\n",
      "FILE\n",
      "    c:\\users\\sruja\\anaconda3\\lib\\keyword.py\n",
      "\n",
      "\n",
      "help> lisy\n",
      "No Python documentation found for 'lisy'.\n",
      "Use help() to get the interactive help utility.\n",
      "Use help(str) for help on the str class.\n",
      "\n",
      "help> list\n",
      "Help on class list in module builtins:\n",
      "\n",
      "class list(object)\n",
      " |  list(iterable=(), /)\n",
      " |  \n",
      " |  Built-in mutable sequence.\n",
      " |  \n",
      " |  If no argument is given, the constructor creates a new empty list.\n",
      " |  The argument must be an iterable if specified.\n",
      " |  \n",
      " |  Methods defined here:\n",
      " |  \n",
      " |  __add__(self, value, /)\n",
      " |      Return self+value.\n",
      " |  \n",
      " |  __contains__(self, key, /)\n",
      " |      Return key in self.\n",
      " |  \n",
      " |  __delitem__(self, key, /)\n",
      " |      Delete self[key].\n",
      " |  \n",
      " |  __eq__(self, value, /)\n",
      " |      Return self==value.\n",
      " |  \n",
      " |  __ge__(self, value, /)\n",
      " |      Return self>=value.\n",
      " |  \n",
      " |  __getattribute__(self, name, /)\n",
      " |      Return getattr(self, name).\n",
      " |  \n",
      " |  __getitem__(...)\n",
      " |      x.__getitem__(y) <==> x[y]\n",
      " |  \n",
      " |  __gt__(self, value, /)\n",
      " |      Return self>value.\n",
      " |  \n",
      " |  __iadd__(self, value, /)\n",
      " |      Implement self+=value.\n",
      " |  \n",
      " |  __imul__(self, value, /)\n",
      " |      Implement self*=value.\n",
      " |  \n",
      " |  __init__(self, /, *args, **kwargs)\n",
      " |      Initialize self.  See help(type(self)) for accurate signature.\n",
      " |  \n",
      " |  __iter__(self, /)\n",
      " |      Implement iter(self).\n",
      " |  \n",
      " |  __le__(self, value, /)\n",
      " |      Return self<=value.\n",
      " |  \n",
      " |  __len__(self, /)\n",
      " |      Return len(self).\n",
      " |  \n",
      " |  __lt__(self, value, /)\n",
      " |      Return self<value.\n",
      " |  \n",
      " |  __mul__(self, value, /)\n",
      " |      Return self*value.\n",
      " |  \n",
      " |  __ne__(self, value, /)\n",
      " |      Return self!=value.\n",
      " |  \n",
      " |  __repr__(self, /)\n",
      " |      Return repr(self).\n",
      " |  \n",
      " |  __reversed__(self, /)\n",
      " |      Return a reverse iterator over the list.\n",
      " |  \n",
      " |  __rmul__(self, value, /)\n",
      " |      Return value*self.\n",
      " |  \n",
      " |  __setitem__(self, key, value, /)\n",
      " |      Set self[key] to value.\n",
      " |  \n",
      " |  __sizeof__(self, /)\n",
      " |      Return the size of the list in memory, in bytes.\n",
      " |  \n",
      " |  append(self, object, /)\n",
      " |      Append object to the end of the list.\n",
      " |  \n",
      " |  clear(self, /)\n",
      " |      Remove all items from list.\n",
      " |  \n",
      " |  copy(self, /)\n",
      " |      Return a shallow copy of the list.\n",
      " |  \n",
      " |  count(self, value, /)\n",
      " |      Return number of occurrences of value.\n",
      " |  \n",
      " |  extend(self, iterable, /)\n",
      " |      Extend list by appending elements from the iterable.\n",
      " |  \n",
      " |  index(self, value, start=0, stop=9223372036854775807, /)\n",
      " |      Return first index of value.\n",
      " |      \n",
      " |      Raises ValueError if the value is not present.\n",
      " |  \n",
      " |  insert(self, index, object, /)\n",
      " |      Insert object before index.\n",
      " |  \n",
      " |  pop(self, index=-1, /)\n",
      " |      Remove and return item at index (default last).\n",
      " |      \n",
      " |      Raises IndexError if list is empty or index is out of range.\n",
      " |  \n",
      " |  remove(self, value, /)\n",
      " |      Remove first occurrence of value.\n",
      " |      \n",
      " |      Raises ValueError if the value is not present.\n",
      " |  \n",
      " |  reverse(self, /)\n",
      " |      Reverse *IN PLACE*.\n",
      " |  \n",
      " |  sort(self, /, *, key=None, reverse=False)\n",
      " |      Sort the list in ascending order and return None.\n",
      " |      \n",
      " |      The sort is in-place (i.e. the list itself is modified) and stable (i.e. the\n",
      " |      order of two equal elements is maintained).\n",
      " |      \n",
      " |      If a key function is given, apply it once to each list item and sort them,\n",
      " |      ascending or descending, according to their function values.\n",
      " |      \n",
      " |      The reverse flag can be set to sort in descending order.\n",
      " |  \n",
      " |  ----------------------------------------------------------------------\n",
      " |  Class methods defined here:\n",
      " |  \n",
      " |  __class_getitem__(...) from builtins.type\n",
      " |      See PEP 585\n",
      " |  \n",
      " |  ----------------------------------------------------------------------\n",
      " |  Static methods defined here:\n",
      " |  \n",
      " |  __new__(*args, **kwargs) from builtins.type\n",
      " |      Create and return a new object.  See help(type) for accurate signature.\n",
      " |  \n",
      " |  ----------------------------------------------------------------------\n",
      " |  Data and other attributes defined here:\n",
      " |  \n",
      " |  __hash__ = None\n",
      "\n",
      "help> quit\n",
      "\n",
      "You are now leaving help and returning to the Python interpreter.\n",
      "If you want to ask for help on a particular object directly from the\n",
      "interpreter, you can type \"help(object)\".  Executing \"help('string')\"\n",
      "has the same effect as typing a particular string at the help> prompt.\n"
     ]
    }
   ],
   "source": [
    "help()\n",
    "# when this is used, proper termination/quit needs to be done"
   ]
  },
  {
   "cell_type": "code",
   "execution_count": null,
   "id": "8681584b",
   "metadata": {},
   "outputs": [],
   "source": [
    "id()"
   ]
  },
  {
   "cell_type": "code",
   "execution_count": 7,
   "id": "0f643b7b",
   "metadata": {},
   "outputs": [
    {
     "data": {
      "text/plain": [
       "3.9"
      ]
     },
     "execution_count": 7,
     "metadata": {},
     "output_type": "execute_result"
    }
   ],
   "source": [
    "pi = 3.14\n",
    "pi = 3.9\n",
    "pi\n",
    "# pi is a constant in math, but pi is not a constant in python, it is like any other variable\n",
    "# Python has only variables"
   ]
  },
  {
   "cell_type": "markdown",
   "id": "fbe27abe",
   "metadata": {},
   "source": [
    "### Range"
   ]
  },
  {
   "cell_type": "code",
   "execution_count": 8,
   "id": "40633497",
   "metadata": {},
   "outputs": [
    {
     "data": {
      "text/plain": [
       "range(0, 6)"
      ]
     },
     "execution_count": 8,
     "metadata": {},
     "output_type": "execute_result"
    }
   ],
   "source": [
    "range(6)"
   ]
  },
  {
   "cell_type": "code",
   "execution_count": 9,
   "id": "538b0b06",
   "metadata": {},
   "outputs": [
    {
     "data": {
      "text/plain": [
       "[0, 1, 2, 3, 4, 5]"
      ]
     },
     "execution_count": 9,
     "metadata": {},
     "output_type": "execute_result"
    }
   ],
   "source": [
    "list(range(6))"
   ]
  },
  {
   "cell_type": "code",
   "execution_count": 27,
   "id": "e2027a9f",
   "metadata": {},
   "outputs": [
    {
     "data": {
      "text/plain": [
       "(0, 1, 2, 3, 4, 5)"
      ]
     },
     "execution_count": 27,
     "metadata": {},
     "output_type": "execute_result"
    }
   ],
   "source": [
    "tuple(range(6))"
   ]
  },
  {
   "cell_type": "code",
   "execution_count": 10,
   "id": "95f20b98",
   "metadata": {},
   "outputs": [
    {
     "data": {
      "text/plain": [
       "range(10, 20)"
      ]
     },
     "execution_count": 10,
     "metadata": {},
     "output_type": "execute_result"
    }
   ],
   "source": [
    "r = range(10,20)\n",
    "r"
   ]
  },
  {
   "cell_type": "code",
   "execution_count": 11,
   "id": "9e2d79b6",
   "metadata": {},
   "outputs": [
    {
     "name": "stdout",
     "output_type": "stream",
     "text": [
      "10\n",
      "11\n",
      "12\n",
      "13\n",
      "14\n",
      "15\n",
      "16\n",
      "17\n",
      "18\n",
      "19\n"
     ]
    }
   ],
   "source": [
    "for i in r:\n",
    "    print(i)"
   ]
  },
  {
   "cell_type": "code",
   "execution_count": 12,
   "id": "ac604169",
   "metadata": {},
   "outputs": [
    {
     "data": {
      "text/plain": [
       "range(1, 100, 10)"
      ]
     },
     "execution_count": 12,
     "metadata": {},
     "output_type": "execute_result"
    }
   ],
   "source": [
    "r1 = range(1,100,10)\n",
    "r1"
   ]
  },
  {
   "cell_type": "code",
   "execution_count": 13,
   "id": "8ef472b4",
   "metadata": {},
   "outputs": [
    {
     "name": "stdout",
     "output_type": "stream",
     "text": [
      "1\n",
      "11\n",
      "21\n",
      "31\n",
      "41\n",
      "51\n",
      "61\n",
      "71\n",
      "81\n",
      "91\n"
     ]
    }
   ],
   "source": [
    "for i in r1:\n",
    "    print(i)"
   ]
  },
  {
   "cell_type": "code",
   "execution_count": 14,
   "id": "dfd12cb2",
   "metadata": {},
   "outputs": [
    {
     "data": {
      "text/plain": [
       "[1, 11, 21, 31, 41, 51, 61, 71, 81, 91]"
      ]
     },
     "execution_count": 14,
     "metadata": {},
     "output_type": "execute_result"
    }
   ],
   "source": [
    "list(r1)"
   ]
  },
  {
   "cell_type": "code",
   "execution_count": 15,
   "id": "20c9b7c5",
   "metadata": {},
   "outputs": [
    {
     "ename": "TypeError",
     "evalue": "range expected at most 3 arguments, got 4",
     "output_type": "error",
     "traceback": [
      "\u001b[1;31m---------------------------------------------------------------------------\u001b[0m",
      "\u001b[1;31mTypeError\u001b[0m                                 Traceback (most recent call last)",
      "Input \u001b[1;32mIn [15]\u001b[0m, in \u001b[0;36m<cell line: 1>\u001b[1;34m()\u001b[0m\n\u001b[1;32m----> 1\u001b[0m \u001b[38;5;28;43mrange\u001b[39;49m\u001b[43m(\u001b[49m\u001b[38;5;241;43m1\u001b[39;49m\u001b[43m,\u001b[49m\u001b[38;5;241;43m10\u001b[39;49m\u001b[43m,\u001b[49m\u001b[38;5;241;43m1\u001b[39;49m\u001b[43m,\u001b[49m\u001b[38;5;241;43m3\u001b[39;49m\u001b[43m)\u001b[49m\n",
      "\u001b[1;31mTypeError\u001b[0m: range expected at most 3 arguments, got 4"
     ]
    }
   ],
   "source": [
    "range(1,10,1,3)\n",
    "# range accepts at most 3 arguments"
   ]
  },
  {
   "cell_type": "code",
   "execution_count": 16,
   "id": "b946ce3b",
   "metadata": {},
   "outputs": [
    {
     "ename": "TypeError",
     "evalue": "range expected at least 1 argument, got 0",
     "output_type": "error",
     "traceback": [
      "\u001b[1;31m---------------------------------------------------------------------------\u001b[0m",
      "\u001b[1;31mTypeError\u001b[0m                                 Traceback (most recent call last)",
      "Input \u001b[1;32mIn [16]\u001b[0m, in \u001b[0;36m<cell line: 1>\u001b[1;34m()\u001b[0m\n\u001b[1;32m----> 1\u001b[0m r5 \u001b[38;5;241m=\u001b[39m \u001b[38;5;28;43mrange\u001b[39;49m\u001b[43m(\u001b[49m\u001b[43m)\u001b[49m\n",
      "\u001b[1;31mTypeError\u001b[0m: range expected at least 1 argument, got 0"
     ]
    }
   ],
   "source": [
    "r5 = range()\n",
    "# range accepts at least 1 argument"
   ]
  },
  {
   "cell_type": "markdown",
   "id": "157d3f8a",
   "metadata": {},
   "source": [
    "### Number System\n",
    "- Binary - 2 values, Base 2        - 0 to 1\n",
    "- Octal - 8 values, Base 8         - 0 to 7\n",
    "- Decimal - 10 values, Base 10     - 0 to 9\n",
    "- Hexadecimal - 16 values, Base 16 - 0 to 9, a, b, c, d, e, f          # Real-time application: IP Address"
   ]
  },
  {
   "cell_type": "code",
   "execution_count": 17,
   "id": "98011c7e",
   "metadata": {},
   "outputs": [
    {
     "data": {
      "text/plain": [
       "25"
      ]
     },
     "execution_count": 17,
     "metadata": {},
     "output_type": "execute_result"
    }
   ],
   "source": [
    "25"
   ]
  },
  {
   "cell_type": "code",
   "execution_count": 18,
   "id": "d8238d80",
   "metadata": {},
   "outputs": [
    {
     "data": {
      "text/plain": [
       "'0b11001'"
      ]
     },
     "execution_count": 18,
     "metadata": {},
     "output_type": "execute_result"
    }
   ],
   "source": [
    "bin(25)\n",
    "# 0b"
   ]
  },
  {
   "cell_type": "code",
   "execution_count": 19,
   "id": "55d4c21c",
   "metadata": {},
   "outputs": [
    {
     "data": {
      "text/plain": [
       "25"
      ]
     },
     "execution_count": 19,
     "metadata": {},
     "output_type": "execute_result"
    }
   ],
   "source": [
    "int(0b11001)"
   ]
  },
  {
   "cell_type": "code",
   "execution_count": 28,
   "id": "741bd336",
   "metadata": {},
   "outputs": [
    {
     "data": {
      "text/plain": [
       "'0o31'"
      ]
     },
     "execution_count": 28,
     "metadata": {},
     "output_type": "execute_result"
    }
   ],
   "source": [
    "oct(25)"
   ]
  },
  {
   "cell_type": "code",
   "execution_count": 29,
   "id": "2965dc65",
   "metadata": {},
   "outputs": [
    {
     "data": {
      "text/plain": [
       "'0x19'"
      ]
     },
     "execution_count": 29,
     "metadata": {},
     "output_type": "execute_result"
    }
   ],
   "source": [
    "hex(25)"
   ]
  },
  {
   "cell_type": "markdown",
   "id": "a104a228",
   "metadata": {},
   "source": [
    "**Swap two variables without using a third variable**"
   ]
  },
  {
   "cell_type": "code",
   "execution_count": 23,
   "id": "3c955a65",
   "metadata": {},
   "outputs": [
    {
     "data": {
      "text/plain": [
       "(6, 5)"
      ]
     },
     "execution_count": 23,
     "metadata": {},
     "output_type": "execute_result"
    }
   ],
   "source": [
    "# 1. using a third variable is the usual method\n",
    "a,b = 5,6\n",
    "temp = a\n",
    "a = b\n",
    "b = temp\n",
    "a,b"
   ]
  },
  {
   "cell_type": "code",
   "execution_count": 24,
   "id": "a5839fe6",
   "metadata": {},
   "outputs": [
    {
     "data": {
      "text/plain": [
       "(6, 5)"
      ]
     },
     "execution_count": 24,
     "metadata": {},
     "output_type": "execute_result"
    }
   ],
   "source": [
    "# 2. using addition and subtraction\n",
    "a2,b2 = 5,6\n",
    "a2 = a2 + b2\n",
    "b2 = a2 - b2\n",
    "a2 = a2 - b2\n",
    "a2,b2"
   ]
  },
  {
   "cell_type": "code",
   "execution_count": 35,
   "id": "0cc9f6b1",
   "metadata": {},
   "outputs": [
    {
     "data": {
      "text/plain": [
       "(10, 50)"
      ]
     },
     "execution_count": 35,
     "metadata": {},
     "output_type": "execute_result"
    }
   ],
   "source": [
    "# 3. Using binary number system, XOR\n",
    "x, y = 50, 10\n",
    "x = x ^ y\n",
    "y = x ^ y\n",
    "x = x ^ y\n",
    "x, y"
   ]
  },
  {
   "cell_type": "code",
   "execution_count": null,
   "id": "c08bc5df",
   "metadata": {},
   "outputs": [],
   "source": [
    "# 4. Most efficient\n",
    "a,b = 5,6\n",
    "b,a = a,b\n",
    "a,b\n",
    "\n",
    "# Internally, rotational concept is used"
   ]
  },
  {
   "cell_type": "code",
   "execution_count": 20,
   "id": "d0843267",
   "metadata": {},
   "outputs": [],
   "source": [
    "# Applications of swap - decorator in Python"
   ]
  },
  {
   "cell_type": "markdown",
   "id": "8df66a7f",
   "metadata": {},
   "source": [
    "### Summary\n",
    "- type()\n",
    "- id()\n",
    "- print()\n",
    "- range()\n",
    "- 4 ways to swap two variables"
   ]
  }
 ],
 "metadata": {
  "kernelspec": {
   "display_name": "Python 3 (ipykernel)",
   "language": "python",
   "name": "python3"
  },
  "language_info": {
   "codemirror_mode": {
    "name": "ipython",
    "version": 3
   },
   "file_extension": ".py",
   "mimetype": "text/x-python",
   "name": "python",
   "nbconvert_exporter": "python",
   "pygments_lexer": "ipython3",
   "version": "3.9.12"
  }
 },
 "nbformat": 4,
 "nbformat_minor": 5
}
