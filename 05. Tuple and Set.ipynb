{
 "cells": [
  {
   "cell_type": "markdown",
   "id": "7448c32e",
   "metadata": {},
   "source": [
    "# Tuple"
   ]
  },
  {
   "cell_type": "code",
   "execution_count": 1,
   "id": "f00a78e2",
   "metadata": {},
   "outputs": [],
   "source": [
    "t = tuple() #Creating an empty tuple"
   ]
  },
  {
   "cell_type": "code",
   "execution_count": 2,
   "id": "21da8d7b",
   "metadata": {},
   "outputs": [],
   "source": [
    "t1 = () #Another way to create an empty tuple"
   ]
  },
  {
   "cell_type": "code",
   "execution_count": 3,
   "id": "18cd64c4",
   "metadata": {},
   "outputs": [
    {
     "data": {
      "text/plain": [
       "tuple"
      ]
     },
     "execution_count": 3,
     "metadata": {},
     "output_type": "execute_result"
    }
   ],
   "source": [
    "type(t)"
   ]
  },
  {
   "cell_type": "code",
   "execution_count": 4,
   "id": "a8e6313f",
   "metadata": {},
   "outputs": [],
   "source": [
    "t1 = (10,20,30,40)"
   ]
  },
  {
   "cell_type": "code",
   "execution_count": 7,
   "id": "0f2827c6",
   "metadata": {},
   "outputs": [
    {
     "data": {
      "text/plain": [
       "(1, 1, 5, (2+3j), 'Nit', True)"
      ]
     },
     "execution_count": 7,
     "metadata": {},
     "output_type": "execute_result"
    }
   ],
   "source": [
    "t2 = (1,1,5,2+3j,'Nit',True)\n",
    "t2\n",
    "# Different data types can be present"
   ]
  },
  {
   "cell_type": "code",
   "execution_count": 8,
   "id": "4676880a",
   "metadata": {},
   "outputs": [],
   "source": [
    "t1 = t2"
   ]
  },
  {
   "cell_type": "code",
   "execution_count": 9,
   "id": "7dc412c3",
   "metadata": {},
   "outputs": [
    {
     "data": {
      "text/plain": [
       "2662857952032"
      ]
     },
     "execution_count": 9,
     "metadata": {},
     "output_type": "execute_result"
    }
   ],
   "source": [
    "id(t1)"
   ]
  },
  {
   "cell_type": "code",
   "execution_count": 10,
   "id": "1711b8b4",
   "metadata": {},
   "outputs": [
    {
     "data": {
      "text/plain": [
       "2662857952032"
      ]
     },
     "execution_count": 10,
     "metadata": {},
     "output_type": "execute_result"
    }
   ],
   "source": [
    "id(t2)"
   ]
  },
  {
   "cell_type": "code",
   "execution_count": 13,
   "id": "b2e96b96",
   "metadata": {},
   "outputs": [
    {
     "ename": "TypeError",
     "evalue": "'tuple' object does not support item assignment",
     "output_type": "error",
     "traceback": [
      "\u001b[1;31m---------------------------------------------------------------------------\u001b[0m",
      "\u001b[1;31mTypeError\u001b[0m                                 Traceback (most recent call last)",
      "Input \u001b[1;32mIn [13]\u001b[0m, in \u001b[0;36m<cell line: 1>\u001b[1;34m()\u001b[0m\n\u001b[1;32m----> 1\u001b[0m t1[\u001b[38;5;241m0\u001b[39m] \u001b[38;5;241m=\u001b[39m \u001b[38;5;241m20\u001b[39m\n",
      "\u001b[1;31mTypeError\u001b[0m: 'tuple' object does not support item assignment"
     ]
    }
   ],
   "source": [
    "t1[0] = 20\n",
    "#immutable"
   ]
  },
  {
   "cell_type": "code",
   "execution_count": 53,
   "id": "d872a9d6",
   "metadata": {},
   "outputs": [],
   "source": [
    "t2 = [10,10,20,30,40,50]\n",
    "# Duplicates are allowed"
   ]
  },
  {
   "cell_type": "code",
   "execution_count": 15,
   "id": "85788539",
   "metadata": {},
   "outputs": [
    {
     "data": {
      "text/plain": [
       "[10, 20, 40]"
      ]
     },
     "execution_count": 15,
     "metadata": {},
     "output_type": "execute_result"
    }
   ],
   "source": [
    "t2[::2]"
   ]
  },
  {
   "cell_type": "code",
   "execution_count": 16,
   "id": "e4df12fa",
   "metadata": {},
   "outputs": [
    {
     "data": {
      "text/plain": [
       "2"
      ]
     },
     "execution_count": 16,
     "metadata": {},
     "output_type": "execute_result"
    }
   ],
   "source": [
    "t2.count(10)"
   ]
  },
  {
   "cell_type": "code",
   "execution_count": 17,
   "id": "00555b7e",
   "metadata": {},
   "outputs": [
    {
     "data": {
      "text/plain": [
       "0"
      ]
     },
     "execution_count": 17,
     "metadata": {},
     "output_type": "execute_result"
    }
   ],
   "source": [
    "t2.index(10)"
   ]
  },
  {
   "cell_type": "markdown",
   "id": "e1e80cd4",
   "metadata": {},
   "source": [
    "**Looping through a tuple**"
   ]
  },
  {
   "cell_type": "code",
   "execution_count": 55,
   "id": "61d76686",
   "metadata": {},
   "outputs": [
    {
     "name": "stdout",
     "output_type": "stream",
     "text": [
      "10\n",
      "10\n",
      "20\n",
      "30\n",
      "40\n",
      "50\n"
     ]
    }
   ],
   "source": [
    "for i in t2:\n",
    "    print(i)"
   ]
  },
  {
   "cell_type": "code",
   "execution_count": 18,
   "id": "726fc1dc",
   "metadata": {},
   "outputs": [
    {
     "name": "stdout",
     "output_type": "stream",
     "text": [
      "(0, 10)\n",
      "(1, 10)\n",
      "(2, 20)\n",
      "(3, 30)\n",
      "(4, 40)\n",
      "(5, 50)\n"
     ]
    }
   ],
   "source": [
    "for i in enumerate(t2):\n",
    "    print(i)"
   ]
  },
  {
   "cell_type": "code",
   "execution_count": 19,
   "id": "22f64b6a",
   "metadata": {},
   "outputs": [
    {
     "ename": "AttributeError",
     "evalue": "'tuple' object has no attribute 'copy'",
     "output_type": "error",
     "traceback": [
      "\u001b[1;31m---------------------------------------------------------------------------\u001b[0m",
      "\u001b[1;31mAttributeError\u001b[0m                            Traceback (most recent call last)",
      "Input \u001b[1;32mIn [19]\u001b[0m, in \u001b[0;36m<cell line: 1>\u001b[1;34m()\u001b[0m\n\u001b[1;32m----> 1\u001b[0m t2 \u001b[38;5;241m=\u001b[39m \u001b[43mt1\u001b[49m\u001b[38;5;241;43m.\u001b[39;49m\u001b[43mcopy\u001b[49m()\n",
      "\u001b[1;31mAttributeError\u001b[0m: 'tuple' object has no attribute 'copy'"
     ]
    }
   ],
   "source": [
    "t2 = t1.copy()"
   ]
  },
  {
   "cell_type": "markdown",
   "id": "d91c553f",
   "metadata": {},
   "source": [
    "**sorted tuple**"
   ]
  },
  {
   "cell_type": "code",
   "execution_count": 60,
   "id": "3a2af675",
   "metadata": {},
   "outputs": [],
   "source": [
    "t3 = (40,10,50,20,80)"
   ]
  },
  {
   "cell_type": "code",
   "execution_count": 61,
   "id": "24aac8d3",
   "metadata": {},
   "outputs": [
    {
     "name": "stdout",
     "output_type": "stream",
     "text": [
      "[10, 20, 40, 50, 80]\n",
      "(40, 10, 50, 20, 80)\n"
     ]
    }
   ],
   "source": [
    "print(sorted(t3)) # sorted is used to return a new sorted tuple, leaving the original tuple unchanged\n",
    "print(t3)"
   ]
  },
  {
   "cell_type": "code",
   "execution_count": 62,
   "id": "280d1a91",
   "metadata": {},
   "outputs": [
    {
     "data": {
      "text/plain": [
       "[80, 50, 40, 20, 10]"
      ]
     },
     "execution_count": 62,
     "metadata": {},
     "output_type": "execute_result"
    }
   ],
   "source": [
    "sorted(t3,reverse = True) # sorts in the descending order"
   ]
  },
  {
   "cell_type": "markdown",
   "id": "c5d760ab",
   "metadata": {},
   "source": [
    "**Tuple membership**"
   ]
  },
  {
   "cell_type": "code",
   "execution_count": 56,
   "id": "895bc0dc",
   "metadata": {},
   "outputs": [
    {
     "data": {
      "text/plain": [
       "True"
      ]
     },
     "execution_count": 56,
     "metadata": {},
     "output_type": "execute_result"
    }
   ],
   "source": [
    "10 in t2"
   ]
  },
  {
   "cell_type": "code",
   "execution_count": 57,
   "id": "2bf32010",
   "metadata": {},
   "outputs": [
    {
     "name": "stdout",
     "output_type": "stream",
     "text": [
      "10 is present in t2\n"
     ]
    }
   ],
   "source": [
    "if 10 in t2:\n",
    "    print('10 is present in t2')\n",
    "else:\n",
    "    print('10 is not present in t2')"
   ]
  },
  {
   "cell_type": "markdown",
   "id": "e60e5abc",
   "metadata": {},
   "source": [
    "# Set"
   ]
  },
  {
   "cell_type": "code",
   "execution_count": 20,
   "id": "c9504058",
   "metadata": {},
   "outputs": [
    {
     "data": {
      "text/plain": [
       "set"
      ]
     },
     "execution_count": 20,
     "metadata": {},
     "output_type": "execute_result"
    }
   ],
   "source": [
    "s1 = set()\n",
    "type(s1)"
   ]
  },
  {
   "cell_type": "code",
   "execution_count": 21,
   "id": "396e9742",
   "metadata": {},
   "outputs": [
    {
     "data": {
      "text/plain": [
       "dict"
      ]
     },
     "execution_count": 21,
     "metadata": {},
     "output_type": "execute_result"
    }
   ],
   "source": [
    "s = {}\n",
    "type(s)"
   ]
  },
  {
   "cell_type": "code",
   "execution_count": 54,
   "id": "142fc83f",
   "metadata": {},
   "outputs": [
    {
     "data": {
      "text/plain": [
       "{3, 5, 20, 100}"
      ]
     },
     "execution_count": 54,
     "metadata": {},
     "output_type": "execute_result"
    }
   ],
   "source": [
    "s1 = {3,100,5,20}\n",
    "s1\n",
    "# result will automatically  be in ordered format if all the elements are of the same data type"
   ]
  },
  {
   "cell_type": "code",
   "execution_count": 27,
   "id": "1b0d07be",
   "metadata": {},
   "outputs": [
    {
     "data": {
      "text/plain": [
       "{'a', 'c', 'd', 'e', 'z'}"
      ]
     },
     "execution_count": 27,
     "metadata": {},
     "output_type": "execute_result"
    }
   ],
   "source": [
    "s2 = {'e','z','c','a','d','c'}\n",
    "s2\n",
    "# Note that only one c appears in the output, duplicates aren't allowed in a set"
   ]
  },
  {
   "cell_type": "code",
   "execution_count": 28,
   "id": "a7ecfef9",
   "metadata": {},
   "outputs": [
    {
     "data": {
      "text/plain": [
       "{(1+1j), (1+2j), (2+1j), (2+3j), (5+8j)}"
      ]
     },
     "execution_count": 28,
     "metadata": {},
     "output_type": "execute_result"
    }
   ],
   "source": [
    "s3 = {1+2j,2+1j,5+8j,2+3j,1+1j}\n",
    "s3"
   ]
  },
  {
   "cell_type": "code",
   "execution_count": 32,
   "id": "6cbc82f4",
   "metadata": {},
   "outputs": [],
   "source": [
    "s4 = {1,1.5,1+1j,'nit'}"
   ]
  },
  {
   "cell_type": "code",
   "execution_count": 29,
   "id": "6af025ac",
   "metadata": {},
   "outputs": [
    {
     "name": "stdout",
     "output_type": "stream",
     "text": [
      "{100, 3, 20, 5}\n",
      "<class 'set'>\n"
     ]
    }
   ],
   "source": [
    "print(s1)\n",
    "print(type(s1))"
   ]
  },
  {
   "cell_type": "code",
   "execution_count": 31,
   "id": "b88fd78b",
   "metadata": {},
   "outputs": [
    {
     "data": {
      "text/plain": [
       "{3, 5, 20, 100, 200}"
      ]
     },
     "execution_count": 31,
     "metadata": {},
     "output_type": "execute_result"
    }
   ],
   "source": [
    "s1.add(200)\n",
    "s1\n",
    "# add function adds the elements in ascending order"
   ]
  },
  {
   "cell_type": "code",
   "execution_count": 33,
   "id": "ce9e970c",
   "metadata": {},
   "outputs": [
    {
     "ename": "TypeError",
     "evalue": "set.add() takes exactly one argument (2 given)",
     "output_type": "error",
     "traceback": [
      "\u001b[1;31m---------------------------------------------------------------------------\u001b[0m",
      "\u001b[1;31mTypeError\u001b[0m                                 Traceback (most recent call last)",
      "Input \u001b[1;32mIn [33]\u001b[0m, in \u001b[0;36m<cell line: 1>\u001b[1;34m()\u001b[0m\n\u001b[1;32m----> 1\u001b[0m \u001b[43ms1\u001b[49m\u001b[38;5;241;43m.\u001b[39;49m\u001b[43madd\u001b[49m\u001b[43m(\u001b[49m\u001b[38;5;241;43m500\u001b[39;49m\u001b[43m,\u001b[49m\u001b[38;5;241;43m200\u001b[39;49m\u001b[43m)\u001b[49m\n",
      "\u001b[1;31mTypeError\u001b[0m: set.add() takes exactly one argument (2 given)"
     ]
    }
   ],
   "source": [
    "s1.add(500,200)"
   ]
  },
  {
   "cell_type": "code",
   "execution_count": 35,
   "id": "8146303a",
   "metadata": {},
   "outputs": [
    {
     "data": {
      "text/plain": [
       "{3, 5, 15, 20, 100, 200}"
      ]
     },
     "execution_count": 35,
     "metadata": {},
     "output_type": "execute_result"
    }
   ],
   "source": [
    "s1.add(15)\n",
    "s1"
   ]
  },
  {
   "cell_type": "code",
   "execution_count": 37,
   "id": "d602d7e5",
   "metadata": {},
   "outputs": [
    {
     "data": {
      "text/plain": [
       "{3, 5, 15, 20, 100, 200}"
      ]
     },
     "execution_count": 37,
     "metadata": {},
     "output_type": "execute_result"
    }
   ],
   "source": [
    "s5 = s1.copy()\n",
    "s5"
   ]
  },
  {
   "cell_type": "code",
   "execution_count": 39,
   "id": "13c81493",
   "metadata": {},
   "outputs": [
    {
     "name": "stdout",
     "output_type": "stream",
     "text": [
      "2660755004320\n",
      "2660756699840\n"
     ]
    }
   ],
   "source": [
    "print(id(s1))\n",
    "print(id(s5))"
   ]
  },
  {
   "cell_type": "code",
   "execution_count": 41,
   "id": "c900ea8e",
   "metadata": {},
   "outputs": [
    {
     "data": {
      "text/plain": [
       "set()"
      ]
     },
     "execution_count": 41,
     "metadata": {},
     "output_type": "execute_result"
    }
   ],
   "source": [
    "s1.clear()\n",
    "s1"
   ]
  },
  {
   "cell_type": "code",
   "execution_count": 42,
   "id": "8c5008a9",
   "metadata": {},
   "outputs": [
    {
     "ename": "TypeError",
     "evalue": "'set' object is not subscriptable",
     "output_type": "error",
     "traceback": [
      "\u001b[1;31m---------------------------------------------------------------------------\u001b[0m",
      "\u001b[1;31mTypeError\u001b[0m                                 Traceback (most recent call last)",
      "Input \u001b[1;32mIn [42]\u001b[0m, in \u001b[0;36m<cell line: 1>\u001b[1;34m()\u001b[0m\n\u001b[1;32m----> 1\u001b[0m \u001b[43ms5\u001b[49m\u001b[43m[\u001b[49m\u001b[43m:\u001b[49m\u001b[43m]\u001b[49m\n",
      "\u001b[1;31mTypeError\u001b[0m: 'set' object is not subscriptable"
     ]
    }
   ],
   "source": [
    "s5[:]\n",
    "# since index concept is not applicable to a set"
   ]
  },
  {
   "cell_type": "code",
   "execution_count": 43,
   "id": "fc2d57e4",
   "metadata": {},
   "outputs": [
    {
     "data": {
      "text/plain": [
       "2660756459296"
      ]
     },
     "execution_count": 43,
     "metadata": {},
     "output_type": "execute_result"
    }
   ],
   "source": [
    "s6 = {1,2,3,4,5}\n",
    "id(s6)"
   ]
  },
  {
   "cell_type": "code",
   "execution_count": 44,
   "id": "6dc8e7de",
   "metadata": {},
   "outputs": [
    {
     "data": {
      "text/plain": [
       "2660756459296"
      ]
     },
     "execution_count": 44,
     "metadata": {},
     "output_type": "execute_result"
    }
   ],
   "source": [
    "s6.clear()\n",
    "id(s6)"
   ]
  },
  {
   "cell_type": "code",
   "execution_count": 45,
   "id": "6994ee05",
   "metadata": {},
   "outputs": [
    {
     "ename": "NameError",
     "evalue": "name 's6' is not defined",
     "output_type": "error",
     "traceback": [
      "\u001b[1;31m---------------------------------------------------------------------------\u001b[0m",
      "\u001b[1;31mNameError\u001b[0m                                 Traceback (most recent call last)",
      "Input \u001b[1;32mIn [45]\u001b[0m, in \u001b[0;36m<cell line: 2>\u001b[1;34m()\u001b[0m\n\u001b[0;32m      1\u001b[0m \u001b[38;5;28;01mdel\u001b[39;00m s6\n\u001b[1;32m----> 2\u001b[0m \u001b[43ms6\u001b[49m\n",
      "\u001b[1;31mNameError\u001b[0m: name 's6' is not defined"
     ]
    }
   ],
   "source": [
    "del s6\n",
    "s6"
   ]
  },
  {
   "cell_type": "code",
   "execution_count": 47,
   "id": "ef672f9f",
   "metadata": {},
   "outputs": [
    {
     "ename": "KeyError",
     "evalue": "200",
     "output_type": "error",
     "traceback": [
      "\u001b[1;31m---------------------------------------------------------------------------\u001b[0m",
      "\u001b[1;31mKeyError\u001b[0m                                  Traceback (most recent call last)",
      "Input \u001b[1;32mIn [47]\u001b[0m, in \u001b[0;36m<cell line: 1>\u001b[1;34m()\u001b[0m\n\u001b[1;32m----> 1\u001b[0m \u001b[43ms5\u001b[49m\u001b[38;5;241;43m.\u001b[39;49m\u001b[43mremove\u001b[49m\u001b[43m(\u001b[49m\u001b[38;5;241;43m200\u001b[39;49m\u001b[43m)\u001b[49m\n\u001b[0;32m      2\u001b[0m s5\n",
      "\u001b[1;31mKeyError\u001b[0m: 200"
     ]
    }
   ],
   "source": [
    "s5.remove(200)\n",
    "s5"
   ]
  },
  {
   "cell_type": "code",
   "execution_count": 48,
   "id": "63229c98",
   "metadata": {},
   "outputs": [
    {
     "data": {
      "text/plain": [
       "{3, 5, 15, 20, 100}"
      ]
     },
     "execution_count": 48,
     "metadata": {},
     "output_type": "execute_result"
    }
   ],
   "source": [
    "s5"
   ]
  },
  {
   "cell_type": "code",
   "execution_count": 51,
   "id": "68bef523",
   "metadata": {},
   "outputs": [
    {
     "data": {
      "text/plain": [
       "5"
      ]
     },
     "execution_count": 51,
     "metadata": {},
     "output_type": "execute_result"
    }
   ],
   "source": [
    "s5.pop()\n",
    "# randomly removes the elements, no argument is allowed inside pop"
   ]
  },
  {
   "cell_type": "code",
   "execution_count": 52,
   "id": "47711375",
   "metadata": {},
   "outputs": [
    {
     "data": {
      "text/plain": [
       "20"
      ]
     },
     "execution_count": 52,
     "metadata": {},
     "output_type": "execute_result"
    }
   ],
   "source": [
    "s5.pop()"
   ]
  },
  {
   "cell_type": "markdown",
   "id": "c34da1b4",
   "metadata": {},
   "source": [
    "Tuple real time application - used in banks since it cannot be edited, makes it more secure"
   ]
  },
  {
   "cell_type": "markdown",
   "id": "e02ddc50",
   "metadata": {},
   "source": [
    "Summary\n",
    "\n",
    "Tuple\n",
    "- Define a tuple\n",
    "- Methods of a tuple - count(), index()\n",
    "- Multiple data typles are allowed\n",
    "- Tuple is immutable\n",
    "- Duplicates are allowed\n",
    "- Slicing is allowed\n",
    "- for loop/enumerate\n"
   ]
  },
  {
   "cell_type": "markdown",
   "id": "2f3b9672",
   "metadata": {},
   "source": [
    "Set\n",
    "- Define a set\n",
    "- Methods:\n",
    "    - add()\n",
    "    - copy()\n",
    "    - clear()\n",
    "    "
   ]
  }
 ],
 "metadata": {
  "kernelspec": {
   "display_name": "Python 3 (ipykernel)",
   "language": "python",
   "name": "python3"
  },
  "language_info": {
   "codemirror_mode": {
    "name": "ipython",
    "version": 3
   },
   "file_extension": ".py",
   "mimetype": "text/x-python",
   "name": "python",
   "nbconvert_exporter": "python",
   "pygments_lexer": "ipython3",
   "version": "3.9.12"
  }
 },
 "nbformat": 4,
 "nbformat_minor": 5
}
