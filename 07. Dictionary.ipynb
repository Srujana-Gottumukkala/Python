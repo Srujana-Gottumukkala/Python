{
 "cells": [
  {
   "cell_type": "markdown",
   "id": "f48c5378",
   "metadata": {},
   "source": [
    "# Dictionary\n",
    "- A collection of key and value pairs\n",
    "- Keys must be unique, duplicate values are allowed "
   ]
  },
  {
   "cell_type": "markdown",
   "id": "544ee23a",
   "metadata": {},
   "source": [
    "### Create Dictionary"
   ]
  },
  {
   "cell_type": "code",
   "execution_count": 5,
   "id": "fef2f4b8",
   "metadata": {},
   "outputs": [
    {
     "data": {
      "text/plain": [
       "{}"
      ]
     },
     "execution_count": 5,
     "metadata": {},
     "output_type": "execute_result"
    }
   ],
   "source": [
    "d1 = dict() # Creating an empty dictionary\n",
    "d1"
   ]
  },
  {
   "cell_type": "code",
   "execution_count": 6,
   "id": "70af0f0c",
   "metadata": {},
   "outputs": [
    {
     "data": {
      "text/plain": [
       "dict"
      ]
     },
     "execution_count": 6,
     "metadata": {},
     "output_type": "execute_result"
    }
   ],
   "source": [
    "type(d1)"
   ]
  },
  {
   "cell_type": "code",
   "execution_count": 7,
   "id": "2029446a",
   "metadata": {},
   "outputs": [
    {
     "data": {
      "text/plain": [
       "{}"
      ]
     },
     "execution_count": 7,
     "metadata": {},
     "output_type": "execute_result"
    }
   ],
   "source": [
    "d2 = {}  # Another way to create an empty dictionary\n",
    "d2"
   ]
  },
  {
   "cell_type": "code",
   "execution_count": 8,
   "id": "8f7266dc",
   "metadata": {},
   "outputs": [
    {
     "data": {
      "text/plain": [
       "{1: 'one', 2: 'two', 3: 'three'}"
      ]
     },
     "execution_count": 8,
     "metadata": {},
     "output_type": "execute_result"
    }
   ],
   "source": [
    "d1 = {1:'one', 2:'two', 3:'three'}\n",
    "d1"
   ]
  },
  {
   "cell_type": "code",
   "execution_count": 9,
   "id": "7837de9e",
   "metadata": {},
   "outputs": [
    {
     "data": {
      "text/plain": [
       "{1: 'one', 2: 'two', 3: 'three'}"
      ]
     },
     "execution_count": 9,
     "metadata": {},
     "output_type": "execute_result"
    }
   ],
   "source": [
    "d2 = dict({1:'one', 2:'two', 3:'three'})\n",
    "d2"
   ]
  },
  {
   "cell_type": "code",
   "execution_count": null,
   "id": "313b3c46",
   "metadata": {},
   "outputs": [],
   "source": [
    "d1 = {1:'one', 2:'two', 3:'three'}  # dictionary with integer keys\n",
    "d1"
   ]
  },
  {
   "cell_type": "code",
   "execution_count": 11,
   "id": "bcb7671a",
   "metadata": {},
   "outputs": [
    {
     "data": {
      "text/plain": [
       "{'a': 'Australia', 'b': 'Brazil', 'c': 'Canada'}"
      ]
     },
     "execution_count": 11,
     "metadata": {},
     "output_type": "execute_result"
    }
   ],
   "source": [
    "d2 = {'a':'Australia', 'b':'Brazil', 'c':'Canada'}  # dictionary having character as keys\n",
    "d2"
   ]
  },
  {
   "cell_type": "code",
   "execution_count": 16,
   "id": "8edbe8c3",
   "metadata": {},
   "outputs": [
    {
     "data": {
      "text/plain": [
       "{1: 'bool', 2: 'two', 2.2: 'two', (1+2j): 'complex'}"
      ]
     },
     "execution_count": 16,
     "metadata": {},
     "output_type": "execute_result"
    }
   ],
   "source": [
    "d3 = {1: 'one', 2: 'two', 2.2: 'two', 1+2j: 'complex', True: 'bool'}\n",
    "d3\n",
    "# interesting"
   ]
  },
  {
   "cell_type": "code",
   "execution_count": 17,
   "id": "ede40316",
   "metadata": {},
   "outputs": [
    {
     "data": {
      "text/plain": [
       "{1: 'one', 2: 'two', 2.2: 'two', (1+2j): 'complex'}"
      ]
     },
     "execution_count": 17,
     "metadata": {},
     "output_type": "execute_result"
    }
   ],
   "source": [
    "d4 = {1: 'one', 2: 'two', 2.2: 'two', 1+2j: 'complex'}\n",
    "d4"
   ]
  },
  {
   "cell_type": "code",
   "execution_count": 19,
   "id": "8ad275ba",
   "metadata": {},
   "outputs": [
    {
     "data": {
      "text/plain": [
       "{2: 'two', 2.2: 'two', (1+2j): 'complex', True: 'bool'}"
      ]
     },
     "execution_count": 19,
     "metadata": {},
     "output_type": "execute_result"
    }
   ],
   "source": [
    "d3 = {2: 'two', 2.2: 'two', 1+2j: 'complex', True: 'bool'}\n",
    "d3\n",
    "# interesting\n",
    "# Best practice however is to use immutable data types/ data structures as keys"
   ]
  },
  {
   "cell_type": "markdown",
   "id": "2edacc8f",
   "metadata": {},
   "source": [
    "### Methods"
   ]
  },
  {
   "cell_type": "code",
   "execution_count": 20,
   "id": "ad9f434f",
   "metadata": {},
   "outputs": [
    {
     "data": {
      "text/plain": [
       "dict_keys([2, 2.2, (1+2j), True])"
      ]
     },
     "execution_count": 20,
     "metadata": {},
     "output_type": "execute_result"
    }
   ],
   "source": [
    "d3.keys()"
   ]
  },
  {
   "cell_type": "code",
   "execution_count": 21,
   "id": "57be76c6",
   "metadata": {},
   "outputs": [
    {
     "data": {
      "text/plain": [
       "dict_values(['two', 'two', 'complex', 'bool'])"
      ]
     },
     "execution_count": 21,
     "metadata": {},
     "output_type": "execute_result"
    }
   ],
   "source": [
    "d3.values()"
   ]
  },
  {
   "cell_type": "code",
   "execution_count": 22,
   "id": "dc3023ae",
   "metadata": {},
   "outputs": [
    {
     "data": {
      "text/plain": [
       "dict_items([(2, 'two'), (2.2, 'two'), ((1+2j), 'complex'), (True, 'bool')])"
      ]
     },
     "execution_count": 22,
     "metadata": {},
     "output_type": "execute_result"
    }
   ],
   "source": [
    "d3.items()"
   ]
  },
  {
   "cell_type": "code",
   "execution_count": 24,
   "id": "0ffdc278",
   "metadata": {},
   "outputs": [
    {
     "data": {
      "text/plain": [
       "{1: 'one', 2: 'two', 3: ['Srujana', 'Gottumukkala']}"
      ]
     },
     "execution_count": 24,
     "metadata": {},
     "output_type": "execute_result"
    }
   ],
   "source": [
    "d4 = {1:'one', 2:'two', 3:['Srujana','Gottumukkala']} # dictionary containing a list\n",
    "d4"
   ]
  },
  {
   "cell_type": "code",
   "execution_count": 28,
   "id": "36a187bb",
   "metadata": {},
   "outputs": [
    {
     "data": {
      "text/plain": [
       "'two'"
      ]
     },
     "execution_count": 28,
     "metadata": {},
     "output_type": "execute_result"
    }
   ],
   "source": [
    "d4[2]"
   ]
  },
  {
   "cell_type": "code",
   "execution_count": 29,
   "id": "5bd98345",
   "metadata": {},
   "outputs": [
    {
     "ename": "KeyError",
     "evalue": "0",
     "output_type": "error",
     "traceback": [
      "\u001b[1;31m---------------------------------------------------------------------------\u001b[0m",
      "\u001b[1;31mKeyError\u001b[0m                                  Traceback (most recent call last)",
      "Input \u001b[1;32mIn [29]\u001b[0m, in \u001b[0;36m<cell line: 1>\u001b[1;34m()\u001b[0m\n\u001b[1;32m----> 1\u001b[0m \u001b[43md4\u001b[49m\u001b[43m[\u001b[49m\u001b[38;5;241;43m0\u001b[39;49m\u001b[43m]\u001b[49m\n",
      "\u001b[1;31mKeyError\u001b[0m: 0"
     ]
    }
   ],
   "source": [
    "d4[0]\n",
    "# If the key doesn't exist, note the error - KeyError"
   ]
  },
  {
   "cell_type": "code",
   "execution_count": 30,
   "id": "6c8b370c",
   "metadata": {},
   "outputs": [
    {
     "data": {
      "text/plain": [
       "'Srujana'"
      ]
     },
     "execution_count": 30,
     "metadata": {},
     "output_type": "execute_result"
    }
   ],
   "source": [
    "d4[3][0]"
   ]
  },
  {
   "cell_type": "code",
   "execution_count": 31,
   "id": "e6ec5002",
   "metadata": {},
   "outputs": [
    {
     "data": {
      "text/plain": [
       "list"
      ]
     },
     "execution_count": 31,
     "metadata": {},
     "output_type": "execute_result"
    }
   ],
   "source": [
    "type(d4[3])"
   ]
  },
  {
   "cell_type": "code",
   "execution_count": 33,
   "id": "9c1faa2c",
   "metadata": {},
   "outputs": [
    {
     "data": {
      "text/plain": [
       "{1: 'one',\n",
       " 2: 'two',\n",
       " 3: 'three',\n",
       " 4: {1: 'one', 2: 'two'},\n",
       " 5: ('a', 'b', 'c', 'd', 'e', 'f')}"
      ]
     },
     "execution_count": 33,
     "metadata": {},
     "output_type": "execute_result"
    }
   ],
   "source": [
    "d5 = {1:'one', 2:'two', 3:'three', 4: {1: 'one', 2: 'two'}, 5:('a','b','c','d','e','f') }   \n",
    "# dictionary containing another dictionary and a tuple\n",
    "d5"
   ]
  },
  {
   "cell_type": "code",
   "execution_count": 34,
   "id": "7dea1d19",
   "metadata": {},
   "outputs": [
    {
     "data": {
      "text/plain": [
       "dict"
      ]
     },
     "execution_count": 34,
     "metadata": {},
     "output_type": "execute_result"
    }
   ],
   "source": [
    "type(d5[4])"
   ]
  },
  {
   "cell_type": "code",
   "execution_count": 35,
   "id": "871213f4",
   "metadata": {},
   "outputs": [
    {
     "data": {
      "text/plain": [
       "tuple"
      ]
     },
     "execution_count": 35,
     "metadata": {},
     "output_type": "execute_result"
    }
   ],
   "source": [
    "type(d5[5])"
   ]
  },
  {
   "cell_type": "code",
   "execution_count": 53,
   "id": "6e02d209",
   "metadata": {},
   "outputs": [
    {
     "data": {
      "text/plain": [
       "{'b': 20, 'c': 20, 'a': 20, 'd': 20}"
      ]
     },
     "execution_count": 53,
     "metadata": {},
     "output_type": "execute_result"
    }
   ],
   "source": [
    "keys1 = {'a', 'b', 'c', 'd'}\n",
    "value = 20\n",
    "d6 = dict.fromkeys(keys1,value)   # Creating a dictionary from pre-defined keys and a value\n",
    "d6"
   ]
  },
  {
   "cell_type": "code",
   "execution_count": 54,
   "id": "b48bee9f",
   "metadata": {},
   "outputs": [
    {
     "ename": "AttributeError",
     "evalue": "'int' object has no attribute 'append'",
     "output_type": "error",
     "traceback": [
      "\u001b[1;31m---------------------------------------------------------------------------\u001b[0m",
      "\u001b[1;31mAttributeError\u001b[0m                            Traceback (most recent call last)",
      "Input \u001b[1;32mIn [54]\u001b[0m, in \u001b[0;36m<cell line: 1>\u001b[1;34m()\u001b[0m\n\u001b[1;32m----> 1\u001b[0m \u001b[43mvalue\u001b[49m\u001b[38;5;241;43m.\u001b[39;49m\u001b[43mappend\u001b[49m(\u001b[38;5;241m20\u001b[39m)\n\u001b[0;32m      2\u001b[0m d6\n",
      "\u001b[1;31mAttributeError\u001b[0m: 'int' object has no attribute 'append'"
     ]
    }
   ],
   "source": [
    "value.append(20)\n",
    "d6\n",
    "\n",
    "# note the error, this works for list but not int"
   ]
  },
  {
   "cell_type": "code",
   "execution_count": 37,
   "id": "403c648c",
   "metadata": {},
   "outputs": [
    {
     "data": {
      "text/plain": [
       "{'b': (10, 20), 'c': (10, 20), 'a': (10, 20), 'd': (10, 20)}"
      ]
     },
     "execution_count": 37,
     "metadata": {},
     "output_type": "execute_result"
    }
   ],
   "source": [
    "keys1 = {'a', 'b', 'c', 'd'}\n",
    "value = 10,20\n",
    "d7 = dict.fromkeys(keys1,value) \n",
    "d7"
   ]
  },
  {
   "cell_type": "code",
   "execution_count": 45,
   "id": "b667b793",
   "metadata": {},
   "outputs": [
    {
     "ename": "TypeError",
     "evalue": "unhashable type: 'dict'",
     "output_type": "error",
     "traceback": [
      "\u001b[1;31m---------------------------------------------------------------------------\u001b[0m",
      "\u001b[1;31mTypeError\u001b[0m                                 Traceback (most recent call last)",
      "Input \u001b[1;32mIn [45]\u001b[0m, in \u001b[0;36m<cell line: 1>\u001b[1;34m()\u001b[0m\n\u001b[1;32m----> 1\u001b[0m \u001b[43md7\u001b[49m\u001b[43m[\u001b[49m\u001b[43mb\u001b[49m\u001b[43m]\u001b[49m\n",
      "\u001b[1;31mTypeError\u001b[0m: unhashable type: 'dict'"
     ]
    }
   ],
   "source": [
    "d7[b]\n",
    "# Note the error"
   ]
  },
  {
   "cell_type": "code",
   "execution_count": 44,
   "id": "defa1a8d",
   "metadata": {},
   "outputs": [
    {
     "data": {
      "text/plain": [
       "(10, 20)"
      ]
     },
     "execution_count": 44,
     "metadata": {},
     "output_type": "execute_result"
    }
   ],
   "source": [
    "d7['b']"
   ]
  },
  {
   "cell_type": "code",
   "execution_count": 46,
   "id": "e9d56984",
   "metadata": {},
   "outputs": [
    {
     "data": {
      "text/plain": [
       "tuple"
      ]
     },
     "execution_count": 46,
     "metadata": {},
     "output_type": "execute_result"
    }
   ],
   "source": [
    "type(d7['b'])"
   ]
  },
  {
   "cell_type": "code",
   "execution_count": 55,
   "id": "9ff24483",
   "metadata": {},
   "outputs": [
    {
     "data": {
      "text/plain": [
       "{'b': [10, 20], 'c': [10, 20], 'a': [10, 20], 'd': [10, 20]}"
      ]
     },
     "execution_count": 55,
     "metadata": {},
     "output_type": "execute_result"
    }
   ],
   "source": [
    "keys1 = {'a', 'b', 'c', 'd'}\n",
    "value = [10,20]\n",
    "d8 = dict.fromkeys(keys1,value)   # Creating a dictionary from pre-defined keys and a value\n",
    "d8"
   ]
  },
  {
   "cell_type": "code",
   "execution_count": 47,
   "id": "56f38ce8",
   "metadata": {},
   "outputs": [
    {
     "data": {
      "text/plain": [
       "list"
      ]
     },
     "execution_count": 47,
     "metadata": {},
     "output_type": "execute_result"
    }
   ],
   "source": [
    "type(d8['b'])"
   ]
  },
  {
   "cell_type": "code",
   "execution_count": 56,
   "id": "e49f6822",
   "metadata": {},
   "outputs": [],
   "source": [
    "value.append(30)"
   ]
  },
  {
   "cell_type": "code",
   "execution_count": 57,
   "id": "65d0f3b9",
   "metadata": {},
   "outputs": [
    {
     "data": {
      "text/plain": [
       "{'b': [10, 20, 30], 'c': [10, 20, 30], 'a': [10, 20, 30], 'd': [10, 20, 30]}"
      ]
     },
     "execution_count": 57,
     "metadata": {},
     "output_type": "execute_result"
    }
   ],
   "source": [
    "d8"
   ]
  },
  {
   "cell_type": "code",
   "execution_count": 48,
   "id": "d43b6f8d",
   "metadata": {},
   "outputs": [
    {
     "data": {
      "text/plain": [
       "{'b': {10, 20}, 'c': {10, 20}, 'a': {10, 20}, 'd': {10, 20}}"
      ]
     },
     "execution_count": 48,
     "metadata": {},
     "output_type": "execute_result"
    }
   ],
   "source": [
    "keys1 = {'a', 'b', 'c', 'd'}\n",
    "value = {10,20}\n",
    "d9 = dict.fromkeys(keys1,value)   \n",
    "d9"
   ]
  },
  {
   "cell_type": "code",
   "execution_count": 49,
   "id": "0749bb03",
   "metadata": {},
   "outputs": [
    {
     "data": {
      "text/plain": [
       "set"
      ]
     },
     "execution_count": 49,
     "metadata": {},
     "output_type": "execute_result"
    }
   ],
   "source": [
    "type(d9['b'])"
   ]
  },
  {
   "cell_type": "markdown",
   "id": "a85e9257",
   "metadata": {},
   "source": [
    "### Accessing items"
   ]
  },
  {
   "cell_type": "code",
   "execution_count": 58,
   "id": "088a95ea",
   "metadata": {},
   "outputs": [
    {
     "data": {
      "text/plain": [
       "{1: 'one', 2: 'two', 3: 'three'}"
      ]
     },
     "execution_count": 58,
     "metadata": {},
     "output_type": "execute_result"
    }
   ],
   "source": [
    "d1"
   ]
  },
  {
   "cell_type": "code",
   "execution_count": 59,
   "id": "5a3579db",
   "metadata": {},
   "outputs": [
    {
     "data": {
      "text/plain": [
       "'one'"
      ]
     },
     "execution_count": 59,
     "metadata": {},
     "output_type": "execute_result"
    }
   ],
   "source": [
    "d1[1]      # Accessing items"
   ]
  },
  {
   "cell_type": "code",
   "execution_count": 61,
   "id": "34e7fa78",
   "metadata": {},
   "outputs": [
    {
     "data": {
      "text/plain": [
       "'one'"
      ]
     },
     "execution_count": 61,
     "metadata": {},
     "output_type": "execute_result"
    }
   ],
   "source": [
    "d1.get(1)   # Accessing items using get(key)"
   ]
  },
  {
   "cell_type": "code",
   "execution_count": 62,
   "id": "73b22766",
   "metadata": {},
   "outputs": [
    {
     "data": {
      "text/plain": [
       "{'b': [10, 20], 'c': [10, 20], 'a': [10, 20], 'd': [10, 20]}"
      ]
     },
     "execution_count": 62,
     "metadata": {},
     "output_type": "execute_result"
    }
   ],
   "source": [
    "keys1 = {'a', 'b', 'c', 'd'}\n",
    "value = [10,20]\n",
    "d8 = dict.fromkeys(keys1,value)   # Creating a dictionary from pre-defined keys and a value\n",
    "d8"
   ]
  },
  {
   "cell_type": "markdown",
   "id": "c4f6bf19",
   "metadata": {},
   "source": [
    "### Add, remove and change"
   ]
  },
  {
   "cell_type": "code",
   "execution_count": 65,
   "id": "47877b4a",
   "metadata": {},
   "outputs": [
    {
     "data": {
      "text/plain": [
       "{1: 'one', 2: 'two', 3: 'three'}"
      ]
     },
     "execution_count": 65,
     "metadata": {},
     "output_type": "execute_result"
    }
   ],
   "source": [
    "d1"
   ]
  },
  {
   "cell_type": "code",
   "execution_count": 67,
   "id": "84799541",
   "metadata": {},
   "outputs": [
    {
     "data": {
      "text/plain": [
       "{1: 'one thousand', 2: 'two', 3: 'three'}"
      ]
     },
     "execution_count": 67,
     "metadata": {},
     "output_type": "execute_result"
    }
   ],
   "source": [
    "d1[1] = 'one thousand'      # update\n",
    "d1"
   ]
  },
  {
   "cell_type": "code",
   "execution_count": 70,
   "id": "cae379ed",
   "metadata": {},
   "outputs": [
    {
     "data": {
      "text/plain": [
       "{1: 'one thousand', 2: 'two', 3: 'three', 4: 'four'}"
      ]
     },
     "execution_count": 70,
     "metadata": {},
     "output_type": "execute_result"
    }
   ],
   "source": [
    "d1_1 = {4: 'four'}            # add\n",
    "d1.update(d1_1)\n",
    "d1"
   ]
  },
  {
   "cell_type": "code",
   "execution_count": 71,
   "id": "32f2b0fe",
   "metadata": {},
   "outputs": [
    {
     "data": {
      "text/plain": [
       "{1: 'one thousand', 3: 'three', 4: 'four'}"
      ]
     },
     "execution_count": 71,
     "metadata": {},
     "output_type": "execute_result"
    }
   ],
   "source": [
    "d1.pop(2)                     # remove\n",
    "d1"
   ]
  },
  {
   "cell_type": "code",
   "execution_count": 73,
   "id": "0d2dabd9",
   "metadata": {},
   "outputs": [
    {
     "name": "stdout",
     "output_type": "stream",
     "text": [
      "(3, 'three')\n"
     ]
    },
    {
     "data": {
      "text/plain": [
       "{1: 'one thousand'}"
      ]
     },
     "execution_count": 73,
     "metadata": {},
     "output_type": "execute_result"
    }
   ],
   "source": [
    "print(d1.popitem())\n",
    "d1"
   ]
  },
  {
   "cell_type": "code",
   "execution_count": 76,
   "id": "aacb4fc5",
   "metadata": {},
   "outputs": [
    {
     "data": {
      "text/plain": [
       "{1: 'one', 3: 'three'}"
      ]
     },
     "execution_count": 76,
     "metadata": {},
     "output_type": "execute_result"
    }
   ],
   "source": [
    "d1 = {1:'one', 2:'two', 3:'three'}      # using del() method\n",
    "del(d1[2])\n",
    "d1"
   ]
  },
  {
   "cell_type": "code",
   "execution_count": 77,
   "id": "61de9880",
   "metadata": {},
   "outputs": [
    {
     "data": {
      "text/plain": [
       "{}"
      ]
     },
     "execution_count": 77,
     "metadata": {},
     "output_type": "execute_result"
    }
   ],
   "source": [
    "d1.clear()             # delete all items of the dictionary\n",
    "d1"
   ]
  },
  {
   "cell_type": "code",
   "execution_count": 78,
   "id": "d80d5c7f",
   "metadata": {},
   "outputs": [
    {
     "ename": "NameError",
     "evalue": "name 'd1' is not defined",
     "output_type": "error",
     "traceback": [
      "\u001b[1;31m---------------------------------------------------------------------------\u001b[0m",
      "\u001b[1;31mNameError\u001b[0m                                 Traceback (most recent call last)",
      "Input \u001b[1;32mIn [78]\u001b[0m, in \u001b[0;36m<cell line: 2>\u001b[1;34m()\u001b[0m\n\u001b[0;32m      1\u001b[0m \u001b[38;5;28;01mdel\u001b[39;00m d1\n\u001b[1;32m----> 2\u001b[0m \u001b[43md1\u001b[49m\n",
      "\u001b[1;31mNameError\u001b[0m: name 'd1' is not defined"
     ]
    }
   ],
   "source": [
    "del d1                 # delete the object\n",
    "d1"
   ]
  },
  {
   "cell_type": "markdown",
   "id": "0e4aa333",
   "metadata": {},
   "source": [
    "### Copy"
   ]
  },
  {
   "cell_type": "code",
   "execution_count": 79,
   "id": "19c142a7",
   "metadata": {},
   "outputs": [
    {
     "data": {
      "text/plain": [
       "{1: 'one', 2: 'two', 3: 'three'}"
      ]
     },
     "execution_count": 79,
     "metadata": {},
     "output_type": "execute_result"
    }
   ],
   "source": [
    "d1 = {1:'one', 2:'two', 3:'three'}\n",
    "d1"
   ]
  },
  {
   "cell_type": "code",
   "execution_count": 80,
   "id": "9a8a10f3",
   "metadata": {},
   "outputs": [],
   "source": [
    "d2 = d1"
   ]
  },
  {
   "cell_type": "code",
   "execution_count": 81,
   "id": "ac06ff40",
   "metadata": {},
   "outputs": [
    {
     "name": "stdout",
     "output_type": "stream",
     "text": [
      "1836209288896\n",
      "1836209288896\n"
     ]
    }
   ],
   "source": [
    "print(id(d1))\n",
    "print(id(d2))\n",
    "# Note that it points to the same memory location"
   ]
  },
  {
   "cell_type": "code",
   "execution_count": 82,
   "id": "ddbcf51f",
   "metadata": {},
   "outputs": [
    {
     "name": "stdout",
     "output_type": "stream",
     "text": [
      "{1: 'one', 2: 'two', 3: 'three'}\n",
      "1836210701056\n"
     ]
    }
   ],
   "source": [
    "d3 = d2.copy()\n",
    "print(d3)\n",
    "print(id(d3))\n",
    "# Note that the memory location in case of copy is different"
   ]
  },
  {
   "cell_type": "code",
   "execution_count": 84,
   "id": "aa064dc4",
   "metadata": {},
   "outputs": [
    {
     "data": {
      "text/plain": [
       "{1: 'one', 2: 'two', 3: 'three', 4: 'four'}"
      ]
     },
     "execution_count": 84,
     "metadata": {},
     "output_type": "execute_result"
    }
   ],
   "source": [
    "d1.update({4:'four'})\n",
    "d1"
   ]
  },
  {
   "cell_type": "code",
   "execution_count": 85,
   "id": "318bba86",
   "metadata": {},
   "outputs": [
    {
     "name": "stdout",
     "output_type": "stream",
     "text": [
      "{1: 'one', 2: 'two', 3: 'three', 4: 'four'}\n",
      "{1: 'one', 2: 'two', 3: 'three', 4: 'four'}\n",
      "{1: 'one', 2: 'two', 3: 'three'}\n",
      "1836209288896\n",
      "1836209288896\n",
      "1836210701056\n"
     ]
    }
   ],
   "source": [
    "print(d1)\n",
    "print(d2)\n",
    "print(d3)\n",
    "print(id(d1))\n",
    "print(id(d2))\n",
    "print(id(d3))\n",
    "# Note that the changes made in d1 are reflected in d2 but not in d3, \n",
    "# since d1 and d2 refer to the same object whereas d3 is another object"
   ]
  },
  {
   "cell_type": "markdown",
   "id": "3b138c10",
   "metadata": {},
   "source": [
    "### Iterating using a for loop"
   ]
  },
  {
   "cell_type": "code",
   "execution_count": 86,
   "id": "505d3342",
   "metadata": {},
   "outputs": [
    {
     "data": {
      "text/plain": [
       "{1: 'one', 2: 'two', 3: 'three', 4: 'four'}"
      ]
     },
     "execution_count": 86,
     "metadata": {},
     "output_type": "execute_result"
    }
   ],
   "source": [
    "d1"
   ]
  },
  {
   "cell_type": "code",
   "execution_count": 87,
   "id": "b9172072",
   "metadata": {},
   "outputs": [
    {
     "name": "stdout",
     "output_type": "stream",
     "text": [
      "1 : one\n",
      "2 : two\n",
      "3 : three\n",
      "4 : four\n"
     ]
    }
   ],
   "source": [
    "for i in d1:\n",
    "    print(i,':',d1[i])    # To print the key and value pair"
   ]
  },
  {
   "cell_type": "markdown",
   "id": "d83f2f5d",
   "metadata": {},
   "source": [
    "### Dictionary Membership"
   ]
  },
  {
   "cell_type": "code",
   "execution_count": 88,
   "id": "e31739f0",
   "metadata": {},
   "outputs": [
    {
     "data": {
      "text/plain": [
       "{1: 'one', 2: 'two', 3: 'three', 4: 'four'}"
      ]
     },
     "execution_count": 88,
     "metadata": {},
     "output_type": "execute_result"
    }
   ],
   "source": [
    "d1"
   ]
  },
  {
   "cell_type": "code",
   "execution_count": 89,
   "id": "0fedf5e5",
   "metadata": {},
   "outputs": [
    {
     "data": {
      "text/plain": [
       "True"
      ]
     },
     "execution_count": 89,
     "metadata": {},
     "output_type": "execute_result"
    }
   ],
   "source": [
    "1 in d1"
   ]
  },
  {
   "cell_type": "code",
   "execution_count": 90,
   "id": "66f71e49",
   "metadata": {},
   "outputs": [
    {
     "ename": "NameError",
     "evalue": "name 'one' is not defined",
     "output_type": "error",
     "traceback": [
      "\u001b[1;31m---------------------------------------------------------------------------\u001b[0m",
      "\u001b[1;31mNameError\u001b[0m                                 Traceback (most recent call last)",
      "Input \u001b[1;32mIn [90]\u001b[0m, in \u001b[0;36m<cell line: 1>\u001b[1;34m()\u001b[0m\n\u001b[1;32m----> 1\u001b[0m \u001b[43mone\u001b[49m \u001b[38;5;129;01min\u001b[39;00m d1\n",
      "\u001b[1;31mNameError\u001b[0m: name 'one' is not defined"
     ]
    }
   ],
   "source": [
    "one in d1   # Error, since membership test can only be done for keys"
   ]
  },
  {
   "cell_type": "markdown",
   "id": "77c056af",
   "metadata": {},
   "source": [
    "### All / Any"
   ]
  },
  {
   "cell_type": "code",
   "execution_count": 91,
   "id": "15968cf3",
   "metadata": {},
   "outputs": [
    {
     "data": {
      "text/plain": [
       "{1: 'one', 2: 'two', 3: 'three', 4: 'four'}"
      ]
     },
     "execution_count": 91,
     "metadata": {},
     "output_type": "execute_result"
    }
   ],
   "source": [
    "d1"
   ]
  },
  {
   "cell_type": "code",
   "execution_count": 92,
   "id": "5af870a6",
   "metadata": {},
   "outputs": [
    {
     "data": {
      "text/plain": [
       "True"
      ]
     },
     "execution_count": 92,
     "metadata": {},
     "output_type": "execute_result"
    }
   ],
   "source": [
    "all(d1)"
   ]
  },
  {
   "cell_type": "code",
   "execution_count": 99,
   "id": "f087c2fa",
   "metadata": {},
   "outputs": [],
   "source": [
    "d2 = d1.copy()"
   ]
  },
  {
   "cell_type": "code",
   "execution_count": 105,
   "id": "751c7e84",
   "metadata": {},
   "outputs": [],
   "source": [
    "d2_2 = {0:'zero'}"
   ]
  },
  {
   "cell_type": "code",
   "execution_count": 107,
   "id": "3b7916cb",
   "metadata": {},
   "outputs": [
    {
     "data": {
      "text/plain": [
       "{1: 'one', 2: 'two', 3: 'three', 4: 'four', 0: 'zero'}"
      ]
     },
     "execution_count": 107,
     "metadata": {},
     "output_type": "execute_result"
    }
   ],
   "source": [
    "d2.update(d2_2)\n",
    "d2"
   ]
  },
  {
   "cell_type": "code",
   "execution_count": 108,
   "id": "5f9cd88f",
   "metadata": {},
   "outputs": [
    {
     "data": {
      "text/plain": [
       "False"
      ]
     },
     "execution_count": 108,
     "metadata": {},
     "output_type": "execute_result"
    }
   ],
   "source": [
    "all(d2)     # since one of the keys is 0, it returns False"
   ]
  },
  {
   "cell_type": "code",
   "execution_count": 109,
   "id": "8e792af0",
   "metadata": {},
   "outputs": [
    {
     "data": {
      "text/plain": [
       "True"
      ]
     },
     "execution_count": 109,
     "metadata": {},
     "output_type": "execute_result"
    }
   ],
   "source": [
    "any(d2)    # since at least one of the elements is non-0, it returns True"
   ]
  },
  {
   "cell_type": "markdown",
   "id": "5ef6071f",
   "metadata": {},
   "source": [
    "### Summary\n",
    "- Creating a dict\n",
    "- Methods\n",
    "    - keys()\n",
    "    - values()\n",
    "    - items()\n",
    "    - fromkeys(keys,value)\n",
    "    - get(key)\n",
    "    - pop()\n",
    "    - popitem()\n",
    "    - update()\n",
    "    - clear()\n",
    "    - copy()\n",
    "    - all()\n",
    "    - any\n",
    " - del\n",
    " - for loop\n",
    " - in "
   ]
  }
 ],
 "metadata": {
  "kernelspec": {
   "display_name": "Python 3 (ipykernel)",
   "language": "python",
   "name": "python3"
  },
  "language_info": {
   "codemirror_mode": {
    "name": "ipython",
    "version": 3
   },
   "file_extension": ".py",
   "mimetype": "text/x-python",
   "name": "python",
   "nbconvert_exporter": "python",
   "pygments_lexer": "ipython3",
   "version": "3.9.12"
  }
 },
 "nbformat": 4,
 "nbformat_minor": 5
}
