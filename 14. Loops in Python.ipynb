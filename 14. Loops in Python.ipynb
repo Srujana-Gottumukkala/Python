{
 "cells": [
  {
   "cell_type": "markdown",
   "id": "dace49e1",
   "metadata": {},
   "source": [
    "### While loop"
   ]
  },
  {
   "cell_type": "code",
   "execution_count": 5,
   "id": "cb8d0542",
   "metadata": {},
   "outputs": [
    {
     "name": "stdout",
     "output_type": "stream",
     "text": [
      "Data Science\n",
      "Data Science\n",
      "Data Science\n",
      "Data Science\n",
      "Data Science\n",
      "Data Science\n"
     ]
    }
   ],
   "source": [
    "i  = 1              # Initializing a variable\n",
    "\n",
    "while i <= 6:       # Condition\n",
    "    print('Data Science')\n",
    "    i = i + 1       # Increment"
   ]
  },
  {
   "cell_type": "code",
   "execution_count": 6,
   "id": "0e74056d",
   "metadata": {},
   "outputs": [
    {
     "name": "stdout",
     "output_type": "stream",
     "text": [
      "Data Science\n",
      "Data Science\n",
      "Data Science\n",
      "Data Science\n",
      "Data Science\n",
      "Data Science\n"
     ]
    }
   ],
   "source": [
    "i  = 6              # Initializing a variable\n",
    "\n",
    "while i >= 1:       # Condition\n",
    "    print('Data Science')\n",
    "    i = i - 1       # Decrement"
   ]
  },
  {
   "cell_type": "code",
   "execution_count": 7,
   "id": "5eef86cc",
   "metadata": {},
   "outputs": [
    {
     "name": "stdout",
     "output_type": "stream",
     "text": [
      "1 Data Science\n",
      "2 Data Science\n",
      "3 Data Science\n",
      "4 Data Science\n",
      "5 Data Science\n",
      "6 Data Science\n"
     ]
    }
   ],
   "source": [
    "i  = 1              # Initializing a variable\n",
    "\n",
    "while i <= 6:       # Condition\n",
    "    print(i,'Data Science')\n",
    "    i = i + 1       # Increment"
   ]
  },
  {
   "cell_type": "markdown",
   "id": "fd58c3e8",
   "metadata": {},
   "source": [
    "### Nested While loop"
   ]
  },
  {
   "cell_type": "code",
   "execution_count": 8,
   "id": "cc723289",
   "metadata": {},
   "outputs": [
    {
     "name": "stdout",
     "output_type": "stream",
     "text": [
      "Data Science\n",
      "Technology\n",
      "Technology\n",
      "Technology\n",
      "Technology\n",
      "\n",
      "Data Science\n",
      "Technology\n",
      "Technology\n",
      "Technology\n",
      "Technology\n",
      "\n",
      "Data Science\n",
      "Technology\n",
      "Technology\n",
      "Technology\n",
      "Technology\n",
      "\n",
      "Data Science\n",
      "Technology\n",
      "Technology\n",
      "Technology\n",
      "Technology\n",
      "\n",
      "Data Science\n",
      "Technology\n",
      "Technology\n",
      "Technology\n",
      "Technology\n",
      "\n"
     ]
    }
   ],
   "source": [
    "# If we have two conditions to check, we apply nested while. For instance:\n",
    "\n",
    "i = 1\n",
    "\n",
    "while i <= 5:\n",
    "    print('Data Science')\n",
    "    j = 1\n",
    "    while j <= 4:\n",
    "        print('Technology')\n",
    "        j = j + 1\n",
    "    i = i + 1\n",
    "    print()"
   ]
  },
  {
   "cell_type": "code",
   "execution_count": 9,
   "id": "45ec9b30",
   "metadata": {},
   "outputs": [
    {
     "name": "stdout",
     "output_type": "stream",
     "text": [
      "Data ScienceTechnologyTechnologyTechnologyTechnology\n",
      "Data ScienceTechnologyTechnologyTechnologyTechnology\n",
      "Data ScienceTechnologyTechnologyTechnologyTechnology\n",
      "Data ScienceTechnologyTechnologyTechnologyTechnology\n",
      "Data ScienceTechnologyTechnologyTechnologyTechnology\n"
     ]
    }
   ],
   "source": [
    "# Note the use of end\n",
    "\n",
    "i = 1\n",
    "\n",
    "while i <= 5:\n",
    "    print('Data Science', end = \"\")\n",
    "    j = 1\n",
    "    while j <= 4:\n",
    "        print('Technology', end = \"\")\n",
    "        j = j + 1\n",
    "    i = i + 1\n",
    "    print()"
   ]
  },
  {
   "cell_type": "code",
   "execution_count": 10,
   "id": "34355648",
   "metadata": {},
   "outputs": [
    {
     "name": "stdout",
     "output_type": "stream",
     "text": [
      "Data Science Technology Technology Technology Technology \n",
      "Data Science Technology Technology Technology Technology \n",
      "Data Science Technology Technology Technology Technology \n",
      "Data Science Technology Technology Technology Technology \n",
      "Data Science Technology Technology Technology Technology \n"
     ]
    }
   ],
   "source": [
    "# Note the use of end\n",
    "\n",
    "i = 1\n",
    "\n",
    "while i <= 5:\n",
    "    print('Data Science', end = \" \")\n",
    "    j = 1\n",
    "    while j <= 4:\n",
    "        print('Technology', end = \" \")\n",
    "        j = j + 1\n",
    "    i = i + 1\n",
    "    print()"
   ]
  },
  {
   "cell_type": "code",
   "execution_count": 11,
   "id": "d362c62b",
   "metadata": {},
   "outputs": [
    {
     "name": "stdout",
     "output_type": "stream",
     "text": [
      "Data Science * Technology # Technology # Technology # Technology # \n",
      "Data Science * Technology # Technology # Technology # Technology # \n",
      "Data Science * Technology # Technology # Technology # Technology # \n",
      "Data Science * Technology # Technology # Technology # Technology # \n",
      "Data Science * Technology # Technology # Technology # Technology # \n"
     ]
    }
   ],
   "source": [
    "# Useful for printing patterns\n",
    "\n",
    "i = 1\n",
    "\n",
    "while i <= 5:\n",
    "    print('Data Science', end = \" * \")\n",
    "    j = 1\n",
    "    while j <= 4:\n",
    "        print('Technology', end = \" # \")\n",
    "        j = j + 1\n",
    "    i = i + 1\n",
    "    print()"
   ]
  },
  {
   "cell_type": "code",
   "execution_count": 12,
   "id": "fc0085c2",
   "metadata": {},
   "outputs": [
    {
     "name": "stdout",
     "output_type": "stream",
     "text": [
      "0 1 2 \n",
      "0 2 4 \n"
     ]
    }
   ],
   "source": [
    "i = 1\n",
    "\n",
    "while i <= 2:\n",
    "    j = 0\n",
    "    while j <= 2:\n",
    "        print(i*j, end = \" \")\n",
    "        j += 1\n",
    "    print()\n",
    "    i += 1"
   ]
  },
  {
   "cell_type": "code",
   "execution_count": 13,
   "id": "1b4ab673",
   "metadata": {},
   "outputs": [
    {
     "name": "stdout",
     "output_type": "stream",
     "text": [
      "0 1 2 3 \n",
      "0 2 4 6 \n",
      "0 3 6 9 \n",
      "0 4 8 12 \n"
     ]
    }
   ],
   "source": [
    "i = 1\n",
    "\n",
    "while i <= 4:\n",
    "    j = 0\n",
    "    while j <= 3:\n",
    "        print(i*j, end = \" \")\n",
    "        j += 1\n",
    "    print()\n",
    "    i += 1"
   ]
  },
  {
   "cell_type": "code",
   "execution_count": 14,
   "id": "9858ddf2",
   "metadata": {},
   "outputs": [
    {
     "name": "stdout",
     "output_type": "stream",
     "text": [
      "0 1 2 3 0 2 4 6 0 3 6 9 0 4 8 12 "
     ]
    }
   ],
   "source": [
    "i = 1\n",
    "\n",
    "while i <= 4:\n",
    "    j = 0\n",
    "    while j <= 3:\n",
    "        print(i*j, end = \" \")\n",
    "        j += 1\n",
    "    i += 1"
   ]
  },
  {
   "cell_type": "code",
   "execution_count": 15,
   "id": "1afb10b1",
   "metadata": {},
   "outputs": [
    {
     "name": "stdout",
     "output_type": "stream",
     "text": [
      "S\n",
      "r\n",
      "u\n",
      "j\n",
      "a\n",
      "n\n",
      "a\n"
     ]
    }
   ],
   "source": [
    "name = 'Srujana'\n",
    "\n",
    "for i in name:\n",
    "    print(i)"
   ]
  },
  {
   "cell_type": "code",
   "execution_count": 18,
   "id": "bd8c8533",
   "metadata": {},
   "outputs": [
    {
     "name": "stdout",
     "output_type": "stream",
     "text": [
      "Srujana\n",
      "29\n",
      "1000000\n"
     ]
    }
   ],
   "source": [
    "personal_details = ['Srujana', 29, 1000000]\n",
    "\n",
    "for i in personal_details:\n",
    "    print(i)"
   ]
  },
  {
   "cell_type": "code",
   "execution_count": 19,
   "id": "380943ed",
   "metadata": {},
   "outputs": [
    {
     "name": "stdout",
     "output_type": "stream",
     "text": [
      "1\n",
      "1.5\n",
      "2\n",
      "2.5\n",
      "Done\n"
     ]
    }
   ],
   "source": [
    "for i in [1,1.5,2,2.5,'Done']:\n",
    "    print(i)"
   ]
  },
  {
   "cell_type": "code",
   "execution_count": 20,
   "id": "3f0cf70a",
   "metadata": {},
   "outputs": [
    {
     "name": "stdout",
     "output_type": "stream",
     "text": [
      "0\n",
      "1\n",
      "2\n",
      "3\n",
      "4\n"
     ]
    }
   ],
   "source": [
    "# Passing one argument\n",
    "for i in range(5):\n",
    "    print(i)\n",
    "    "
   ]
  },
  {
   "cell_type": "code",
   "execution_count": 21,
   "id": "f3eeae6b",
   "metadata": {},
   "outputs": [
    {
     "name": "stdout",
     "output_type": "stream",
     "text": [
      "2\n",
      "3\n",
      "4\n"
     ]
    }
   ],
   "source": [
    "# Passing two arguments\n",
    "for i in range(2,5):\n",
    "    print(i)"
   ]
  },
  {
   "cell_type": "code",
   "execution_count": 23,
   "id": "8d1b8b03",
   "metadata": {},
   "outputs": [
    {
     "name": "stdout",
     "output_type": "stream",
     "text": [
      "0\n",
      "3\n",
      "6\n",
      "9\n",
      "12\n",
      "15\n",
      "18\n"
     ]
    }
   ],
   "source": [
    "# Passing three arguments\n",
    "for i in range(0,20,3):\n",
    "    print(i)"
   ]
  },
  {
   "cell_type": "code",
   "execution_count": 24,
   "id": "3c66aadb",
   "metadata": {},
   "outputs": [
    {
     "name": "stdout",
     "output_type": "stream",
     "text": [
      "3\n",
      "6\n",
      "9\n",
      "12\n",
      "15\n",
      "18\n",
      "21\n",
      "24\n",
      "27\n"
     ]
    }
   ],
   "source": [
    "# Divisible by 3\n",
    "for i in range(1,30):\n",
    "    if i%3 == 0:\n",
    "        print(i)"
   ]
  },
  {
   "cell_type": "code",
   "execution_count": 32,
   "id": "2cfb5f54",
   "metadata": {},
   "outputs": [
    {
     "name": "stdout",
     "output_type": "stream",
     "text": [
      "1\n",
      "2\n",
      "4\n",
      "7\n",
      "8\n",
      "11\n",
      "13\n",
      "14\n",
      "16\n",
      "17\n",
      "19\n",
      "22\n",
      "23\n",
      "26\n",
      "28\n",
      "29\n",
      "end\n"
     ]
    }
   ],
   "source": [
    "# Skip all the values that are divisible by 3 or 5\n",
    "for i in range(1,30):\n",
    "    if i%3 == 0 or i%5 == 0:\n",
    "        continue\n",
    "    print(i)\n",
    "print('end')"
   ]
  },
  {
   "cell_type": "code",
   "execution_count": 35,
   "id": "2fdcb75c",
   "metadata": {},
   "outputs": [
    {
     "name": "stdout",
     "output_type": "stream",
     "text": [
      "#\n",
      "#\n",
      "#\n",
      "#\n",
      "#\n",
      "#\n",
      "#\n",
      "#\n",
      "#\n",
      "#\n",
      "#\n",
      "#\n",
      "#\n",
      "#\n",
      "#\n",
      "#\n"
     ]
    }
   ],
   "source": [
    "# Printing pattern\n",
    "i = 1\n",
    "while i <= 4:\n",
    "    j = 1\n",
    "    while j <= 4:\n",
    "        print('#')\n",
    "        j = j + 1\n",
    "    i = i + 1"
   ]
  },
  {
   "cell_type": "code",
   "execution_count": 41,
   "id": "a5c66d55",
   "metadata": {},
   "outputs": [
    {
     "name": "stdout",
     "output_type": "stream",
     "text": [
      "# # # #\n",
      "# # # #\n",
      "# # # #\n",
      "# # # #\n"
     ]
    }
   ],
   "source": [
    "i = 1\n",
    "while i <= 4:\n",
    "        print('# # # #')\n",
    "        i = i + 1"
   ]
  },
  {
   "cell_type": "code",
   "execution_count": 42,
   "id": "e54837f9",
   "metadata": {},
   "outputs": [
    {
     "name": "stdout",
     "output_type": "stream",
     "text": [
      "#\n",
      "#\n",
      "#\n",
      "#\n"
     ]
    }
   ],
   "source": [
    "for i in range(4):\n",
    "    print('#')"
   ]
  },
  {
   "cell_type": "code",
   "execution_count": 43,
   "id": "43a0c551",
   "metadata": {},
   "outputs": [
    {
     "name": "stdout",
     "output_type": "stream",
     "text": [
      "# # # # "
     ]
    }
   ],
   "source": [
    "for i in range(4):\n",
    "    print('#', end = \" \")"
   ]
  },
  {
   "cell_type": "code",
   "execution_count": 47,
   "id": "80c42a62",
   "metadata": {},
   "outputs": [
    {
     "name": "stdout",
     "output_type": "stream",
     "text": [
      "# # # # \n",
      "# # # # \n",
      "# # # # \n",
      "# # # # \n"
     ]
    }
   ],
   "source": [
    "for i in range(4):\n",
    "    for j in range(4):\n",
    "        print('#', end = \" \")\n",
    "    print()"
   ]
  },
  {
   "cell_type": "markdown",
   "id": "9695eb9f",
   "metadata": {},
   "source": [
    "**Summary**\n",
    "- while loop, nested while \n",
    "- if else, using it inside the while loop\n",
    "- for and while loop,using them inside a function\n",
    "- while is used when there are conditions\n",
    "- for loop is used when we have data structures"
   ]
  }
 ],
 "metadata": {
  "kernelspec": {
   "display_name": "Python 3 (ipykernel)",
   "language": "python",
   "name": "python3"
  },
  "language_info": {
   "codemirror_mode": {
    "name": "ipython",
    "version": 3
   },
   "file_extension": ".py",
   "mimetype": "text/x-python",
   "name": "python",
   "nbconvert_exporter": "python",
   "pygments_lexer": "ipython3",
   "version": "3.9.12"
  }
 },
 "nbformat": 4,
 "nbformat_minor": 5
}
