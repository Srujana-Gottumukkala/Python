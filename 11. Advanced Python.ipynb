{
 "cells": [
  {
   "cell_type": "markdown",
   "id": "8f71eb09",
   "metadata": {},
   "source": [
    "# Advanced Python"
   ]
  },
  {
   "cell_type": "markdown",
   "id": "2d7ee77c",
   "metadata": {},
   "source": [
    "ALU (Arithmetic Unit and Logic Unit)\n",
    "Memory unit - All variables are stored in memory\n",
    "Arithmetic unit - Addition, subtraction, etc\n",
    "Logic unit - Conditional statements\n",
    "             if\n",
    "             if else\n",
    "             if elif else\n",
    "             nested if"
   ]
  },
  {
   "cell_type": "markdown",
   "id": "cccd3ab5",
   "metadata": {},
   "source": [
    "### Conditional statements"
   ]
  },
  {
   "cell_type": "code",
   "execution_count": 1,
   "id": "47452d11",
   "metadata": {},
   "outputs": [
    {
     "name": "stdout",
     "output_type": "stream",
     "text": [
      "Data Science\n"
     ]
    }
   ],
   "source": [
    "if True:\n",
    "    print('Data Science')"
   ]
  },
  {
   "cell_type": "code",
   "execution_count": 2,
   "id": "60ff3abd",
   "metadata": {},
   "outputs": [
    {
     "name": "stdout",
     "output_type": "stream",
     "text": [
      "Srujana\n"
     ]
    }
   ],
   "source": [
    "if True:\n",
    "    print('Srujana')"
   ]
  },
  {
   "cell_type": "code",
   "execution_count": 3,
   "id": "4ed5189f",
   "metadata": {},
   "outputs": [
    {
     "ename": "IndentationError",
     "evalue": "expected an indented block (1037638651.py, line 2)",
     "output_type": "error",
     "traceback": [
      "\u001b[1;36m  Input \u001b[1;32mIn [3]\u001b[1;36m\u001b[0m\n\u001b[1;33m    print('Srujana')\u001b[0m\n\u001b[1;37m    ^\u001b[0m\n\u001b[1;31mIndentationError\u001b[0m\u001b[1;31m:\u001b[0m expected an indented block\n"
     ]
    }
   ],
   "source": [
    "if True:\n",
    "print('Srujana')\n",
    "\n",
    "# Note the error, by default 1 tab/4 spaces indentation is needed"
   ]
  },
  {
   "cell_type": "code",
   "execution_count": 4,
   "id": "da0e57c9",
   "metadata": {},
   "outputs": [
    {
     "name": "stdout",
     "output_type": "stream",
     "text": [
      "Even Number\n"
     ]
    }
   ],
   "source": [
    "# To print only even number\n",
    "x = 4\n",
    "r = x % 2\n",
    "if r == 0:\n",
    "    print('Even Number')"
   ]
  },
  {
   "cell_type": "code",
   "execution_count": 5,
   "id": "3a97a41a",
   "metadata": {},
   "outputs": [
    {
     "name": "stdout",
     "output_type": "stream",
     "text": [
      "Odd Number\n"
     ]
    }
   ],
   "source": [
    "# To print only even number\n",
    "x = 5\n",
    "r = x % 2\n",
    "if r == 0:\n",
    "    print('Even Number')\n",
    "else:\n",
    "    print('Odd Number')"
   ]
  },
  {
   "cell_type": "markdown",
   "id": "c6e99878",
   "metadata": {},
   "source": [
    "Never use multiple if in real time applications at work\n",
    "Reason - "
   ]
  },
  {
   "cell_type": "code",
   "execution_count": null,
   "id": "72618e09",
   "metadata": {},
   "outputs": [],
   "source": [
    "x = 10\n",
    "r = x % 2\n",
    "\n",
    "if r == 0:\n",
    "    print('Even number')\n",
    "if r == 1:\n",
    "    print()\n",
    "    \n",
    "# Debug this in Pycharm"
   ]
  },
  {
   "cell_type": "markdown",
   "id": "9bffaaa1",
   "metadata": {},
   "source": [
    "You will face deployment issues if you write multiple if statements, system slows down\n",
    "When the program has two or more conditions, then use nested if"
   ]
  },
  {
   "cell_type": "markdown",
   "id": "d3284a6e",
   "metadata": {},
   "source": [
    "### Nested if"
   ]
  },
  {
   "cell_type": "code",
   "execution_count": 7,
   "id": "4ca9e217",
   "metadata": {},
   "outputs": [
    {
     "name": "stdout",
     "output_type": "stream",
     "text": [
      "Odd Number\n"
     ]
    }
   ],
   "source": [
    "x = 3\n",
    "r = x % 2\n",
    "\n",
    "if r == 0:\n",
    "    print('Even number')\n",
    "    if x > 5:\n",
    "        print('Greater number')\n",
    "else:\n",
    "    print('Odd Number')"
   ]
  },
  {
   "cell_type": "code",
   "execution_count": 8,
   "id": "bb949aa8",
   "metadata": {},
   "outputs": [
    {
     "name": "stdout",
     "output_type": "stream",
     "text": [
      "Even number\n"
     ]
    }
   ],
   "source": [
    "x = 4\n",
    "r = x % 2\n",
    "\n",
    "if r == 0:\n",
    "    print('Even number')\n",
    "    if x > 5:\n",
    "        print('Greater number')\n",
    "else:\n",
    "    print('Odd Number')"
   ]
  },
  {
   "cell_type": "code",
   "execution_count": null,
   "id": "92bc6812",
   "metadata": {},
   "outputs": [],
   "source": [
    "x = 4\n",
    "r = x % 2\n",
    "\n",
    "if r == 0:\n",
    "    print('Even number')\n",
    "    if x > 5:\n",
    "        print('Greater number')\n",
    "else:\n",
    "    print('Odd Number')"
   ]
  },
  {
   "cell_type": "markdown",
   "id": "3f3ab756",
   "metadata": {},
   "source": [
    "### elif"
   ]
  },
  {
   "cell_type": "code",
   "execution_count": 14,
   "id": "e82ab68a",
   "metadata": {},
   "outputs": [],
   "source": [
    "# When you use if, it will check all conditions. But if we mention elif, it will not check all the conditions\n",
    "x = 7\n",
    "if x == 1:\n",
    "    print('One')\n",
    "elif x == 2:\n",
    "    print('Two')\n",
    "elif x == 3:\n",
    "    print('Three')\n",
    "elif x == 4:\n",
    "    print('Four')"
   ]
  },
  {
   "cell_type": "code",
   "execution_count": 13,
   "id": "6080d767",
   "metadata": {},
   "outputs": [
    {
     "name": "stdout",
     "output_type": "stream",
     "text": [
      "Number not found\n"
     ]
    }
   ],
   "source": [
    "x = 7\n",
    "if x == 1:\n",
    "    print('One')\n",
    "elif x == 2:\n",
    "    print('Two')\n",
    "elif x == 3:\n",
    "    print('Three')\n",
    "elif x == 4:\n",
    "    print('Four')\n",
    "else:\n",
    "    print('Number not found')"
   ]
  },
  {
   "cell_type": "markdown",
   "id": "4b92015d",
   "metadata": {},
   "source": [
    "### Loops\n",
    "- Used for repeating certain actions multiple times"
   ]
  },
  {
   "cell_type": "markdown",
   "id": "89ad8198",
   "metadata": {},
   "source": [
    "### While loop\n",
    "    - Used when there is a condition\n",
    "    \n",
    "### For loop\n",
    "    - Used when there are data sequences like lists, tuples, set"
   ]
  },
  {
   "cell_type": "markdown",
   "id": "969a25ce",
   "metadata": {},
   "source": [
    "### Summary\n",
    "    - if \n",
    "    - if else\n",
    "    - if elif else\n",
    "    - nested if\n",
    "    - install VS Code\n",
    "        Extensions\n",
    "        - AREPL extension - for python in vscode\n",
    "        - Autodocstring\n",
    "        - Code Runner\n",
    "        - Data Wrangler\n",
    "        - GitHub Copilot\n",
    "        - IntelliCode\n",
    "        - Jupyter\n",
    "        - Notepad++ Keymap\n",
    "        - npm Intellisense\n",
    "        - Office Viewer (Markdown Editor)\n",
    "        - PDF Viewer\n",
    "        - Python\n",
    "        - Python Image Preview\n",
    "        - SQLTools\n",
    "        - vscode-pdf\n",
    "        - YAML\n",
    "        - Note the difference between .py file and .ipynb file"
   ]
  }
 ],
 "metadata": {
  "kernelspec": {
   "display_name": "Python 3 (ipykernel)",
   "language": "python",
   "name": "python3"
  },
  "language_info": {
   "codemirror_mode": {
    "name": "ipython",
    "version": 3
   },
   "file_extension": ".py",
   "mimetype": "text/x-python",
   "name": "python",
   "nbconvert_exporter": "python",
   "pygments_lexer": "ipython3",
   "version": "3.9.12"
  }
 },
 "nbformat": 4,
 "nbformat_minor": 5
}
