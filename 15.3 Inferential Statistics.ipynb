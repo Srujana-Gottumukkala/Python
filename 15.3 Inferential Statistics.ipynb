{
 "cells": [
  {
   "cell_type": "markdown",
   "id": "e98e2a71",
   "metadata": {},
   "source": [
    "#### Uniform distribution\n",
    "    Eg: Rolling of a single dice - has the same probability (1/6). So it has uniform distribution\n",
    "        Rolling two dice - probability of getting a particular sum - normal distribution"
   ]
  },
  {
   "cell_type": "markdown",
   "id": "484b8d69",
   "metadata": {},
   "source": [
    "   #### Standard Normal Distribution\n",
    "    - Also called as z-score\n",
    "    - Mean = 0\n",
    "    - Standard deviation = 1\n",
    "    - Z-score is useful to perform standardization, for outlier detection and to determine the probability\n",
    "    - In time series, standardization is called as white noise\n",
    "    - In machine learning, it is called as standardized variable"
   ]
  },
  {
   "cell_type": "markdown",
   "id": "b9f98f98",
   "metadata": {},
   "source": [
    "   #### Central Limit Theorem\n",
    "   - If sample size is large enough (>= 30), then the sampling distribution of the mean will always be a normal distribution"
   ]
  },
  {
   "cell_type": "markdown",
   "id": "fc5aa180",
   "metadata": {},
   "source": [
    "Notes:\n",
    "    Front end applications\n",
    "    - tkinter - web gui\n",
    "    - flask \n",
    "    - streamlit\n",
    "    - fast api"
   ]
  },
  {
   "cell_type": "markdown",
   "id": "a29cc3c3",
   "metadata": {},
   "source": [
    "- z-test - for population\n",
    "- t-test - for sample"
   ]
  }
 ],
 "metadata": {
  "kernelspec": {
   "display_name": "Python 3 (ipykernel)",
   "language": "python",
   "name": "python3"
  },
  "language_info": {
   "codemirror_mode": {
    "name": "ipython",
    "version": 3
   },
   "file_extension": ".py",
   "mimetype": "text/x-python",
   "name": "python",
   "nbconvert_exporter": "python",
   "pygments_lexer": "ipython3",
   "version": "3.9.12"
  }
 },
 "nbformat": 4,
 "nbformat_minor": 5
}
