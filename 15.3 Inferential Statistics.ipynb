{
 "cells": [
  {
   "cell_type": "markdown",
   "id": "e98e2a71",
   "metadata": {},
   "source": [
    "#### Uniform distribution\n",
    "    Eg: Rolling of a single dice - has the same probability (1/6). So it has uniform distribution\n",
    "        Rolling two dice - probability of getting a particular sum - normal distribution"
   ]
  },
  {
   "cell_type": "markdown",
   "id": "fc5aa180",
   "metadata": {},
   "source": [
    "Notes:\n",
    "    Front end applications\n",
    "    - tkinter - web gui\n",
    "    - flask \n",
    "    - streamlit\n",
    "    - fast api"
   ]
  }
 ],
 "metadata": {
  "kernelspec": {
   "display_name": "Python 3 (ipykernel)",
   "language": "python",
   "name": "python3"
  },
  "language_info": {
   "codemirror_mode": {
    "name": "ipython",
    "version": 3
   },
   "file_extension": ".py",
   "mimetype": "text/x-python",
   "name": "python",
   "nbconvert_exporter": "python",
   "pygments_lexer": "ipython3",
   "version": "3.9.12"
  }
 },
 "nbformat": 4,
 "nbformat_minor": 5
}
