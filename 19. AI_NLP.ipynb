{
 "cells": [
  {
   "cell_type": "code",
   "execution_count": 1,
   "id": "3b8d0f76-6238-4b35-ac9e-faea7e094884",
   "metadata": {},
   "outputs": [],
   "source": [
    "import os\n",
    "import nltk\n",
    "# nltk.download() - use only once for downloading"
   ]
  },
  {
   "cell_type": "code",
   "execution_count": 2,
   "id": "4f22fe50-53ca-4756-aca7-c4e608b47b15",
   "metadata": {},
   "outputs": [],
   "source": [
    "# General paragraph, try with your own\n",
    "AI = '''As more companies start using AI in everyday tools, it's becoming really important to figure out how to use it responsibly and make sure it doesn't cause unexpected problems.'''"
   ]
  },
  {
   "cell_type": "code",
   "execution_count": 3,
   "id": "df8d118d-e061-48fc-b915-2601218460fe",
   "metadata": {},
   "outputs": [
    {
     "data": {
      "text/plain": [
       "\"As more companies start using AI in everyday tools, it's becoming really important to figure out how to use it responsibly and make sure it doesn't cause unexpected problems.\""
      ]
     },
     "execution_count": 3,
     "metadata": {},
     "output_type": "execute_result"
    }
   ],
   "source": [
    "AI"
   ]
  },
  {
   "cell_type": "code",
   "execution_count": 4,
   "id": "6cd3db68-9525-42df-a387-198ae695826c",
   "metadata": {},
   "outputs": [
    {
     "data": {
      "text/plain": [
       "str"
      ]
     },
     "execution_count": 4,
     "metadata": {},
     "output_type": "execute_result"
    }
   ],
   "source": [
    "type(AI)"
   ]
  },
  {
   "cell_type": "markdown",
   "id": "48964332-13ea-42c8-b665-3caeecd49880",
   "metadata": {},
   "source": [
    "## Tokenization"
   ]
  },
  {
   "cell_type": "code",
   "execution_count": 5,
   "id": "1ac4693b-1936-4295-b57b-956a9a897b06",
   "metadata": {},
   "outputs": [],
   "source": [
    "from nltk.tokenize import word_tokenize"
   ]
  },
  {
   "cell_type": "code",
   "execution_count": 6,
   "id": "c41d7700-08c0-4ac8-9378-3257ab1cb39c",
   "metadata": {},
   "outputs": [
    {
     "data": {
      "text/plain": [
       "['As',\n",
       " 'more',\n",
       " 'companies',\n",
       " 'start',\n",
       " 'using',\n",
       " 'AI',\n",
       " 'in',\n",
       " 'everyday',\n",
       " 'tools',\n",
       " ',',\n",
       " 'it',\n",
       " \"'s\",\n",
       " 'becoming',\n",
       " 'really',\n",
       " 'important',\n",
       " 'to',\n",
       " 'figure',\n",
       " 'out',\n",
       " 'how',\n",
       " 'to',\n",
       " 'use',\n",
       " 'it',\n",
       " 'responsibly',\n",
       " 'and',\n",
       " 'make',\n",
       " 'sure',\n",
       " 'it',\n",
       " 'does',\n",
       " \"n't\",\n",
       " 'cause',\n",
       " 'unexpected',\n",
       " 'problems',\n",
       " '.']"
      ]
     },
     "execution_count": 6,
     "metadata": {},
     "output_type": "execute_result"
    }
   ],
   "source": [
    "AI_tokens = word_tokenize(AI)\n",
    "AI_tokens"
   ]
  },
  {
   "cell_type": "code",
   "execution_count": 7,
   "id": "3fd61000-4e6d-4b00-8a28-16984b5b4c09",
   "metadata": {},
   "outputs": [
    {
     "data": {
      "text/plain": [
       "33"
      ]
     },
     "execution_count": 7,
     "metadata": {},
     "output_type": "execute_result"
    }
   ],
   "source": [
    "len(AI_tokens)"
   ]
  },
  {
   "cell_type": "code",
   "execution_count": 8,
   "id": "7f1a6f21-f993-459e-8a20-9d36dbf11c3e",
   "metadata": {},
   "outputs": [
    {
     "data": {
      "text/plain": [
       "['As',\n",
       " 'more',\n",
       " 'companies',\n",
       " 'start',\n",
       " 'using',\n",
       " 'AI',\n",
       " 'in',\n",
       " 'everyday',\n",
       " 'tools,',\n",
       " \"it's\",\n",
       " 'becoming',\n",
       " 'really',\n",
       " 'important',\n",
       " 'to',\n",
       " 'figure',\n",
       " 'out',\n",
       " 'how',\n",
       " 'to',\n",
       " 'use',\n",
       " 'it',\n",
       " 'responsibly',\n",
       " 'and',\n",
       " 'make',\n",
       " 'sure',\n",
       " 'it',\n",
       " \"doesn't\",\n",
       " 'cause',\n",
       " 'unexpected',\n",
       " 'problems.']"
      ]
     },
     "execution_count": 8,
     "metadata": {},
     "output_type": "execute_result"
    }
   ],
   "source": [
    "from nltk.tokenize import WhitespaceTokenizer\n",
    "wt = WhitespaceTokenizer().tokenize(AI)\n",
    "wt"
   ]
  },
  {
   "cell_type": "code",
   "execution_count": 9,
   "id": "96d077fa-19b8-41d3-91ed-8d779d31d3d2",
   "metadata": {},
   "outputs": [
    {
     "name": "stdout",
     "output_type": "stream",
     "text": [
      "29\n"
     ]
    }
   ],
   "source": [
    "print(len(wt))"
   ]
  },
  {
   "cell_type": "code",
   "execution_count": 10,
   "id": "927a3bcf-634d-4af0-a9e9-7d903fd8ff5a",
   "metadata": {},
   "outputs": [
    {
     "data": {
      "text/plain": [
       "[\"As more companies start using AI in everyday tools, it's becoming really important to figure out how to use it responsibly and make sure it doesn't cause unexpected problems.\"]"
      ]
     },
     "execution_count": 10,
     "metadata": {},
     "output_type": "execute_result"
    }
   ],
   "source": [
    "from nltk.tokenize import blankline_tokenize\n",
    "AI_blank = blankline_tokenize(AI)\n",
    "AI_blank"
   ]
  },
  {
   "cell_type": "code",
   "execution_count": 11,
   "id": "718a61ea-2998-4940-94e4-7e13721b59a4",
   "metadata": {},
   "outputs": [
    {
     "data": {
      "text/plain": [
       "1"
      ]
     },
     "execution_count": 11,
     "metadata": {},
     "output_type": "execute_result"
    }
   ],
   "source": [
    "len(AI_blank)"
   ]
  },
  {
   "cell_type": "code",
   "execution_count": 12,
   "id": "1144f425-c317-4275-be19-51a2998953eb",
   "metadata": {},
   "outputs": [
    {
     "data": {
      "text/plain": [
       "['As',\n",
       " 'more',\n",
       " 'companies',\n",
       " 'start',\n",
       " 'using',\n",
       " 'AI',\n",
       " 'in',\n",
       " 'everyday',\n",
       " 'tools',\n",
       " ',',\n",
       " 'it',\n",
       " \"'\",\n",
       " 's',\n",
       " 'becoming',\n",
       " 'really',\n",
       " 'important',\n",
       " 'to',\n",
       " 'figure',\n",
       " 'out',\n",
       " 'how',\n",
       " 'to',\n",
       " 'use',\n",
       " 'it',\n",
       " 'responsibly',\n",
       " 'and',\n",
       " 'make',\n",
       " 'sure',\n",
       " 'it',\n",
       " 'doesn',\n",
       " \"'\",\n",
       " 't',\n",
       " 'cause',\n",
       " 'unexpected',\n",
       " 'problems',\n",
       " '.']"
      ]
     },
     "execution_count": 12,
     "metadata": {},
     "output_type": "execute_result"
    }
   ],
   "source": [
    "from nltk.tokenize import wordpunct_tokenize\n",
    "wordpunct_tokenize(AI)"
   ]
  },
  {
   "cell_type": "code",
   "execution_count": 13,
   "id": "8ab3a0f2-ce32-4926-8872-dd2eb815908b",
   "metadata": {},
   "outputs": [],
   "source": [
    "from nltk.util import bigrams, trigrams, ngrams"
   ]
  },
  {
   "cell_type": "code",
   "execution_count": 14,
   "id": "555198bd-915e-4acd-b511-0453c6c61d9c",
   "metadata": {},
   "outputs": [
    {
     "data": {
      "text/plain": [
       "['After',\n",
       " 'grabbing',\n",
       " 'a',\n",
       " 'coffee',\n",
       " 'from',\n",
       " 'the',\n",
       " 'corner',\n",
       " 'shop',\n",
       " ',',\n",
       " 'she',\n",
       " 'realized',\n",
       " 'she',\n",
       " 'had',\n",
       " 'left',\n",
       " 'her',\n",
       " 'keys',\n",
       " 'on',\n",
       " 'the',\n",
       " 'kitchen',\n",
       " 'counter',\n",
       " 'again']"
      ]
     },
     "execution_count": 14,
     "metadata": {},
     "output_type": "execute_result"
    }
   ],
   "source": [
    "string1 = \"After grabbing a coffee from the corner shop, she realized she had left her keys on the kitchen counter again\"\n",
    "quotes_tokens = nltk.word_tokenize(string1)\n",
    "quotes_tokens"
   ]
  },
  {
   "cell_type": "code",
   "execution_count": 15,
   "id": "0b324e71-106d-4d95-a64b-0a116652e907",
   "metadata": {},
   "outputs": [
    {
     "data": {
      "text/plain": [
       "'After grabbing a coffee from the corner shop, she realized she had left her keys on the kitchen counter again'"
      ]
     },
     "execution_count": 15,
     "metadata": {},
     "output_type": "execute_result"
    }
   ],
   "source": [
    "string1"
   ]
  },
  {
   "cell_type": "code",
   "execution_count": 16,
   "id": "5191609f-292e-4c06-9e6d-fcc914492c7e",
   "metadata": {},
   "outputs": [
    {
     "data": {
      "text/plain": [
       "['After',\n",
       " 'grabbing',\n",
       " 'a',\n",
       " 'coffee',\n",
       " 'from',\n",
       " 'the',\n",
       " 'corner',\n",
       " 'shop',\n",
       " ',',\n",
       " 'she',\n",
       " 'realized',\n",
       " 'she',\n",
       " 'had',\n",
       " 'left',\n",
       " 'her',\n",
       " 'keys',\n",
       " 'on',\n",
       " 'the',\n",
       " 'kitchen',\n",
       " 'counter',\n",
       " 'again']"
      ]
     },
     "execution_count": 16,
     "metadata": {},
     "output_type": "execute_result"
    }
   ],
   "source": [
    "quotes_tokens"
   ]
  },
  {
   "cell_type": "code",
   "execution_count": 17,
   "id": "1dcac87b-1b9e-4917-8fc7-8accb4130ca6",
   "metadata": {},
   "outputs": [
    {
     "data": {
      "text/plain": [
       "21"
      ]
     },
     "execution_count": 17,
     "metadata": {},
     "output_type": "execute_result"
    }
   ],
   "source": [
    "len(quotes_tokens)"
   ]
  },
  {
   "cell_type": "code",
   "execution_count": 18,
   "id": "95d8f7b2-d352-445e-8494-0a6e2e9a524a",
   "metadata": {},
   "outputs": [
    {
     "data": {
      "text/plain": [
       "[('After', 'grabbing'),\n",
       " ('grabbing', 'a'),\n",
       " ('a', 'coffee'),\n",
       " ('coffee', 'from'),\n",
       " ('from', 'the'),\n",
       " ('the', 'corner'),\n",
       " ('corner', 'shop'),\n",
       " ('shop', ','),\n",
       " (',', 'she'),\n",
       " ('she', 'realized'),\n",
       " ('realized', 'she'),\n",
       " ('she', 'had'),\n",
       " ('had', 'left'),\n",
       " ('left', 'her'),\n",
       " ('her', 'keys'),\n",
       " ('keys', 'on'),\n",
       " ('on', 'the'),\n",
       " ('the', 'kitchen'),\n",
       " ('kitchen', 'counter'),\n",
       " ('counter', 'again')]"
      ]
     },
     "execution_count": 18,
     "metadata": {},
     "output_type": "execute_result"
    }
   ],
   "source": [
    "quotes_bigrams = list(nltk.bigrams(quotes_tokens))\n",
    "quotes_bigrams"
   ]
  },
  {
   "cell_type": "code",
   "execution_count": 19,
   "id": "c0ef8d3a-3706-41c6-af31-d738bc707b58",
   "metadata": {},
   "outputs": [
    {
     "data": {
      "text/plain": [
       "[('After', 'grabbing', 'a'),\n",
       " ('grabbing', 'a', 'coffee'),\n",
       " ('a', 'coffee', 'from'),\n",
       " ('coffee', 'from', 'the'),\n",
       " ('from', 'the', 'corner'),\n",
       " ('the', 'corner', 'shop'),\n",
       " ('corner', 'shop', ','),\n",
       " ('shop', ',', 'she'),\n",
       " (',', 'she', 'realized'),\n",
       " ('she', 'realized', 'she'),\n",
       " ('realized', 'she', 'had'),\n",
       " ('she', 'had', 'left'),\n",
       " ('had', 'left', 'her'),\n",
       " ('left', 'her', 'keys'),\n",
       " ('her', 'keys', 'on'),\n",
       " ('keys', 'on', 'the'),\n",
       " ('on', 'the', 'kitchen'),\n",
       " ('the', 'kitchen', 'counter'),\n",
       " ('kitchen', 'counter', 'again')]"
      ]
     },
     "execution_count": 19,
     "metadata": {},
     "output_type": "execute_result"
    }
   ],
   "source": [
    "quotes_trigrams = list(nltk.trigrams(quotes_tokens))\n",
    "quotes_trigrams"
   ]
  },
  {
   "cell_type": "code",
   "execution_count": 20,
   "id": "d0c5dbdb-7baa-4bbe-b6cf-a73669eb8e9e",
   "metadata": {},
   "outputs": [
    {
     "data": {
      "text/plain": [
       "[('After', 'grabbing', 'a', 'coffee', 'from', 'the'),\n",
       " ('grabbing', 'a', 'coffee', 'from', 'the', 'corner'),\n",
       " ('a', 'coffee', 'from', 'the', 'corner', 'shop'),\n",
       " ('coffee', 'from', 'the', 'corner', 'shop', ','),\n",
       " ('from', 'the', 'corner', 'shop', ',', 'she'),\n",
       " ('the', 'corner', 'shop', ',', 'she', 'realized'),\n",
       " ('corner', 'shop', ',', 'she', 'realized', 'she'),\n",
       " ('shop', ',', 'she', 'realized', 'she', 'had'),\n",
       " (',', 'she', 'realized', 'she', 'had', 'left'),\n",
       " ('she', 'realized', 'she', 'had', 'left', 'her'),\n",
       " ('realized', 'she', 'had', 'left', 'her', 'keys'),\n",
       " ('she', 'had', 'left', 'her', 'keys', 'on'),\n",
       " ('had', 'left', 'her', 'keys', 'on', 'the'),\n",
       " ('left', 'her', 'keys', 'on', 'the', 'kitchen'),\n",
       " ('her', 'keys', 'on', 'the', 'kitchen', 'counter'),\n",
       " ('keys', 'on', 'the', 'kitchen', 'counter', 'again')]"
      ]
     },
     "execution_count": 20,
     "metadata": {},
     "output_type": "execute_result"
    }
   ],
   "source": [
    "quotes_ngrams = list(nltk.ngrams(quotes_tokens,6))  # The number of tokens required must be mentioned here\n",
    "quotes_ngrams"
   ]
  },
  {
   "cell_type": "markdown",
   "id": "e102145b-a2a6-4e16-90e9-314713627dea",
   "metadata": {},
   "source": [
    "## Stemming"
   ]
  },
  {
   "cell_type": "markdown",
   "id": "04f842e7-1b9d-465f-9077-2e351c31e880",
   "metadata": {},
   "source": [
    "Real time applications - Bank chatbots"
   ]
  },
  {
   "cell_type": "code",
   "execution_count": 21,
   "id": "102716f7-30ad-4b2b-af13-66082a6eaf3f",
   "metadata": {},
   "outputs": [],
   "source": [
    "from nltk.stem import PorterStemmer\n",
    "pst = PorterStemmer()"
   ]
  },
  {
   "cell_type": "code",
   "execution_count": 22,
   "id": "040f7df6-8460-4983-9907-7d098b1244aa",
   "metadata": {},
   "outputs": [
    {
     "data": {
      "text/plain": [
       "'affect'"
      ]
     },
     "execution_count": 22,
     "metadata": {},
     "output_type": "execute_result"
    }
   ],
   "source": [
    "pst.stem('affection')\n",
    "# Provides the root form of the word"
   ]
  },
  {
   "cell_type": "code",
   "execution_count": 23,
   "id": "1a87e907-4d9d-4277-b81c-020a7fbd868f",
   "metadata": {},
   "outputs": [
    {
     "data": {
      "text/plain": [
       "'play'"
      ]
     },
     "execution_count": 23,
     "metadata": {},
     "output_type": "execute_result"
    }
   ],
   "source": [
    "pst.stem('playing')"
   ]
  },
  {
   "cell_type": "code",
   "execution_count": 24,
   "id": "2968f4d7-530d-4b47-8656-d9f7bd1bc46f",
   "metadata": {},
   "outputs": [
    {
     "data": {
      "text/plain": [
       "'divid'"
      ]
     },
     "execution_count": 24,
     "metadata": {},
     "output_type": "execute_result"
    }
   ],
   "source": [
    "pst.stem('divide')"
   ]
  },
  {
   "cell_type": "markdown",
   "id": "0031e44c-61fc-42ec-9e5c-96edc1229d56",
   "metadata": {},
   "source": [
    "Note that it always removes the suffix"
   ]
  },
  {
   "cell_type": "code",
   "execution_count": 31,
   "id": "572479c0-b645-4baf-8ed6-457d12c3a699",
   "metadata": {},
   "outputs": [
    {
     "name": "stdout",
     "output_type": "stream",
     "text": [
      "take:take\n",
      "taking:take\n",
      "taken:taken\n",
      "took:took\n"
     ]
    }
   ],
   "source": [
    "words_to_stem = ['take', 'taking', 'taken', 'took']\n",
    "\n",
    "for words in words_to_stem:\n",
    "    print(words+':'+pst.stem(words))"
   ]
  },
  {
   "cell_type": "code",
   "execution_count": 32,
   "id": "d5660262-89d5-47e1-a47a-408e97809e1b",
   "metadata": {},
   "outputs": [
    {
     "name": "stdout",
     "output_type": "stream",
     "text": [
      "take:take\n",
      "taking:take\n",
      "taken:taken\n",
      "took:took\n",
      "thinking:think\n",
      "loving:love\n",
      "maximum:maximum\n"
     ]
    }
   ],
   "source": [
    "words_to_stem = ['take', 'taking', 'taken', 'took', 'thinking', 'loving', 'maximum']\n",
    "for words in words_to_stem:\n",
    "    print(words+':'+pst.stem(words))\n",
    "# gives the root form of the words"
   ]
  },
  {
   "cell_type": "code",
   "execution_count": 33,
   "id": "ceba5ca9-2e2a-46ca-89b3-68a999651368",
   "metadata": {},
   "outputs": [
    {
     "name": "stdout",
     "output_type": "stream",
     "text": [
      "take:tak\n",
      "taking:tak\n",
      "taken:tak\n",
      "took:took\n",
      "thinking:think\n",
      "loving:lov\n",
      "maximum:maxim\n"
     ]
    }
   ],
   "source": [
    "from nltk.stem import LancasterStemmer\n",
    "lst = LancasterStemmer()\n",
    "for words in words_to_stem:\n",
    "    print(words+':'+lst.stem(words))\n",
    "# gives the core root form of the words"
   ]
  },
  {
   "cell_type": "code",
   "execution_count": 28,
   "id": "6165c561-bd12-450f-afe7-213a5a3fa70c",
   "metadata": {},
   "outputs": [
    {
     "name": "stdout",
     "output_type": "stream",
     "text": [
      "give:give\n",
      "giving:give\n",
      "given:given\n",
      "gave:gave\n",
      "thinking:think\n",
      "loving:love\n",
      "maximum:maximum\n"
     ]
    }
   ],
   "source": [
    "from nltk.stem import SnowballStemmer\n",
    "sbst = SnowballStemmer('english')\n",
    "for words in words_to_stem:\n",
    "    print(words+':'+sbst.stem(words))\n",
    "# works with other languages as well"
   ]
  },
  {
   "cell_type": "markdown",
   "id": "e1aa24da-632c-441b-9063-2d3003805724",
   "metadata": {},
   "source": [
    "## Lemmatization"
   ]
  },
  {
   "cell_type": "code",
   "execution_count": 34,
   "id": "122be9de-97ac-4494-81c6-9bf01bc549ed",
   "metadata": {},
   "outputs": [],
   "source": [
    "from nltk.stem import wordnet\n",
    "from nltk.stem import WordNetLemmatizer\n",
    "word_lem = WordNetLemmatizer()"
   ]
  },
  {
   "cell_type": "code",
   "execution_count": 35,
   "id": "80159229-ee8f-4dbc-b925-18aabad30f97",
   "metadata": {},
   "outputs": [
    {
     "name": "stdout",
     "output_type": "stream",
     "text": [
      "take:take\n",
      "taking:taking\n",
      "taken:taken\n",
      "took:took\n",
      "thinking:thinking\n",
      "loving:loving\n",
      "maximum:maximum\n"
     ]
    }
   ],
   "source": [
    "for words in words_to_stem:\n",
    "    print(words+':'+word_lem.lemmatize(words))"
   ]
  },
  {
   "cell_type": "markdown",
   "id": "2772b1bb-286a-46df-be1d-82548135c444",
   "metadata": {},
   "source": [
    "## Stopwords\n",
    "They appear frequently in the text but do not add much meaning"
   ]
  },
  {
   "cell_type": "code",
   "execution_count": 36,
   "id": "92c8b1ae-d2c2-4e2f-80cd-9ee26941a555",
   "metadata": {},
   "outputs": [],
   "source": [
    "from nltk.corpus import stopwords"
   ]
  },
  {
   "cell_type": "code",
   "execution_count": 53,
   "id": "740d32f5-471c-4501-b533-c26edcef72cf",
   "metadata": {},
   "outputs": [
    {
     "data": {
      "text/plain": [
       "['a',\n",
       " 'about',\n",
       " 'above',\n",
       " 'after',\n",
       " 'again',\n",
       " 'against',\n",
       " 'ain',\n",
       " 'all',\n",
       " 'am',\n",
       " 'an',\n",
       " 'and',\n",
       " 'any',\n",
       " 'are',\n",
       " 'aren',\n",
       " \"aren't\",\n",
       " 'as',\n",
       " 'at',\n",
       " 'be',\n",
       " 'because',\n",
       " 'been',\n",
       " 'before',\n",
       " 'being',\n",
       " 'below',\n",
       " 'between',\n",
       " 'both',\n",
       " 'but',\n",
       " 'by',\n",
       " 'can',\n",
       " 'couldn',\n",
       " \"couldn't\",\n",
       " 'd',\n",
       " 'did',\n",
       " 'didn',\n",
       " \"didn't\",\n",
       " 'do',\n",
       " 'does',\n",
       " 'doesn',\n",
       " \"doesn't\",\n",
       " 'doing',\n",
       " 'don',\n",
       " \"don't\",\n",
       " 'down',\n",
       " 'during',\n",
       " 'each',\n",
       " 'few',\n",
       " 'for',\n",
       " 'from',\n",
       " 'further',\n",
       " 'had',\n",
       " 'hadn',\n",
       " \"hadn't\",\n",
       " 'has',\n",
       " 'hasn',\n",
       " \"hasn't\",\n",
       " 'have',\n",
       " 'haven',\n",
       " \"haven't\",\n",
       " 'having',\n",
       " 'he',\n",
       " \"he'd\",\n",
       " \"he'll\",\n",
       " 'her',\n",
       " 'here',\n",
       " 'hers',\n",
       " 'herself',\n",
       " \"he's\",\n",
       " 'him',\n",
       " 'himself',\n",
       " 'his',\n",
       " 'how',\n",
       " 'i',\n",
       " \"i'd\",\n",
       " 'if',\n",
       " \"i'll\",\n",
       " \"i'm\",\n",
       " 'in',\n",
       " 'into',\n",
       " 'is',\n",
       " 'isn',\n",
       " \"isn't\",\n",
       " 'it',\n",
       " \"it'd\",\n",
       " \"it'll\",\n",
       " \"it's\",\n",
       " 'its',\n",
       " 'itself',\n",
       " \"i've\",\n",
       " 'just',\n",
       " 'll',\n",
       " 'm',\n",
       " 'ma',\n",
       " 'me',\n",
       " 'mightn',\n",
       " \"mightn't\",\n",
       " 'more',\n",
       " 'most',\n",
       " 'mustn',\n",
       " \"mustn't\",\n",
       " 'my',\n",
       " 'myself',\n",
       " 'needn',\n",
       " \"needn't\",\n",
       " 'no',\n",
       " 'nor',\n",
       " 'not',\n",
       " 'now',\n",
       " 'o',\n",
       " 'of',\n",
       " 'off',\n",
       " 'on',\n",
       " 'once',\n",
       " 'only',\n",
       " 'or',\n",
       " 'other',\n",
       " 'our',\n",
       " 'ours',\n",
       " 'ourselves',\n",
       " 'out',\n",
       " 'over',\n",
       " 'own',\n",
       " 're',\n",
       " 's',\n",
       " 'same',\n",
       " 'shan',\n",
       " \"shan't\",\n",
       " 'she',\n",
       " \"she'd\",\n",
       " \"she'll\",\n",
       " \"she's\",\n",
       " 'should',\n",
       " 'shouldn',\n",
       " \"shouldn't\",\n",
       " \"should've\",\n",
       " 'so',\n",
       " 'some',\n",
       " 'such',\n",
       " 't',\n",
       " 'than',\n",
       " 'that',\n",
       " \"that'll\",\n",
       " 'the',\n",
       " 'their',\n",
       " 'theirs',\n",
       " 'them',\n",
       " 'themselves',\n",
       " 'then',\n",
       " 'there',\n",
       " 'these',\n",
       " 'they',\n",
       " \"they'd\",\n",
       " \"they'll\",\n",
       " \"they're\",\n",
       " \"they've\",\n",
       " 'this',\n",
       " 'those',\n",
       " 'through',\n",
       " 'to',\n",
       " 'too',\n",
       " 'under',\n",
       " 'until',\n",
       " 'up',\n",
       " 've',\n",
       " 'very',\n",
       " 'was',\n",
       " 'wasn',\n",
       " \"wasn't\",\n",
       " 'we',\n",
       " \"we'd\",\n",
       " \"we'll\",\n",
       " \"we're\",\n",
       " 'were',\n",
       " 'weren',\n",
       " \"weren't\",\n",
       " \"we've\",\n",
       " 'what',\n",
       " 'when',\n",
       " 'where',\n",
       " 'which',\n",
       " 'while',\n",
       " 'who',\n",
       " 'whom',\n",
       " 'why',\n",
       " 'will',\n",
       " 'with',\n",
       " 'won',\n",
       " \"won't\",\n",
       " 'wouldn',\n",
       " \"wouldn't\",\n",
       " 'y',\n",
       " 'you',\n",
       " \"you'd\",\n",
       " \"you'll\",\n",
       " 'your',\n",
       " \"you're\",\n",
       " 'yours',\n",
       " 'yourself',\n",
       " 'yourselves',\n",
       " \"you've\"]"
      ]
     },
     "execution_count": 53,
     "metadata": {},
     "output_type": "execute_result"
    }
   ],
   "source": [
    "stopwords.words('english')"
   ]
  },
  {
   "cell_type": "code",
   "execution_count": 57,
   "id": "3822cb5d-63b3-4df0-867e-745fa7e8b18f",
   "metadata": {},
   "outputs": [
    {
     "data": {
      "text/plain": [
       "198"
      ]
     },
     "execution_count": 57,
     "metadata": {},
     "output_type": "execute_result"
    }
   ],
   "source": [
    "len(stopwords.words('english'))"
   ]
  },
  {
   "cell_type": "code",
   "execution_count": 58,
   "id": "4f4fce48-b242-48eb-bddc-fa1e8cc447c0",
   "metadata": {},
   "outputs": [
    {
     "data": {
      "text/plain": [
       "157"
      ]
     },
     "execution_count": 58,
     "metadata": {},
     "output_type": "execute_result"
    }
   ],
   "source": [
    "len(stopwords.words('french'))"
   ]
  },
  {
   "cell_type": "markdown",
   "id": "7a8a367f-4cc4-4871-bc38-b42e4f591a77",
   "metadata": {},
   "source": [
    "## Parts of Speech"
   ]
  },
  {
   "cell_type": "code",
   "execution_count": 60,
   "id": "3e6d2cc6-6414-4747-ad39-b1b64e556f81",
   "metadata": {},
   "outputs": [
    {
     "data": {
      "text/plain": [
       "['Srujana', 'is', 'great', 'at', 'sketching']"
      ]
     },
     "execution_count": 60,
     "metadata": {},
     "output_type": "execute_result"
    }
   ],
   "source": [
    "sent = 'Srujana is great at sketching'\n",
    "sent_tokens = word_tokenize(sent)\n",
    "sent_tokens"
   ]
  },
  {
   "cell_type": "code",
   "execution_count": 61,
   "id": "5f8b6808-4a1f-406c-8cf5-7c2244e0cfd7",
   "metadata": {},
   "outputs": [
    {
     "name": "stdout",
     "output_type": "stream",
     "text": [
      "[('Srujana', 'NNP'), ('is', 'VBZ'), ('great', 'JJ'), ('at', 'IN'), ('sketching', 'VBG')]\n",
      "[('Srujana', 'NNP'), ('is', 'VBZ'), ('great', 'JJ'), ('at', 'IN'), ('sketching', 'VBG')]\n",
      "[('Srujana', 'NNP'), ('is', 'VBZ'), ('great', 'JJ'), ('at', 'IN'), ('sketching', 'VBG')]\n",
      "[('Srujana', 'NNP'), ('is', 'VBZ'), ('great', 'JJ'), ('at', 'IN'), ('sketching', 'VBG')]\n",
      "[('Srujana', 'NNP'), ('is', 'VBZ'), ('great', 'JJ'), ('at', 'IN'), ('sketching', 'VBG')]\n"
     ]
    }
   ],
   "source": [
    "for token in sent_tokens:\n",
    "    print(nltk.pos_tag(sent_tokens))\n",
    "# Noun, verb, adjective, verb"
   ]
  },
  {
   "cell_type": "code",
   "execution_count": 62,
   "id": "46790f1e-f697-4f0f-8235-d6e16a81df14",
   "metadata": {},
   "outputs": [
    {
     "name": "stdout",
     "output_type": "stream",
     "text": [
      "[('The', 'DT'), ('cake', 'NN'), ('tastes', 'VBZ'), ('great', 'JJ')]\n",
      "[('The', 'DT'), ('cake', 'NN'), ('tastes', 'VBZ'), ('great', 'JJ')]\n",
      "[('The', 'DT'), ('cake', 'NN'), ('tastes', 'VBZ'), ('great', 'JJ')]\n",
      "[('The', 'DT'), ('cake', 'NN'), ('tastes', 'VBZ'), ('great', 'JJ')]\n"
     ]
    }
   ],
   "source": [
    "sent = 'The cake tastes great'\n",
    "sent_tokens = word_tokenize(sent)\n",
    "sent_tokens\n",
    "\n",
    "for token in sent_tokens:\n",
    "    print(nltk.pos_tag(sent_tokens))\n",
    "# Noun, verb, adjective, verb"
   ]
  },
  {
   "cell_type": "markdown",
   "id": "39b88570-6cf9-42df-a548-db711287eb1c",
   "metadata": {},
   "source": [
    "## Named entity recognition"
   ]
  },
  {
   "cell_type": "markdown",
   "id": "c8a765c6-0456-4876-8100-5b311905fce4",
   "metadata": {},
   "source": [
    "**Chunking**"
   ]
  },
  {
   "cell_type": "code",
   "execution_count": 68,
   "id": "905a46c5-dce1-4e45-8b1e-364414a6fd20",
   "metadata": {},
   "outputs": [],
   "source": [
    "from nltk import ne_chunk"
   ]
  },
  {
   "cell_type": "code",
   "execution_count": 63,
   "id": "3502cb9e-0666-4ec9-b969-ac2dcb54d56a",
   "metadata": {},
   "outputs": [],
   "source": [
    "NE_sent = 'This is a great day!'"
   ]
  },
  {
   "cell_type": "code",
   "execution_count": 64,
   "id": "45a4ffea-3578-4d49-9b9b-fbc84365919c",
   "metadata": {},
   "outputs": [],
   "source": [
    "# Split it into tokens\n",
    "NE_tokens = word_tokenize(NE_sent)"
   ]
  },
  {
   "cell_type": "code",
   "execution_count": 66,
   "id": "71ca3c65-0194-4956-8966-cc4fa31a7bb2",
   "metadata": {},
   "outputs": [
    {
     "data": {
      "text/plain": [
       "[('This', 'DT'),\n",
       " ('is', 'VBZ'),\n",
       " ('a', 'DT'),\n",
       " ('great', 'JJ'),\n",
       " ('day', 'NN'),\n",
       " ('!', '.')]"
      ]
     },
     "execution_count": 66,
     "metadata": {},
     "output_type": "execute_result"
    }
   ],
   "source": [
    "NE_tags = nltk.pos_tag(NE_tokens)\n",
    "NE_tags"
   ]
  },
  {
   "cell_type": "code",
   "execution_count": 69,
   "id": "49f5cb07-9928-48ff-9484-4a96839a99cd",
   "metadata": {},
   "outputs": [
    {
     "name": "stdout",
     "output_type": "stream",
     "text": [
      "(S This/DT is/VBZ a/DT great/JJ day/NN !/.)\n"
     ]
    }
   ],
   "source": [
    "NE_NER = ne_chunk(NE_tags)\n",
    "print(NE_NER)"
   ]
  },
  {
   "cell_type": "markdown",
   "id": "06146414-9251-4f47-857f-bdaf9f258e6c",
   "metadata": {},
   "source": [
    "## Wordcloud"
   ]
  },
  {
   "cell_type": "code",
   "execution_count": 71,
   "id": "7cd92e76-cc3c-49dc-b3b5-60c3708ae252",
   "metadata": {},
   "outputs": [
    {
     "name": "stdout",
     "output_type": "stream",
     "text": [
      "Collecting WordCloud\n",
      "  Downloading wordcloud-1.9.4-cp39-cp39-win_amd64.whl.metadata (3.5 kB)\n",
      "Requirement already satisfied: numpy>=1.6.1 in c:\\users\\sruja\\anaconda3\\lib\\site-packages (from WordCloud) (1.26.4)\n",
      "Requirement already satisfied: pillow in c:\\users\\sruja\\anaconda3\\lib\\site-packages (from WordCloud) (11.0.0)\n",
      "Requirement already satisfied: matplotlib in c:\\users\\sruja\\anaconda3\\lib\\site-packages (from WordCloud) (3.9.2)\n",
      "Requirement already satisfied: contourpy>=1.0.1 in c:\\users\\sruja\\anaconda3\\lib\\site-packages (from matplotlib->WordCloud) (1.2.0)\n",
      "Requirement already satisfied: cycler>=0.10 in c:\\users\\sruja\\anaconda3\\lib\\site-packages (from matplotlib->WordCloud) (0.11.0)\n",
      "Requirement already satisfied: fonttools>=4.22.0 in c:\\users\\sruja\\anaconda3\\lib\\site-packages (from matplotlib->WordCloud) (4.51.0)\n",
      "Requirement already satisfied: kiwisolver>=1.3.1 in c:\\users\\sruja\\anaconda3\\lib\\site-packages (from matplotlib->WordCloud) (1.4.4)\n",
      "Requirement already satisfied: packaging>=20.0 in c:\\users\\sruja\\anaconda3\\lib\\site-packages (from matplotlib->WordCloud) (24.2)\n",
      "Requirement already satisfied: pyparsing>=2.3.1 in c:\\users\\sruja\\anaconda3\\lib\\site-packages (from matplotlib->WordCloud) (3.2.0)\n",
      "Requirement already satisfied: python-dateutil>=2.7 in c:\\users\\sruja\\anaconda3\\lib\\site-packages (from matplotlib->WordCloud) (2.9.0.post0)\n",
      "Requirement already satisfied: importlib-resources>=3.2.0 in c:\\users\\sruja\\anaconda3\\lib\\site-packages (from matplotlib->WordCloud) (6.4.0)\n",
      "Requirement already satisfied: zipp>=3.1.0 in c:\\users\\sruja\\anaconda3\\lib\\site-packages (from importlib-resources>=3.2.0->matplotlib->WordCloud) (3.21.0)\n",
      "Requirement already satisfied: six>=1.5 in c:\\users\\sruja\\anaconda3\\lib\\site-packages (from python-dateutil>=2.7->matplotlib->WordCloud) (1.16.0)\n",
      "Downloading wordcloud-1.9.4-cp39-cp39-win_amd64.whl (300 kB)\n",
      "Installing collected packages: WordCloud\n",
      "Successfully installed WordCloud-1.9.4\n"
     ]
    }
   ],
   "source": [
    "!pip install WordCloud"
   ]
  },
  {
   "cell_type": "code",
   "execution_count": 37,
   "id": "1cba4309-f292-40ab-82c8-780810a16bc7",
   "metadata": {},
   "outputs": [],
   "source": [
    "from wordcloud import WordCloud\n",
    "import matplotlib.pyplot as plt"
   ]
  },
  {
   "cell_type": "code",
   "execution_count": 67,
   "id": "f498dae3-d054-43c9-90a2-be2b010fac80",
   "metadata": {},
   "outputs": [],
   "source": [
    "text = (\"python java java pandas pandas seaborn scikit matplotlib python python ai ai ai genai genai insights insights insights visualization python insights nlp nlp\")"
   ]
  },
  {
   "cell_type": "code",
   "execution_count": 60,
   "id": "02334703-ad54-4ce1-8053-bc83b21c2472",
   "metadata": {},
   "outputs": [
    {
     "data": {
      "text/plain": [
       "'python python  java java matplotlib python python ai ai ai genai genai insights insights visualization python insights'"
      ]
     },
     "execution_count": 60,
     "metadata": {},
     "output_type": "execute_result"
    }
   ],
   "source": [
    "text"
   ]
  },
  {
   "cell_type": "code",
   "execution_count": 68,
   "id": "12445d3f-4ce7-4c39-b1f9-147463ea78d2",
   "metadata": {},
   "outputs": [
    {
     "data": {
      "image/png": "[encoded data removed]",
      "text/plain": [
       "<Figure size 640x480 with 1 Axes>"
      ]
     },
     "metadata": {},
     "output_type": "display_data"
    }
   ],
   "source": [
    "wordcloud = WordCloud(width = 200, height = 150, background_color = 'black', colormap = 'Accent', mode = 'RGBA').generate(text)\n",
    "plt.imshow(wordcloud, interpolation='nearest')\n",
    "plt.axis(\"off\")\n",
    "plt.tight_layout(pad=0)\n",
    "plt.show()"
   ]
  },
  {
   "cell_type": "markdown",
   "id": "ffb99580-ca11-4883-a63c-19c45961f974",
   "metadata": {},
   "source": [
    "**Summary**\n",
    "- Platform.openai.com"
   ]
  }
 ],
 "metadata": {
  "kernelspec": {
   "display_name": "Python 3 (ipykernel)",
   "language": "python",
   "name": "python3"
  },
  "language_info": {
   "codemirror_mode": {
    "name": "ipython",
    "version": 3
   },
   "file_extension": ".py",
   "mimetype": "text/x-python",
   "name": "python",
   "nbconvert_exporter": "python",
   "pygments_lexer": "ipython3",
   "version": "3.9.21"
  }
 },
 "nbformat": 4,
 "nbformat_minor": 5
}
