{
 "cells": [
  {
   "cell_type": "markdown",
   "id": "d0c5bde0",
   "metadata": {},
   "source": [
    "# Math\n",
    "- In-built module used for mathematical tasks"
   ]
  },
  {
   "cell_type": "markdown",
   "id": "5ea9a6c3",
   "metadata": {},
   "source": [
    "**Function vs Module vs Package**\n",
    "  - Module - collection of functions\n",
    "  - Package - collection of modules"
   ]
  },
  {
   "cell_type": "code",
   "execution_count": 9,
   "id": "c66123b5",
   "metadata": {},
   "outputs": [
    {
     "ename": "NameError",
     "evalue": "name 'sqrt' is not defined",
     "output_type": "error",
     "traceback": [
      "\u001b[1;31m---------------------------------------------------------------------------\u001b[0m",
      "\u001b[1;31mNameError\u001b[0m                                 Traceback (most recent call last)",
      "Input \u001b[1;32mIn [9]\u001b[0m, in \u001b[0;36m<cell line: 1>\u001b[1;34m()\u001b[0m\n\u001b[1;32m----> 1\u001b[0m x \u001b[38;5;241m=\u001b[39m \u001b[43msqrt\u001b[49m(\u001b[38;5;241m25\u001b[39m)\n",
      "\u001b[1;31mNameError\u001b[0m: name 'sqrt' is not defined"
     ]
    }
   ],
   "source": [
    "x = sqrt(25)\n",
    "# Note that we get an error since math has not been imported"
   ]
  },
  {
   "cell_type": "code",
   "execution_count": 10,
   "id": "9fcf95e8",
   "metadata": {},
   "outputs": [
    {
     "data": {
      "text/plain": [
       "5.0"
      ]
     },
     "execution_count": 10,
     "metadata": {},
     "output_type": "execute_result"
    }
   ],
   "source": [
    "import math\n",
    "x = math.sqrt(25)\n",
    "x"
   ]
  },
  {
   "cell_type": "code",
   "execution_count": 11,
   "id": "7551fdd8",
   "metadata": {},
   "outputs": [
    {
     "name": "stdout",
     "output_type": "stream",
     "text": [
      "Help on built-in module math:\n",
      "\n",
      "NAME\n",
      "    math\n",
      "\n",
      "DESCRIPTION\n",
      "    This module provides access to the mathematical functions\n",
      "    defined by the C standard.\n",
      "\n",
      "FUNCTIONS\n",
      "    acos(x, /)\n",
      "        Return the arc cosine (measured in radians) of x.\n",
      "        \n",
      "        The result is between 0 and pi.\n",
      "    \n",
      "    acosh(x, /)\n",
      "        Return the inverse hyperbolic cosine of x.\n",
      "    \n",
      "    asin(x, /)\n",
      "        Return the arc sine (measured in radians) of x.\n",
      "        \n",
      "        The result is between -pi/2 and pi/2.\n",
      "    \n",
      "    asinh(x, /)\n",
      "        Return the inverse hyperbolic sine of x.\n",
      "    \n",
      "    atan(x, /)\n",
      "        Return the arc tangent (measured in radians) of x.\n",
      "        \n",
      "        The result is between -pi/2 and pi/2.\n",
      "    \n",
      "    atan2(y, x, /)\n",
      "        Return the arc tangent (measured in radians) of y/x.\n",
      "        \n",
      "        Unlike atan(y/x), the signs of both x and y are considered.\n",
      "    \n",
      "    atanh(x, /)\n",
      "        Return the inverse hyperbolic tangent of x.\n",
      "    \n",
      "    ceil(x, /)\n",
      "        Return the ceiling of x as an Integral.\n",
      "        \n",
      "        This is the smallest integer >= x.\n",
      "    \n",
      "    comb(n, k, /)\n",
      "        Number of ways to choose k items from n items without repetition and without order.\n",
      "        \n",
      "        Evaluates to n! / (k! * (n - k)!) when k <= n and evaluates\n",
      "        to zero when k > n.\n",
      "        \n",
      "        Also called the binomial coefficient because it is equivalent\n",
      "        to the coefficient of k-th term in polynomial expansion of the\n",
      "        expression (1 + x)**n.\n",
      "        \n",
      "        Raises TypeError if either of the arguments are not integers.\n",
      "        Raises ValueError if either of the arguments are negative.\n",
      "    \n",
      "    copysign(x, y, /)\n",
      "        Return a float with the magnitude (absolute value) of x but the sign of y.\n",
      "        \n",
      "        On platforms that support signed zeros, copysign(1.0, -0.0)\n",
      "        returns -1.0.\n",
      "    \n",
      "    cos(x, /)\n",
      "        Return the cosine of x (measured in radians).\n",
      "    \n",
      "    cosh(x, /)\n",
      "        Return the hyperbolic cosine of x.\n",
      "    \n",
      "    degrees(x, /)\n",
      "        Convert angle x from radians to degrees.\n",
      "    \n",
      "    dist(p, q, /)\n",
      "        Return the Euclidean distance between two points p and q.\n",
      "        \n",
      "        The points should be specified as sequences (or iterables) of\n",
      "        coordinates.  Both inputs must have the same dimension.\n",
      "        \n",
      "        Roughly equivalent to:\n",
      "            sqrt(sum((px - qx) ** 2.0 for px, qx in zip(p, q)))\n",
      "    \n",
      "    erf(x, /)\n",
      "        Error function at x.\n",
      "    \n",
      "    erfc(x, /)\n",
      "        Complementary error function at x.\n",
      "    \n",
      "    exp(x, /)\n",
      "        Return e raised to the power of x.\n",
      "    \n",
      "    expm1(x, /)\n",
      "        Return exp(x)-1.\n",
      "        \n",
      "        This function avoids the loss of precision involved in the direct evaluation of exp(x)-1 for small x.\n",
      "    \n",
      "    fabs(x, /)\n",
      "        Return the absolute value of the float x.\n",
      "    \n",
      "    factorial(x, /)\n",
      "        Find x!.\n",
      "        \n",
      "        Raise a ValueError if x is negative or non-integral.\n",
      "    \n",
      "    floor(x, /)\n",
      "        Return the floor of x as an Integral.\n",
      "        \n",
      "        This is the largest integer <= x.\n",
      "    \n",
      "    fmod(x, y, /)\n",
      "        Return fmod(x, y), according to platform C.\n",
      "        \n",
      "        x % y may differ.\n",
      "    \n",
      "    frexp(x, /)\n",
      "        Return the mantissa and exponent of x, as pair (m, e).\n",
      "        \n",
      "        m is a float and e is an int, such that x = m * 2.**e.\n",
      "        If x is 0, m and e are both 0.  Else 0.5 <= abs(m) < 1.0.\n",
      "    \n",
      "    fsum(seq, /)\n",
      "        Return an accurate floating point sum of values in the iterable seq.\n",
      "        \n",
      "        Assumes IEEE-754 floating point arithmetic.\n",
      "    \n",
      "    gamma(x, /)\n",
      "        Gamma function at x.\n",
      "    \n",
      "    gcd(*integers)\n",
      "        Greatest Common Divisor.\n",
      "    \n",
      "    hypot(...)\n",
      "        hypot(*coordinates) -> value\n",
      "        \n",
      "        Multidimensional Euclidean distance from the origin to a point.\n",
      "        \n",
      "        Roughly equivalent to:\n",
      "            sqrt(sum(x**2 for x in coordinates))\n",
      "        \n",
      "        For a two dimensional point (x, y), gives the hypotenuse\n",
      "        using the Pythagorean theorem:  sqrt(x*x + y*y).\n",
      "        \n",
      "        For example, the hypotenuse of a 3/4/5 right triangle is:\n",
      "        \n",
      "            >>> hypot(3.0, 4.0)\n",
      "            5.0\n",
      "    \n",
      "    isclose(a, b, *, rel_tol=1e-09, abs_tol=0.0)\n",
      "        Determine whether two floating point numbers are close in value.\n",
      "        \n",
      "          rel_tol\n",
      "            maximum difference for being considered \"close\", relative to the\n",
      "            magnitude of the input values\n",
      "          abs_tol\n",
      "            maximum difference for being considered \"close\", regardless of the\n",
      "            magnitude of the input values\n",
      "        \n",
      "        Return True if a is close in value to b, and False otherwise.\n",
      "        \n",
      "        For the values to be considered close, the difference between them\n",
      "        must be smaller than at least one of the tolerances.\n",
      "        \n",
      "        -inf, inf and NaN behave similarly to the IEEE 754 Standard.  That\n",
      "        is, NaN is not close to anything, even itself.  inf and -inf are\n",
      "        only close to themselves.\n",
      "    \n",
      "    isfinite(x, /)\n",
      "        Return True if x is neither an infinity nor a NaN, and False otherwise.\n",
      "    \n",
      "    isinf(x, /)\n",
      "        Return True if x is a positive or negative infinity, and False otherwise.\n",
      "    \n",
      "    isnan(x, /)\n",
      "        Return True if x is a NaN (not a number), and False otherwise.\n",
      "    \n",
      "    isqrt(n, /)\n",
      "        Return the integer part of the square root of the input.\n",
      "    \n",
      "    lcm(*integers)\n",
      "        Least Common Multiple.\n",
      "    \n",
      "    ldexp(x, i, /)\n",
      "        Return x * (2**i).\n",
      "        \n",
      "        This is essentially the inverse of frexp().\n",
      "    \n",
      "    lgamma(x, /)\n",
      "        Natural logarithm of absolute value of Gamma function at x.\n",
      "    \n",
      "    log(...)\n",
      "        log(x, [base=math.e])\n",
      "        Return the logarithm of x to the given base.\n",
      "        \n",
      "        If the base not specified, returns the natural logarithm (base e) of x.\n",
      "    \n",
      "    log10(x, /)\n",
      "        Return the base 10 logarithm of x.\n",
      "    \n",
      "    log1p(x, /)\n",
      "        Return the natural logarithm of 1+x (base e).\n",
      "        \n",
      "        The result is computed in a way which is accurate for x near zero.\n",
      "    \n",
      "    log2(x, /)\n",
      "        Return the base 2 logarithm of x.\n",
      "    \n",
      "    modf(x, /)\n",
      "        Return the fractional and integer parts of x.\n",
      "        \n",
      "        Both results carry the sign of x and are floats.\n",
      "    \n",
      "    nextafter(x, y, /)\n",
      "        Return the next floating-point value after x towards y.\n",
      "    \n",
      "    perm(n, k=None, /)\n",
      "        Number of ways to choose k items from n items without repetition and with order.\n",
      "        \n",
      "        Evaluates to n! / (n - k)! when k <= n and evaluates\n",
      "        to zero when k > n.\n",
      "        \n",
      "        If k is not specified or is None, then k defaults to n\n",
      "        and the function returns n!.\n",
      "        \n",
      "        Raises TypeError if either of the arguments are not integers.\n",
      "        Raises ValueError if either of the arguments are negative.\n",
      "    \n",
      "    pow(x, y, /)\n",
      "        Return x**y (x to the power of y).\n",
      "    \n",
      "    prod(iterable, /, *, start=1)\n",
      "        Calculate the product of all the elements in the input iterable.\n",
      "        \n",
      "        The default start value for the product is 1.\n",
      "        \n",
      "        When the iterable is empty, return the start value.  This function is\n",
      "        intended specifically for use with numeric values and may reject\n",
      "        non-numeric types.\n",
      "    \n",
      "    radians(x, /)\n",
      "        Convert angle x from degrees to radians.\n",
      "    \n",
      "    remainder(x, y, /)\n",
      "        Difference between x and the closest integer multiple of y.\n",
      "        \n",
      "        Return x - n*y where n*y is the closest integer multiple of y.\n",
      "        In the case where x is exactly halfway between two multiples of\n",
      "        y, the nearest even value of n is used. The result is always exact.\n",
      "    \n",
      "    sin(x, /)\n",
      "        Return the sine of x (measured in radians).\n",
      "    \n",
      "    sinh(x, /)\n",
      "        Return the hyperbolic sine of x.\n",
      "    \n",
      "    sqrt(x, /)\n",
      "        Return the square root of x.\n",
      "    \n",
      "    tan(x, /)\n",
      "        Return the tangent of x (measured in radians).\n",
      "    \n",
      "    tanh(x, /)\n",
      "        Return the hyperbolic tangent of x.\n",
      "    \n",
      "    trunc(x, /)\n",
      "        Truncates the Real x to the nearest Integral toward 0.\n",
      "        \n",
      "        Uses the __trunc__ magic method.\n",
      "    \n",
      "    ulp(x, /)\n",
      "        Return the value of the least significant bit of the float x.\n",
      "\n",
      "DATA\n",
      "    e = 2.718281828459045\n",
      "    inf = inf\n",
      "    nan = nan\n",
      "    pi = 3.141592653589793\n",
      "    tau = 6.283185307179586\n",
      "\n",
      "FILE\n",
      "    (built-in)\n",
      "\n",
      "\n"
     ]
    }
   ],
   "source": [
    "help(math)"
   ]
  },
  {
   "cell_type": "code",
   "execution_count": 12,
   "id": "87bd5e74",
   "metadata": {},
   "outputs": [
    {
     "data": {
      "text/plain": [
       "3.872983346207417"
      ]
     },
     "execution_count": 12,
     "metadata": {},
     "output_type": "execute_result"
    }
   ],
   "source": [
    "math.sqrt(15)"
   ]
  },
  {
   "cell_type": "code",
   "execution_count": 13,
   "id": "55237ef2",
   "metadata": {},
   "outputs": [
    {
     "data": {
      "text/plain": [
       "3"
      ]
     },
     "execution_count": 13,
     "metadata": {},
     "output_type": "execute_result"
    }
   ],
   "source": [
    "math.floor(3.87)"
   ]
  },
  {
   "cell_type": "code",
   "execution_count": 14,
   "id": "4ad5e5a9",
   "metadata": {},
   "outputs": [
    {
     "data": {
      "text/plain": [
       "4"
      ]
     },
     "execution_count": 14,
     "metadata": {},
     "output_type": "execute_result"
    }
   ],
   "source": [
    "math.ceil(3.87)"
   ]
  },
  {
   "cell_type": "code",
   "execution_count": 15,
   "id": "4e5ce99c",
   "metadata": {},
   "outputs": [
    {
     "data": {
      "text/plain": [
       "9.0"
      ]
     },
     "execution_count": 15,
     "metadata": {},
     "output_type": "execute_result"
    }
   ],
   "source": [
    "math.pow(3,2)"
   ]
  },
  {
   "cell_type": "code",
   "execution_count": 16,
   "id": "72e80760",
   "metadata": {},
   "outputs": [
    {
     "name": "stdout",
     "output_type": "stream",
     "text": [
      "3.141592653589793\n"
     ]
    }
   ],
   "source": [
    "print(math.pi)"
   ]
  },
  {
   "cell_type": "code",
   "execution_count": null,
   "id": "72663d96",
   "metadata": {},
   "outputs": [],
   "source": [
    "print(math.e)"
   ]
  },
  {
   "cell_type": "code",
   "execution_count": null,
   "id": "38cade9b",
   "metadata": {},
   "outputs": [],
   "source": [
    "m.sqrt(25)\n",
    "# this does not work since aliasing has not been done"
   ]
  },
  {
   "cell_type": "code",
   "execution_count": null,
   "id": "f505f7e4",
   "metadata": {},
   "outputs": [],
   "source": [
    "import math as m\n",
    "m.sqrt(25)"
   ]
  },
  {
   "cell_type": "code",
   "execution_count": null,
   "id": "71cc6073",
   "metadata": {},
   "outputs": [],
   "source": [
    "from math import sqrt, pow, ceil, floor\n",
    "# Note: importing many functions at the same time saves memory\n",
    "\n",
    "print(pow(2,3))\n",
    "print(sqrt(25))\n",
    "print(ceil(3.7))\n",
    "print(floor(3.7))"
   ]
  },
  {
   "cell_type": "code",
   "execution_count": null,
   "id": "58da2671",
   "metadata": {},
   "outputs": [],
   "source": [
    "from math import sqrt as s, pow as p, ceil as c, floor as f\n",
    "# Note: functions can also be aliased\n",
    "\n",
    "print(p(2,3))\n",
    "print(s(25))\n",
    "print(c(3.7))\n",
    "print(f(3.7))"
   ]
  },
  {
   "cell_type": "code",
   "execution_count": null,
   "id": "e13c653d",
   "metadata": {},
   "outputs": [],
   "source": [
    "s(25)"
   ]
  },
  {
   "cell_type": "code",
   "execution_count": null,
   "id": "0e5b582a",
   "metadata": {},
   "outputs": [],
   "source": [
    "from math import *\n",
    "# imports all the 30 functions in math module"
   ]
  },
  {
   "cell_type": "code",
   "execution_count": null,
   "id": "0dd5f285",
   "metadata": {},
   "outputs": [],
   "source": [
    "s(25)"
   ]
  },
  {
   "cell_type": "code",
   "execution_count": null,
   "id": "28826b21",
   "metadata": {},
   "outputs": [],
   "source": [
    "sqrt(25)"
   ]
  },
  {
   "cell_type": "code",
   "execution_count": null,
   "id": "61f40c74",
   "metadata": {},
   "outputs": [],
   "source": [
    "x = input()\n",
    "# By default input function reads only a string"
   ]
  },
  {
   "cell_type": "code",
   "execution_count": null,
   "id": "05bb8114",
   "metadata": {},
   "outputs": [],
   "source": [
    "type(x)"
   ]
  },
  {
   "cell_type": "code",
   "execution_count": null,
   "id": "34a95dea",
   "metadata": {},
   "outputs": [],
   "source": [
    "x1 = input()"
   ]
  },
  {
   "cell_type": "code",
   "execution_count": null,
   "id": "5a82b4e3",
   "metadata": {},
   "outputs": [],
   "source": [
    "x2 = input()"
   ]
  },
  {
   "cell_type": "code",
   "execution_count": null,
   "id": "2fccc97f",
   "metadata": {},
   "outputs": [],
   "source": [
    "print(x1 + x2)\n",
    "# since by default, it is a string\n",
    "print(type(x1))\n",
    "print(type(x2))"
   ]
  },
  {
   "cell_type": "code",
   "execution_count": null,
   "id": "19d3d433",
   "metadata": {},
   "outputs": [],
   "source": [
    "int(x1) + int(x2)\n",
    "# Typecasting"
   ]
  },
  {
   "cell_type": "code",
   "execution_count": null,
   "id": "4260a872",
   "metadata": {},
   "outputs": [],
   "source": [
    "a1 = int(input('Enter the first number: '))\n",
    "b1 = int(input('Enter the second number: '))\n",
    "print('Sum is:',a1 + b1)"
   ]
  },
  {
   "cell_type": "code",
   "execution_count": null,
   "id": "f163e4ff",
   "metadata": {},
   "outputs": [],
   "source": [
    "x = input('Enter a character: ')"
   ]
  },
  {
   "cell_type": "code",
   "execution_count": null,
   "id": "391dfc7a",
   "metadata": {},
   "outputs": [],
   "source": [
    "# For taking input in char format\n",
    "x = input('Enter a character: ')\n",
    "x[0]"
   ]
  },
  {
   "cell_type": "code",
   "execution_count": null,
   "id": "9b5d6728",
   "metadata": {},
   "outputs": [],
   "source": [
    "result = eval(input('Print expression that needs to be evaluated: '))\n",
    "result"
   ]
  },
  {
   "cell_type": "markdown",
   "id": "0539ee96",
   "metadata": {},
   "source": [
    "# NumPy \n",
    "  - Numerical Python\n",
    "  - N Dimensional array\n",
    "  - Used for statistical analysis, data science etc"
   ]
  },
  {
   "cell_type": "code",
   "execution_count": null,
   "id": "79d53e4b",
   "metadata": {},
   "outputs": [],
   "source": [
    "!pip install numpy\n",
    "# conda install numpy can be used for anaconda\n",
    "# You do not need to install this, if anaconda has been installed"
   ]
  },
  {
   "cell_type": "code",
   "execution_count": 3,
   "id": "1d97f4dd",
   "metadata": {},
   "outputs": [],
   "source": [
    "import numpy as np"
   ]
  },
  {
   "cell_type": "code",
   "execution_count": 4,
   "id": "7a3fbeb7",
   "metadata": {},
   "outputs": [
    {
     "data": {
      "text/plain": [
       "'1.21.5'"
      ]
     },
     "execution_count": 4,
     "metadata": {},
     "output_type": "execute_result"
    }
   ],
   "source": [
    "np.__version__\n",
    "# package.__version__"
   ]
  },
  {
   "cell_type": "code",
   "execution_count": 5,
   "id": "a4c95380",
   "metadata": {},
   "outputs": [
    {
     "data": {
      "text/plain": [
       "array([  1, 553,   3,  46,   3,  15])"
      ]
     },
     "execution_count": 5,
     "metadata": {},
     "output_type": "execute_result"
    }
   ],
   "source": [
    "np.array([1,553,3,46,3,15]) # 1D Array"
   ]
  },
  {
   "cell_type": "code",
   "execution_count": null,
   "id": "ab2fd23d",
   "metadata": {},
   "outputs": [],
   "source": [
    "l1 = [0,1,2,3,4,5]    # Vector\n",
    "arr = np.array(l1)\n",
    "print(arr)"
   ]
  },
  {
   "cell_type": "code",
   "execution_count": null,
   "id": "2fe936a6",
   "metadata": {},
   "outputs": [],
   "source": [
    "type(arr)"
   ]
  },
  {
   "cell_type": "code",
   "execution_count": null,
   "id": "5d1979f4",
   "metadata": {},
   "outputs": [],
   "source": [
    "# 2D Array\n",
    "arr2 = np.array([[4,21,5,6],[25,74,9,34,3]])\n",
    "print(arr2)"
   ]
  },
  {
   "cell_type": "markdown",
   "id": "614b7543",
   "metadata": {},
   "source": [
    "### dtype\n",
    "  Desired data type of the array"
   ]
  },
  {
   "cell_type": "code",
   "execution_count": null,
   "id": "937fa15b",
   "metadata": {},
   "outputs": [],
   "source": [
    "np.array([33,52,73], dtype = float)"
   ]
  },
  {
   "cell_type": "code",
   "execution_count": null,
   "id": "ea6a01b8",
   "metadata": {},
   "outputs": [],
   "source": [
    "np.array([33,52,73], dtype = complex)"
   ]
  },
  {
   "cell_type": "code",
   "execution_count": null,
   "id": "5d3df52f",
   "metadata": {},
   "outputs": [],
   "source": [
    "print(l1)\n",
    "print(type(l1))\n",
    "print(arr)\n",
    "print(type(arr))"
   ]
  },
  {
   "cell_type": "code",
   "execution_count": 102,
   "id": "379fb40a",
   "metadata": {},
   "outputs": [
    {
     "data": {
      "text/plain": [
       "dtype('int32')"
      ]
     },
     "execution_count": 102,
     "metadata": {},
     "output_type": "execute_result"
    }
   ],
   "source": [
    "a1 = np.array([1,3,42,53,645,7])\n",
    "a1.dtype"
   ]
  },
  {
   "cell_type": "code",
   "execution_count": 104,
   "id": "27750255",
   "metadata": {},
   "outputs": [
    {
     "data": {
      "text/plain": [
       "array([  1.,   3.,  42.,  53., 645.,   7.])"
      ]
     },
     "execution_count": 104,
     "metadata": {},
     "output_type": "execute_result"
    }
   ],
   "source": [
    "# 2nd way to do this\n",
    "a1.astype(float)"
   ]
  },
  {
   "cell_type": "markdown",
   "id": "ac1f2caa",
   "metadata": {},
   "source": [
    "### arange"
   ]
  },
  {
   "cell_type": "code",
   "execution_count": null,
   "id": "c03d1379",
   "metadata": {},
   "outputs": [],
   "source": [
    "np.arange(15)\n",
    "# int"
   ]
  },
  {
   "cell_type": "code",
   "execution_count": null,
   "id": "cf29bb8a",
   "metadata": {},
   "outputs": [],
   "source": [
    "np.arange(3.0)\n",
    "# float"
   ]
  },
  {
   "cell_type": "code",
   "execution_count": null,
   "id": "5a3bef84",
   "metadata": {},
   "outputs": [],
   "source": [
    "np.arange(4)\n",
    "# Single argument"
   ]
  },
  {
   "cell_type": "code",
   "execution_count": null,
   "id": "f201a52d",
   "metadata": {},
   "outputs": [],
   "source": [
    "np.arange(0,4)\n",
    "# Two arguments"
   ]
  },
  {
   "cell_type": "code",
   "execution_count": null,
   "id": "2bd4c4d4",
   "metadata": {},
   "outputs": [],
   "source": [
    "np.arange(10,20)"
   ]
  },
  {
   "cell_type": "code",
   "execution_count": null,
   "id": "a05e4431",
   "metadata": {},
   "outputs": [],
   "source": [
    "np.arange(20,10)\n",
    "# First argument should be less than second argument"
   ]
  },
  {
   "cell_type": "code",
   "execution_count": null,
   "id": "02167b76",
   "metadata": {},
   "outputs": [],
   "source": [
    "np.arange(-10,10)\n",
    "# Negative argument"
   ]
  },
  {
   "cell_type": "code",
   "execution_count": null,
   "id": "4bdaec48",
   "metadata": {},
   "outputs": [],
   "source": [
    "np.arange(-20,-10)"
   ]
  },
  {
   "cell_type": "code",
   "execution_count": null,
   "id": "ce3e0cff",
   "metadata": {},
   "outputs": [],
   "source": [
    "ar = np.arange(-20,-10)\n",
    "ar"
   ]
  },
  {
   "cell_type": "code",
   "execution_count": null,
   "id": "f8431816",
   "metadata": {},
   "outputs": [],
   "source": [
    "np.arange(10,10)"
   ]
  },
  {
   "cell_type": "code",
   "execution_count": null,
   "id": "59db3796",
   "metadata": {},
   "outputs": [],
   "source": [
    "np.arange()\n",
    "# Atleast one argument is required"
   ]
  },
  {
   "cell_type": "code",
   "execution_count": null,
   "id": "112c5558",
   "metadata": {},
   "outputs": [],
   "source": [
    "np.arange(0,30,5)"
   ]
  },
  {
   "cell_type": "code",
   "execution_count": null,
   "id": "42eb5de6",
   "metadata": {},
   "outputs": [],
   "source": [
    "np.arange(0,15,3)"
   ]
  },
  {
   "cell_type": "code",
   "execution_count": null,
   "id": "e3113289",
   "metadata": {},
   "outputs": [],
   "source": [
    "np.arange(1,15,3,8)\n",
    "# Note the error, max three arguments an be passed"
   ]
  },
  {
   "cell_type": "markdown",
   "id": "780f148c",
   "metadata": {},
   "source": [
    "### zeros"
   ]
  },
  {
   "cell_type": "code",
   "execution_count": null,
   "id": "bceaae6f",
   "metadata": {},
   "outputs": [],
   "source": [
    "np.zeros(3)"
   ]
  },
  {
   "cell_type": "code",
   "execution_count": null,
   "id": "26384c5c",
   "metadata": {},
   "outputs": [],
   "source": [
    "np.zeros(5,dtype = int)\n",
    "# using the concept of hyper parameter tuning"
   ]
  },
  {
   "cell_type": "code",
   "execution_count": null,
   "id": "bf0ed047",
   "metadata": {},
   "outputs": [],
   "source": [
    "np.zeros([2,2])"
   ]
  },
  {
   "cell_type": "markdown",
   "id": "f68ede07",
   "metadata": {},
   "source": [
    "   NumPy vs PyTorch\n",
    "   - Numpy - Array\n",
    "   - PyTorch - Tensor (Python + Torch), Torch is installed"
   ]
  },
  {
   "cell_type": "code",
   "execution_count": null,
   "id": "8334d45e",
   "metadata": {},
   "outputs": [],
   "source": [
    "n = (6,7)\n",
    "np.zeros(n)\n",
    "# Passing a variable"
   ]
  },
  {
   "cell_type": "markdown",
   "id": "5ffa4248",
   "metadata": {},
   "source": [
    "### ones"
   ]
  },
  {
   "cell_type": "code",
   "execution_count": null,
   "id": "7fa2c64c",
   "metadata": {},
   "outputs": [],
   "source": [
    "np.ones(3)"
   ]
  },
  {
   "cell_type": "code",
   "execution_count": null,
   "id": "5ccc3c38",
   "metadata": {},
   "outputs": [],
   "source": [
    "np.ones(4, dtype = int)"
   ]
  },
  {
   "cell_type": "code",
   "execution_count": null,
   "id": "ec08311d",
   "metadata": {},
   "outputs": [],
   "source": [
    "print(n)\n",
    "np.ones(n)"
   ]
  },
  {
   "cell_type": "markdown",
   "id": "9b30028a",
   "metadata": {},
   "source": [
    "### linspace\n",
    "  - Linearly spaced\n",
    "  - Creates points at equal distance"
   ]
  },
  {
   "cell_type": "code",
   "execution_count": 65,
   "id": "82e85589",
   "metadata": {},
   "outputs": [
    {
     "data": {
      "text/plain": [
       "array([ 1.,  2.,  3.,  4.,  5.,  6.,  7.,  8.,  9., 10.])"
      ]
     },
     "execution_count": 65,
     "metadata": {},
     "output_type": "execute_result"
    }
   ],
   "source": [
    "np.linspace(1,10,10)  # lower range, upper range (both inclusive), number of items to generate"
   ]
  },
  {
   "cell_type": "markdown",
   "id": "7263fb4d",
   "metadata": {},
   "source": [
    "### identity\n",
    " - Diagonal elements are 1, remaining 0"
   ]
  },
  {
   "cell_type": "code",
   "execution_count": 66,
   "id": "108fc707",
   "metadata": {},
   "outputs": [
    {
     "data": {
      "text/plain": [
       "array([[1., 0., 0.],\n",
       "       [0., 1., 0.],\n",
       "       [0., 0., 1.]])"
      ]
     },
     "execution_count": 66,
     "metadata": {},
     "output_type": "execute_result"
    }
   ],
   "source": [
    "np.identity(3)"
   ]
  },
  {
   "cell_type": "markdown",
   "id": "2cd67cc3",
   "metadata": {},
   "source": [
    "### Array Attributes"
   ]
  },
  {
   "cell_type": "markdown",
   "id": "f1a03a33",
   "metadata": {},
   "source": [
    "#### arange"
   ]
  },
  {
   "cell_type": "code",
   "execution_count": 67,
   "id": "923937d0",
   "metadata": {},
   "outputs": [
    {
     "data": {
      "text/plain": [
       "array([0, 1, 2, 3, 4])"
      ]
     },
     "execution_count": 67,
     "metadata": {},
     "output_type": "execute_result"
    }
   ],
   "source": [
    "a1 = np.arange(5)                                #1D - Array\n",
    "a1"
   ]
  },
  {
   "cell_type": "code",
   "execution_count": 68,
   "id": "dc6ced29",
   "metadata": {},
   "outputs": [
    {
     "data": {
      "text/plain": [
       "array([[ 0.,  1.,  2.,  3.,  4.,  5.],\n",
       "       [ 6.,  7.,  8.,  9., 10., 11.]])"
      ]
     },
     "execution_count": 68,
     "metadata": {},
     "output_type": "execute_result"
    }
   ],
   "source": [
    "a2 = np.arange(12, dtype = float).reshape(2,6)   #2D - Matrix \n",
    "a2"
   ]
  },
  {
   "cell_type": "code",
   "execution_count": 69,
   "id": "4b49b3ea",
   "metadata": {},
   "outputs": [
    {
     "data": {
      "text/plain": [
       "array([[[ 0,  1,  2],\n",
       "        [ 3,  4,  5]],\n",
       "\n",
       "       [[ 6,  7,  8],\n",
       "        [ 9, 10, 11]]])"
      ]
     },
     "execution_count": 69,
     "metadata": {},
     "output_type": "execute_result"
    }
   ],
   "source": [
    "a3 = np.arange(12).reshape(2,2,3)                #3D - Tensor\n",
    "a3"
   ]
  },
  {
   "cell_type": "markdown",
   "id": "523d19d8",
   "metadata": {},
   "source": [
    "#### ndim\n",
    "- To find out the number of dimensions of an array"
   ]
  },
  {
   "cell_type": "code",
   "execution_count": 81,
   "id": "e8daec1c",
   "metadata": {},
   "outputs": [
    {
     "name": "stdout",
     "output_type": "stream",
     "text": [
      "[0 1 2 3 4]\n",
      "1\n"
     ]
    }
   ],
   "source": [
    "print(a1)\n",
    "print(ndim(a1))"
   ]
  },
  {
   "cell_type": "code",
   "execution_count": 82,
   "id": "1015ea0c",
   "metadata": {},
   "outputs": [
    {
     "name": "stdout",
     "output_type": "stream",
     "text": [
      "[[ 0.  1.  2.  3.  4.  5.]\n",
      " [ 6.  7.  8.  9. 10. 11.]]\n",
      "2\n"
     ]
    }
   ],
   "source": [
    "print(a2)\n",
    "print(ndim(a2))"
   ]
  },
  {
   "cell_type": "code",
   "execution_count": 83,
   "id": "84f05946",
   "metadata": {},
   "outputs": [
    {
     "name": "stdout",
     "output_type": "stream",
     "text": [
      "[[[ 0  1  2]\n",
      "  [ 3  4  5]]\n",
      "\n",
      " [[ 6  7  8]\n",
      "  [ 9 10 11]]]\n",
      "3\n"
     ]
    }
   ],
   "source": [
    "print(a3)\n",
    "print(ndim(a3))"
   ]
  },
  {
   "cell_type": "markdown",
   "id": "ea77f3d2",
   "metadata": {},
   "source": [
    "#### shape"
   ]
  },
  {
   "cell_type": "code",
   "execution_count": 84,
   "id": "62ee754f",
   "metadata": {},
   "outputs": [
    {
     "name": "stdout",
     "output_type": "stream",
     "text": [
      "[0 1 2 3 4]\n",
      "(5,)\n"
     ]
    }
   ],
   "source": [
    "print(a1)\n",
    "print(a1.shape)"
   ]
  },
  {
   "cell_type": "code",
   "execution_count": 85,
   "id": "489168e8",
   "metadata": {},
   "outputs": [
    {
     "name": "stdout",
     "output_type": "stream",
     "text": [
      "[[ 0.  1.  2.  3.  4.  5.]\n",
      " [ 6.  7.  8.  9. 10. 11.]]\n",
      "(2, 6)\n"
     ]
    }
   ],
   "source": [
    "print(a2)\n",
    "print(a2.shape)"
   ]
  },
  {
   "cell_type": "code",
   "execution_count": 87,
   "id": "35c9e310",
   "metadata": {},
   "outputs": [
    {
     "data": {
      "text/plain": [
       "array([[[ 0,  1,  2],\n",
       "        [ 3,  4,  5]],\n",
       "\n",
       "       [[ 6,  7,  8],\n",
       "        [ 9, 10, 11]]])"
      ]
     },
     "execution_count": 87,
     "metadata": {},
     "output_type": "execute_result"
    }
   ],
   "source": [
    "a3"
   ]
  },
  {
   "cell_type": "code",
   "execution_count": 86,
   "id": "a2c53321",
   "metadata": {},
   "outputs": [
    {
     "name": "stdout",
     "output_type": "stream",
     "text": [
      "[[[ 0  1  2]\n",
      "  [ 3  4  5]]\n",
      "\n",
      " [[ 6  7  8]\n",
      "  [ 9 10 11]]]\n",
      "(2, 2, 3)\n"
     ]
    }
   ],
   "source": [
    "print(a3)\n",
    "print(a3.shape)"
   ]
  },
  {
   "cell_type": "markdown",
   "id": "4d2d423b",
   "metadata": {},
   "source": [
    "#### size\n",
    "- Gives the total number of items"
   ]
  },
  {
   "cell_type": "code",
   "execution_count": 89,
   "id": "864fdea8",
   "metadata": {},
   "outputs": [
    {
     "data": {
      "text/plain": [
       "array([0, 1, 2, 3, 4])"
      ]
     },
     "execution_count": 89,
     "metadata": {},
     "output_type": "execute_result"
    }
   ],
   "source": [
    "a1"
   ]
  },
  {
   "cell_type": "code",
   "execution_count": 90,
   "id": "b7d326a0",
   "metadata": {},
   "outputs": [
    {
     "data": {
      "text/plain": [
       "5"
      ]
     },
     "execution_count": 90,
     "metadata": {},
     "output_type": "execute_result"
    }
   ],
   "source": [
    "a1.size"
   ]
  },
  {
   "cell_type": "code",
   "execution_count": 91,
   "id": "e8a993c7",
   "metadata": {},
   "outputs": [
    {
     "data": {
      "text/plain": [
       "array([[ 0.,  1.,  2.,  3.,  4.,  5.],\n",
       "       [ 6.,  7.,  8.,  9., 10., 11.]])"
      ]
     },
     "execution_count": 91,
     "metadata": {},
     "output_type": "execute_result"
    }
   ],
   "source": [
    "a2"
   ]
  },
  {
   "cell_type": "code",
   "execution_count": 92,
   "id": "bdcbba9d",
   "metadata": {},
   "outputs": [
    {
     "data": {
      "text/plain": [
       "12"
      ]
     },
     "execution_count": 92,
     "metadata": {},
     "output_type": "execute_result"
    }
   ],
   "source": [
    "a2.size"
   ]
  },
  {
   "cell_type": "code",
   "execution_count": 93,
   "id": "67c160df",
   "metadata": {},
   "outputs": [
    {
     "data": {
      "text/plain": [
       "array([[[ 0,  1,  2],\n",
       "        [ 3,  4,  5]],\n",
       "\n",
       "       [[ 6,  7,  8],\n",
       "        [ 9, 10, 11]]])"
      ]
     },
     "execution_count": 93,
     "metadata": {},
     "output_type": "execute_result"
    }
   ],
   "source": [
    "a3"
   ]
  },
  {
   "cell_type": "code",
   "execution_count": 94,
   "id": "fbdf3eea",
   "metadata": {},
   "outputs": [
    {
     "data": {
      "text/plain": [
       "12"
      ]
     },
     "execution_count": 94,
     "metadata": {},
     "output_type": "execute_result"
    }
   ],
   "source": [
    "a3.size"
   ]
  },
  {
   "cell_type": "markdown",
   "id": "7d4c622a",
   "metadata": {},
   "source": [
    "#### itemsize\n",
    "- Result gives the memory occupied by the item"
   ]
  },
  {
   "cell_type": "code",
   "execution_count": 95,
   "id": "ce009618",
   "metadata": {},
   "outputs": [
    {
     "data": {
      "text/plain": [
       "array([0, 1, 2, 3, 4])"
      ]
     },
     "execution_count": 95,
     "metadata": {},
     "output_type": "execute_result"
    }
   ],
   "source": [
    "a1"
   ]
  },
  {
   "cell_type": "code",
   "execution_count": 96,
   "id": "f831a11a",
   "metadata": {},
   "outputs": [
    {
     "data": {
      "text/plain": [
       "4"
      ]
     },
     "execution_count": 96,
     "metadata": {},
     "output_type": "execute_result"
    }
   ],
   "source": [
    "a1.itemsize   # In bytes"
   ]
  },
  {
   "cell_type": "code",
   "execution_count": 97,
   "id": "27ce9de2",
   "metadata": {},
   "outputs": [
    {
     "data": {
      "text/plain": [
       "array([[ 0.,  1.,  2.,  3.,  4.,  5.],\n",
       "       [ 6.,  7.,  8.,  9., 10., 11.]])"
      ]
     },
     "execution_count": 97,
     "metadata": {},
     "output_type": "execute_result"
    }
   ],
   "source": [
    "a2"
   ]
  },
  {
   "cell_type": "code",
   "execution_count": 98,
   "id": "68858101",
   "metadata": {},
   "outputs": [
    {
     "data": {
      "text/plain": [
       "8"
      ]
     },
     "execution_count": 98,
     "metadata": {},
     "output_type": "execute_result"
    }
   ],
   "source": [
    "a2.itemsize"
   ]
  },
  {
   "cell_type": "code",
   "execution_count": 99,
   "id": "7d4661ef",
   "metadata": {},
   "outputs": [
    {
     "data": {
      "text/plain": [
       "array([[[ 0,  1,  2],\n",
       "        [ 3,  4,  5]],\n",
       "\n",
       "       [[ 6,  7,  8],\n",
       "        [ 9, 10, 11]]])"
      ]
     },
     "execution_count": 99,
     "metadata": {},
     "output_type": "execute_result"
    }
   ],
   "source": [
    "a3"
   ]
  },
  {
   "cell_type": "code",
   "execution_count": 100,
   "id": "d85ca906",
   "metadata": {},
   "outputs": [
    {
     "data": {
      "text/plain": [
       "4"
      ]
     },
     "execution_count": 100,
     "metadata": {},
     "output_type": "execute_result"
    }
   ],
   "source": [
    "a3.itemsize"
   ]
  },
  {
   "cell_type": "code",
   "execution_count": null,
   "id": "51cdeb86",
   "metadata": {},
   "outputs": [],
   "source": []
  },
  {
   "cell_type": "markdown",
   "id": "ec10a479",
   "metadata": {},
   "source": [
    "### rand"
   ]
  },
  {
   "cell_type": "code",
   "execution_count": 6,
   "id": "c9c9e08e",
   "metadata": {},
   "outputs": [
    {
     "ename": "NameError",
     "evalue": "name 'rand' is not defined",
     "output_type": "error",
     "traceback": [
      "\u001b[1;31m---------------------------------------------------------------------------\u001b[0m",
      "\u001b[1;31mNameError\u001b[0m                                 Traceback (most recent call last)",
      "Input \u001b[1;32mIn [6]\u001b[0m, in \u001b[0;36m<cell line: 1>\u001b[1;34m()\u001b[0m\n\u001b[1;32m----> 1\u001b[0m \u001b[43mrand\u001b[49m(\u001b[38;5;241m3\u001b[39m,\u001b[38;5;241m2\u001b[39m)\n",
      "\u001b[1;31mNameError\u001b[0m: name 'rand' is not defined"
     ]
    }
   ],
   "source": [
    "rand(3,2)\n",
    "# Note the error - NameError\n",
    "# rand is present inside random module"
   ]
  },
  {
   "cell_type": "code",
   "execution_count": 70,
   "id": "20c24ca1",
   "metadata": {},
   "outputs": [
    {
     "data": {
      "text/plain": [
       "array([[0.17158999, 0.44873794],\n",
       "       [0.42286854, 0.63619427],\n",
       "       [0.17420981, 0.14166163]])"
      ]
     },
     "execution_count": 70,
     "metadata": {},
     "output_type": "execute_result"
    }
   ],
   "source": [
    "random.rand(3,2)"
   ]
  },
  {
   "cell_type": "code",
   "execution_count": 71,
   "id": "f28386ed",
   "metadata": {},
   "outputs": [
    {
     "data": {
      "text/plain": [
       "array([0.88669815, 0.53387757, 0.3687537 , 0.41424971, 0.02287814])"
      ]
     },
     "execution_count": 71,
     "metadata": {},
     "output_type": "execute_result"
    }
   ],
   "source": [
    "np.random.rand(5)\n",
    "#np package, random module, rand function"
   ]
  },
  {
   "cell_type": "code",
   "execution_count": 72,
   "id": "e5ea8b92",
   "metadata": {},
   "outputs": [
    {
     "data": {
      "text/plain": [
       "array([[0.12135704, 0.11580906],\n",
       "       [0.95617614, 0.70447536],\n",
       "       [0.57904517, 0.96384216]])"
      ]
     },
     "execution_count": 72,
     "metadata": {},
     "output_type": "execute_result"
    }
   ],
   "source": [
    "np.random.rand(3,2)"
   ]
  },
  {
   "cell_type": "code",
   "execution_count": 73,
   "id": "a8952b2e",
   "metadata": {},
   "outputs": [
    {
     "data": {
      "text/plain": [
       "array([[0.90662828, 0.12565745, 0.67961887, 0.29052673],\n",
       "       [0.02245276, 0.96895673, 0.07424578, 0.9624331 ]])"
      ]
     },
     "execution_count": 73,
     "metadata": {},
     "output_type": "execute_result"
    }
   ],
   "source": [
    "np.random.rand(2,4)\n",
    "# By default it is float"
   ]
  },
  {
   "cell_type": "code",
   "execution_count": 74,
   "id": "0b5efbfe",
   "metadata": {},
   "outputs": [
    {
     "data": {
      "text/plain": [
       "2"
      ]
     },
     "execution_count": 74,
     "metadata": {},
     "output_type": "execute_result"
    }
   ],
   "source": [
    "np.random.randint(2,4)   # 2 is inclusive, # 4 is exclusive\n",
    "# To generate random integers"
   ]
  },
  {
   "cell_type": "code",
   "execution_count": null,
   "id": "2186d273",
   "metadata": {},
   "outputs": [],
   "source": [
    "np.random.randint(2,3) \n",
    "# Interview question - Write code that generates only one random value"
   ]
  },
  {
   "cell_type": "code",
   "execution_count": 75,
   "id": "04502138",
   "metadata": {},
   "outputs": [
    {
     "data": {
      "text/plain": [
       "array([18, 18, 15])"
      ]
     },
     "execution_count": 75,
     "metadata": {},
     "output_type": "execute_result"
    }
   ],
   "source": [
    "np.random.randint(11,20,3)"
   ]
  },
  {
   "cell_type": "code",
   "execution_count": 76,
   "id": "394e8b1b",
   "metadata": {},
   "outputs": [
    {
     "data": {
      "text/plain": [
       "array([1, 4, 4, 2])"
      ]
     },
     "execution_count": 76,
     "metadata": {},
     "output_type": "execute_result"
    }
   ],
   "source": [
    "np.random.randint(1,6,4)"
   ]
  },
  {
   "cell_type": "code",
   "execution_count": 77,
   "id": "065fec23",
   "metadata": {},
   "outputs": [
    {
     "ename": "ValueError",
     "evalue": "low >= high",
     "output_type": "error",
     "traceback": [
      "\u001b[1;31m---------------------------------------------------------------------------\u001b[0m",
      "\u001b[1;31mValueError\u001b[0m                                Traceback (most recent call last)",
      "Input \u001b[1;32mIn [77]\u001b[0m, in \u001b[0;36m<cell line: 1>\u001b[1;34m()\u001b[0m\n\u001b[1;32m----> 1\u001b[0m \u001b[43mnp\u001b[49m\u001b[38;5;241;43m.\u001b[39;49m\u001b[43mrandom\u001b[49m\u001b[38;5;241;43m.\u001b[39;49m\u001b[43mrandint\u001b[49m\u001b[43m(\u001b[49m\u001b[38;5;241;43m30\u001b[39;49m\u001b[43m,\u001b[49m\u001b[38;5;241;43m20\u001b[39;49m\u001b[43m,\u001b[49m\u001b[38;5;241;43m10\u001b[39;49m\u001b[43m)\u001b[49m\n",
      "File \u001b[1;32mmtrand.pyx:746\u001b[0m, in \u001b[0;36mnumpy.random.mtrand.RandomState.randint\u001b[1;34m()\u001b[0m\n",
      "File \u001b[1;32m_bounded_integers.pyx:1338\u001b[0m, in \u001b[0;36mnumpy.random._bounded_integers._rand_int32\u001b[1;34m()\u001b[0m\n",
      "\u001b[1;31mValueError\u001b[0m: low >= high"
     ]
    }
   ],
   "source": [
    "np.random.randint(30,20,10)\n",
    "# Note the ValueError, first argument must be less than the second argument"
   ]
  },
  {
   "cell_type": "code",
   "execution_count": 78,
   "id": "14459063",
   "metadata": {},
   "outputs": [
    {
     "data": {
      "text/plain": [
       "array([ 11, -25,  16,   3, -14,  15,  -6, -14, -29,   1])"
      ]
     },
     "execution_count": 78,
     "metadata": {},
     "output_type": "execute_result"
    }
   ],
   "source": [
    "np.random.randint(-30,20,10)"
   ]
  },
  {
   "cell_type": "code",
   "execution_count": 17,
   "id": "0225afd9",
   "metadata": {},
   "outputs": [
    {
     "data": {
      "text/plain": [
       "array([[11, 28, 21, 18, 29, 17, 10, 30, 26, 17],\n",
       "       [27, 13, 26, 23, 23, 37, 27, 26, 27, 24],\n",
       "       [25, 27, 31, 15, 39, 20, 34, 31, 30, 18],\n",
       "       [21, 11, 16, 29, 18, 29, 27, 26, 16, 13],\n",
       "       [26, 28, 36, 26, 23, 34, 30, 28, 34, 29],\n",
       "       [16, 17, 27, 25, 36, 19, 30, 27, 32, 12],\n",
       "       [13, 33, 34, 34, 14, 39, 20, 13, 30, 36],\n",
       "       [11, 23, 34, 22, 10, 12, 26, 23, 23, 25],\n",
       "       [34, 35, 36, 19, 34, 28, 15, 33, 17, 19],\n",
       "       [16, 33, 11, 34, 22, 36, 23, 31, 30, 25]])"
      ]
     },
     "execution_count": 17,
     "metadata": {},
     "output_type": "execute_result"
    }
   ],
   "source": [
    "np.random.randint(10,40,(10,10))\n",
    "# 10 X 10 Matrix"
   ]
  },
  {
   "cell_type": "code",
   "execution_count": 20,
   "id": "873412b9",
   "metadata": {},
   "outputs": [
    {
     "data": {
      "text/plain": [
       "array([[52, 79, 56, 96, 11, 33, 20, 33, 77, 45],\n",
       "       [26, 34, 47, 61, 39, 30, 58, 73, 33, 29],\n",
       "       [41, 75, 74, 74, 40, 98, 94, 96, 47, 22],\n",
       "       [95, 99, 35, 76, 87, 53, 20, 17, 28, 74],\n",
       "       [81, 92, 30, 86, 37, 70, 11, 14, 68, 50],\n",
       "       [69, 36, 37, 48, 76, 28, 42, 53, 67, 70],\n",
       "       [17, 33, 98, 63, 28, 17, 70, 74, 10, 26],\n",
       "       [52, 70, 33, 48, 36, 29, 87, 96, 28, 42],\n",
       "       [79, 23, 65, 71, 87, 58, 83, 18, 81, 88],\n",
       "       [32, 76, 98, 43, 46, 34, 11, 71, 42, 89]])"
      ]
     },
     "execution_count": 20,
     "metadata": {},
     "output_type": "execute_result"
    }
   ],
   "source": [
    "np.random.randint(10,100,(10,10))"
   ]
  },
  {
   "cell_type": "code",
   "execution_count": 175,
   "id": "bf1f64d7",
   "metadata": {},
   "outputs": [
    {
     "data": {
      "text/plain": [
       "array([[10, 17, 12, 17],\n",
       "       [16, 12, 14, 17],\n",
       "       [15, 19, 10, 12],\n",
       "       [15, 16, 14, 13],\n",
       "       [15, 19, 10, 15]])"
      ]
     },
     "execution_count": 175,
     "metadata": {},
     "output_type": "execute_result"
    }
   ],
   "source": [
    "b = np.random.randint(10,20,(5,4))\n",
    "b"
   ]
  },
  {
   "cell_type": "code",
   "execution_count": 28,
   "id": "e4479db7",
   "metadata": {},
   "outputs": [
    {
     "data": {
      "text/plain": [
       "numpy.ndarray"
      ]
     },
     "execution_count": 28,
     "metadata": {},
     "output_type": "execute_result"
    }
   ],
   "source": [
    "type(b)"
   ]
  },
  {
   "cell_type": "markdown",
   "id": "924c15ef",
   "metadata": {},
   "source": [
    "### Indexing and Slicing"
   ]
  },
  {
   "cell_type": "markdown",
   "id": "c379cf9d",
   "metadata": {},
   "source": [
    "#### Indexing on 1D array"
   ]
  },
  {
   "cell_type": "code",
   "execution_count": 195,
   "id": "d3fb22a4",
   "metadata": {},
   "outputs": [
    {
     "data": {
      "text/plain": [
       "array([ 1,  2,  3,  4,  5,  6,  7,  8,  9, 10])"
      ]
     },
     "execution_count": 195,
     "metadata": {},
     "output_type": "execute_result"
    }
   ],
   "source": [
    "arr6 = np.arange(1,11)\n",
    "arr6"
   ]
  },
  {
   "cell_type": "code",
   "execution_count": 198,
   "id": "c94b2e66",
   "metadata": {},
   "outputs": [
    {
     "data": {
      "text/plain": [
       "10"
      ]
     },
     "execution_count": 198,
     "metadata": {},
     "output_type": "execute_result"
    }
   ],
   "source": [
    "arr6[-1]           # To fetch the last item"
   ]
  },
  {
   "cell_type": "code",
   "execution_count": 200,
   "id": "c32b8b17",
   "metadata": {},
   "outputs": [
    {
     "data": {
      "text/plain": [
       "1"
      ]
     },
     "execution_count": 200,
     "metadata": {},
     "output_type": "execute_result"
    }
   ],
   "source": [
    "arr6[0]            # To fetch the first item"
   ]
  },
  {
   "cell_type": "markdown",
   "id": "7d06990a",
   "metadata": {},
   "source": [
    "#### Indexing on 2D array"
   ]
  },
  {
   "cell_type": "code",
   "execution_count": 202,
   "id": "31df9cac",
   "metadata": {},
   "outputs": [
    {
     "data": {
      "text/plain": [
       "array([[ 1,  2,  3,  4,  5,  6,  7],\n",
       "       [ 8,  9, 10, 11, 12, 13, 14]])"
      ]
     },
     "execution_count": 202,
     "metadata": {},
     "output_type": "execute_result"
    }
   ],
   "source": [
    "arr7 = np.arange(1,15).reshape(2,7)\n",
    "arr7"
   ]
  },
  {
   "cell_type": "code",
   "execution_count": 204,
   "id": "17384df2",
   "metadata": {},
   "outputs": [
    {
     "data": {
      "text/plain": [
       "4"
      ]
     },
     "execution_count": 204,
     "metadata": {},
     "output_type": "execute_result"
    }
   ],
   "source": [
    "# To fetch a desired element\n",
    "arr7[0,3]  # 0 - row number, 3 - column number"
   ]
  },
  {
   "cell_type": "code",
   "execution_count": 176,
   "id": "9b0d1272",
   "metadata": {},
   "outputs": [
    {
     "data": {
      "text/plain": [
       "array([[10, 17, 12, 17],\n",
       "       [16, 12, 14, 17],\n",
       "       [15, 19, 10, 12],\n",
       "       [15, 16, 14, 13],\n",
       "       [15, 19, 10, 15]])"
      ]
     },
     "execution_count": 176,
     "metadata": {},
     "output_type": "execute_result"
    }
   ],
   "source": [
    "b"
   ]
  },
  {
   "cell_type": "code",
   "execution_count": 177,
   "id": "ed2e9adf",
   "metadata": {},
   "outputs": [
    {
     "data": {
      "text/plain": [
       "array([[10, 17, 12, 17],\n",
       "       [16, 12, 14, 17],\n",
       "       [15, 19, 10, 12],\n",
       "       [15, 16, 14, 13],\n",
       "       [15, 19, 10, 15]])"
      ]
     },
     "execution_count": 177,
     "metadata": {},
     "output_type": "execute_result"
    }
   ],
   "source": [
    "b[:]"
   ]
  },
  {
   "attachments": {},
   "cell_type": "markdown",
   "id": "60a358e8",
   "metadata": {},
   "source": [
    "<center>Note the row and column indices</center>"
   ]
  },
  {
   "attachments": {
    "Array%20Indices.png": {
     "image/png": "[encoded data removed]"
    }
   },
   "cell_type": "markdown",
   "id": "5e6fe346",
   "metadata": {},
   "source": [
    "![Array%20Indices.png](attachment:Array%20Indices.png)"
   ]
  },
  {
   "cell_type": "code",
   "execution_count": 178,
   "id": "ab0b5dec",
   "metadata": {},
   "outputs": [
    {
     "data": {
      "text/plain": [
       "array([[16, 12, 14, 17],\n",
       "       [15, 19, 10, 12]])"
      ]
     },
     "execution_count": 178,
     "metadata": {},
     "output_type": "execute_result"
    }
   ],
   "source": [
    "b[1:3]  # : in numpy gives specific rows"
   ]
  },
  {
   "cell_type": "code",
   "execution_count": 179,
   "id": "a1fc1ca0",
   "metadata": {},
   "outputs": [
    {
     "data": {
      "text/plain": [
       "17"
      ]
     },
     "execution_count": 179,
     "metadata": {},
     "output_type": "execute_result"
    }
   ],
   "source": [
    "b[1,3]  # , in numpy gives specific elements"
   ]
  },
  {
   "cell_type": "code",
   "execution_count": 180,
   "id": "1e1d2549",
   "metadata": {},
   "outputs": [
    {
     "data": {
      "text/plain": [
       "array([[10, 17, 12, 17],\n",
       "       [16, 12, 14, 17]])"
      ]
     },
     "execution_count": 180,
     "metadata": {},
     "output_type": "execute_result"
    }
   ],
   "source": [
    "b[0:-3]"
   ]
  },
  {
   "cell_type": "code",
   "execution_count": 181,
   "id": "c6c88a57",
   "metadata": {},
   "outputs": [
    {
     "data": {
      "text/plain": [
       "array([], shape=(0, 4), dtype=int32)"
      ]
     },
     "execution_count": 181,
     "metadata": {},
     "output_type": "execute_result"
    }
   ],
   "source": [
    "b[-1:-3]"
   ]
  },
  {
   "cell_type": "code",
   "execution_count": 182,
   "id": "72f0c0cb",
   "metadata": {},
   "outputs": [
    {
     "data": {
      "text/plain": [
       "array([[10, 17, 12, 17],\n",
       "       [16, 12, 14, 17]])"
      ]
     },
     "execution_count": 182,
     "metadata": {},
     "output_type": "execute_result"
    }
   ],
   "source": [
    "b[-5:-3]"
   ]
  },
  {
   "cell_type": "code",
   "execution_count": 184,
   "id": "a76f90d5",
   "metadata": {},
   "outputs": [
    {
     "data": {
      "text/plain": [
       "array([[16, 12, 14, 17],\n",
       "       [15, 19, 10, 12]])"
      ]
     },
     "execution_count": 184,
     "metadata": {},
     "output_type": "execute_result"
    }
   ],
   "source": [
    "b[-4:-2]"
   ]
  },
  {
   "cell_type": "code",
   "execution_count": 185,
   "id": "ac36e94e",
   "metadata": {},
   "outputs": [
    {
     "data": {
      "text/plain": [
       "14"
      ]
     },
     "execution_count": 185,
     "metadata": {},
     "output_type": "execute_result"
    }
   ],
   "source": [
    "b[-4,-2]"
   ]
  },
  {
   "cell_type": "code",
   "execution_count": 186,
   "id": "e773a819",
   "metadata": {},
   "outputs": [
    {
     "data": {
      "text/plain": [
       "17"
      ]
     },
     "execution_count": 186,
     "metadata": {},
     "output_type": "execute_result"
    }
   ],
   "source": [
    "b[-5,-3]"
   ]
  },
  {
   "cell_type": "code",
   "execution_count": 187,
   "id": "a1e0f593",
   "metadata": {},
   "outputs": [
    {
     "data": {
      "text/plain": [
       "array([[10, 17, 12, 17],\n",
       "       [16, 12, 14, 17],\n",
       "       [15, 19, 10, 12],\n",
       "       [15, 16, 14, 13],\n",
       "       [15, 19, 10, 15]])"
      ]
     },
     "execution_count": 187,
     "metadata": {},
     "output_type": "execute_result"
    }
   ],
   "source": [
    "b"
   ]
  },
  {
   "cell_type": "code",
   "execution_count": 188,
   "id": "a9009842",
   "metadata": {},
   "outputs": [
    {
     "data": {
      "text/plain": [
       "array([], shape=(0, 4), dtype=int32)"
      ]
     },
     "execution_count": 188,
     "metadata": {},
     "output_type": "execute_result"
    }
   ],
   "source": [
    "b[-3:2]"
   ]
  },
  {
   "cell_type": "code",
   "execution_count": 189,
   "id": "8f845582",
   "metadata": {},
   "outputs": [
    {
     "data": {
      "text/plain": [
       "array([[15, 19, 10, 12]])"
      ]
     },
     "execution_count": 189,
     "metadata": {},
     "output_type": "execute_result"
    }
   ],
   "source": [
    "b[-3:3]"
   ]
  },
  {
   "cell_type": "code",
   "execution_count": 190,
   "id": "2c97609f",
   "metadata": {},
   "outputs": [
    {
     "data": {
      "text/plain": [
       "array([], shape=(0, 4), dtype=int32)"
      ]
     },
     "execution_count": 190,
     "metadata": {},
     "output_type": "execute_result"
    }
   ],
   "source": [
    "b[-2:2]"
   ]
  },
  {
   "cell_type": "code",
   "execution_count": 64,
   "id": "4eaf4d80",
   "metadata": {},
   "outputs": [
    {
     "ename": "TypeError",
     "evalue": "unsupported operand type(s) for /: 'int' and 'tuple'",
     "output_type": "error",
     "traceback": [
      "\u001b[1;31m---------------------------------------------------------------------------\u001b[0m",
      "\u001b[1;31mTypeError\u001b[0m                                 Traceback (most recent call last)",
      "Input \u001b[1;32mIn [64]\u001b[0m, in \u001b[0;36m<cell line: 1>\u001b[1;34m()\u001b[0m\n\u001b[1;32m----> 1\u001b[0m mat \u001b[38;5;241m=\u001b[39m \u001b[43mnp\u001b[49m\u001b[38;5;241;43m.\u001b[39;49m\u001b[43marange\u001b[49m\u001b[43m(\u001b[49m\u001b[38;5;241;43m10\u001b[39;49m\u001b[43m,\u001b[49m\u001b[38;5;241;43m100\u001b[39;49m\u001b[43m,\u001b[49m\u001b[43m(\u001b[49m\u001b[38;5;241;43m10\u001b[39;49m\u001b[43m,\u001b[49m\u001b[38;5;241;43m10\u001b[39;49m\u001b[43m)\u001b[49m\u001b[43m)\u001b[49m\n",
      "\u001b[1;31mTypeError\u001b[0m: unsupported operand type(s) for /: 'int' and 'tuple'"
     ]
    }
   ],
   "source": [
    "mat = np.arange(10,100)"
   ]
  },
  {
   "cell_type": "markdown",
   "id": "24881dab",
   "metadata": {},
   "source": [
    "#### Indexing on Tensors \n",
    "  - Python ND arrays are called as Tensors"
   ]
  },
  {
   "cell_type": "code",
   "execution_count": 210,
   "id": "46f24caa",
   "metadata": {},
   "outputs": [
    {
     "data": {
      "text/plain": [
       "array([[[ 0,  1,  2,  3],\n",
       "        [ 4,  5,  6,  7],\n",
       "        [ 8,  9, 10, 11]],\n",
       "\n",
       "       [[12, 13, 14, 15],\n",
       "        [16, 17, 18, 19],\n",
       "        [20, 21, 22, 23]]])"
      ]
     },
     "execution_count": 210,
     "metadata": {},
     "output_type": "execute_result"
    }
   ],
   "source": [
    "arr8 = np.arange(24).reshape(2,3,4)\n",
    "arr8"
   ]
  },
  {
   "cell_type": "code",
   "execution_count": 211,
   "id": "e3f3b50a",
   "metadata": {},
   "outputs": [
    {
     "data": {
      "text/plain": [
       "5"
      ]
     },
     "execution_count": 211,
     "metadata": {},
     "output_type": "execute_result"
    }
   ],
   "source": [
    "arr8[0,1,1]     # Fetching a desired element"
   ]
  },
  {
   "cell_type": "code",
   "execution_count": 212,
   "id": "664f5282",
   "metadata": {},
   "outputs": [
    {
     "data": {
      "text/plain": [
       "0"
      ]
     },
     "execution_count": 212,
     "metadata": {},
     "output_type": "execute_result"
    }
   ],
   "source": [
    "arr8[0,0,0]"
   ]
  },
  {
   "cell_type": "code",
   "execution_count": 213,
   "id": "ead40cdb",
   "metadata": {},
   "outputs": [
    {
     "ename": "IndexError",
     "evalue": "index 2 is out of bounds for axis 0 with size 2",
     "output_type": "error",
     "traceback": [
      "\u001b[1;31m---------------------------------------------------------------------------\u001b[0m",
      "\u001b[1;31mIndexError\u001b[0m                                Traceback (most recent call last)",
      "Input \u001b[1;32mIn [213]\u001b[0m, in \u001b[0;36m<cell line: 1>\u001b[1;34m()\u001b[0m\n\u001b[1;32m----> 1\u001b[0m \u001b[43marr8\u001b[49m\u001b[43m[\u001b[49m\u001b[38;5;241;43m2\u001b[39;49m\u001b[43m,\u001b[49m\u001b[38;5;241;43m3\u001b[39;49m\u001b[43m,\u001b[49m\u001b[38;5;241;43m5\u001b[39;49m\u001b[43m]\u001b[49m\n",
      "\u001b[1;31mIndexError\u001b[0m: index 2 is out of bounds for axis 0 with size 2"
     ]
    }
   ],
   "source": [
    "arr8[2,3,5]     # Note the error"
   ]
  },
  {
   "cell_type": "markdown",
   "id": "b2bdaaab",
   "metadata": {},
   "source": [
    "#### Slicing"
   ]
  },
  {
   "cell_type": "markdown",
   "id": "a68dc255",
   "metadata": {},
   "source": [
    "#### Slicing a 1D array"
   ]
  },
  {
   "cell_type": "code",
   "execution_count": 218,
   "id": "766c1549",
   "metadata": {},
   "outputs": [
    {
     "data": {
      "text/plain": [
       "array([ 1,  2,  3,  4,  5,  6,  7,  8,  9, 10])"
      ]
     },
     "execution_count": 218,
     "metadata": {},
     "output_type": "execute_result"
    }
   ],
   "source": [
    "arr6"
   ]
  },
  {
   "cell_type": "code",
   "execution_count": 219,
   "id": "00b03b82",
   "metadata": {},
   "outputs": [
    {
     "data": {
      "text/plain": [
       "array([6, 7, 8])"
      ]
     },
     "execution_count": 219,
     "metadata": {},
     "output_type": "execute_result"
    }
   ],
   "source": [
    "# Fetching desired elements 6,7,8\n",
    "arr6[5:8]"
   ]
  },
  {
   "cell_type": "code",
   "execution_count": 221,
   "id": "341bf00e",
   "metadata": {},
   "outputs": [
    {
     "data": {
      "text/plain": [
       "array([1, 3, 5, 7, 9])"
      ]
     },
     "execution_count": 221,
     "metadata": {},
     "output_type": "execute_result"
    }
   ],
   "source": [
    "arr6[0:10:2]            # Using step"
   ]
  },
  {
   "cell_type": "markdown",
   "id": "2b71864e",
   "metadata": {},
   "source": [
    "#### Slicing a 2D array"
   ]
  },
  {
   "cell_type": "code",
   "execution_count": 222,
   "id": "53210e83",
   "metadata": {},
   "outputs": [
    {
     "data": {
      "text/plain": [
       "array([[ 1,  2,  3,  4,  5,  6,  7],\n",
       "       [ 8,  9, 10, 11, 12, 13, 14]])"
      ]
     },
     "execution_count": 222,
     "metadata": {},
     "output_type": "execute_result"
    }
   ],
   "source": [
    "arr7"
   ]
  },
  {
   "cell_type": "code",
   "execution_count": 223,
   "id": "93b8274f",
   "metadata": {},
   "outputs": [
    {
     "data": {
      "text/plain": [
       "array([1, 2, 3, 4, 5, 6, 7])"
      ]
     },
     "execution_count": 223,
     "metadata": {},
     "output_type": "execute_result"
    }
   ],
   "source": [
    "arr7[0,:]      # First row"
   ]
  },
  {
   "cell_type": "code",
   "execution_count": 225,
   "id": "3c6d4d9c",
   "metadata": {},
   "outputs": [
    {
     "data": {
      "text/plain": [
       "array([2, 9])"
      ]
     },
     "execution_count": 225,
     "metadata": {},
     "output_type": "execute_result"
    }
   ],
   "source": [
    "arr7[:,1]      # Second column "
   ]
  },
  {
   "cell_type": "code",
   "execution_count": 227,
   "id": "2544385e",
   "metadata": {},
   "outputs": [
    {
     "data": {
      "text/plain": [
       "array([[ 4,  5],\n",
       "       [11, 12]])"
      ]
     },
     "execution_count": 227,
     "metadata": {},
     "output_type": "execute_result"
    }
   ],
   "source": [
    "# Fetch a subset, 4,5,11,12\n",
    "arr7[:,3:5]"
   ]
  },
  {
   "cell_type": "code",
   "execution_count": 230,
   "id": "5c81e557",
   "metadata": {},
   "outputs": [
    {
     "data": {
      "text/plain": [
       "array([[ 2,  4,  6],\n",
       "       [ 9, 11, 13]])"
      ]
     },
     "execution_count": 230,
     "metadata": {},
     "output_type": "execute_result"
    }
   ],
   "source": [
    "# Fetch 2,4,6,9,11,13\n",
    "arr7[:,1:6:2]            # Using step"
   ]
  },
  {
   "cell_type": "code",
   "execution_count": 233,
   "id": "9955ada9",
   "metadata": {},
   "outputs": [
    {
     "data": {
      "text/plain": [
       "array([[ 1,  2,  3,  4,  5,  6,  7],\n",
       "       [ 8,  9, 10, 11, 12, 13, 14]])"
      ]
     },
     "execution_count": 233,
     "metadata": {},
     "output_type": "execute_result"
    }
   ],
   "source": [
    "arr7[::2]     # For rows"
   ]
  },
  {
   "cell_type": "code",
   "execution_count": 235,
   "id": "733b6fdd",
   "metadata": {},
   "outputs": [
    {
     "data": {
      "text/plain": [
       "array([[ 1,  3,  5,  7],\n",
       "       [ 8, 10, 12, 14]])"
      ]
     },
     "execution_count": 235,
     "metadata": {},
     "output_type": "execute_result"
    }
   ],
   "source": [
    "arr7[:,::2]    # For columns"
   ]
  },
  {
   "cell_type": "markdown",
   "id": "c791585c",
   "metadata": {},
   "source": [
    "#### Slicing a 3D array"
   ]
  },
  {
   "cell_type": "code",
   "execution_count": 250,
   "id": "dc4a6add",
   "metadata": {},
   "outputs": [
    {
     "data": {
      "text/plain": [
       "array([[[ 0,  1],\n",
       "        [ 2,  3],\n",
       "        [ 4,  5],\n",
       "        [ 6,  7]],\n",
       "\n",
       "       [[ 8,  9],\n",
       "        [10, 11],\n",
       "        [12, 13],\n",
       "        [14, 15]],\n",
       "\n",
       "       [[16, 17],\n",
       "        [18, 19],\n",
       "        [20, 21],\n",
       "        [22, 23]]])"
      ]
     },
     "execution_count": 250,
     "metadata": {},
     "output_type": "execute_result"
    }
   ],
   "source": [
    "arr8 = arr8.reshape(3,4,2)\n",
    "arr8"
   ]
  },
  {
   "cell_type": "code",
   "execution_count": 251,
   "id": "b6c8938b",
   "metadata": {},
   "outputs": [
    {
     "data": {
      "text/plain": [
       "array([[0, 1],\n",
       "       [2, 3],\n",
       "       [4, 5],\n",
       "       [6, 7]])"
      ]
     },
     "execution_count": 251,
     "metadata": {},
     "output_type": "execute_result"
    }
   ],
   "source": [
    "# Fetch 1st Matrix\n",
    "arr8[0]"
   ]
  },
  {
   "cell_type": "code",
   "execution_count": 252,
   "id": "5e62d1b0",
   "metadata": {},
   "outputs": [
    {
     "data": {
      "text/plain": [
       "array([[[ 0,  1],\n",
       "        [ 2,  3],\n",
       "        [ 4,  5],\n",
       "        [ 6,  7]],\n",
       "\n",
       "       [[ 8,  9],\n",
       "        [10, 11],\n",
       "        [12, 13],\n",
       "        [14, 15]],\n",
       "\n",
       "       [[16, 17],\n",
       "        [18, 19],\n",
       "        [20, 21],\n",
       "        [22, 23]]])"
      ]
     },
     "execution_count": 252,
     "metadata": {},
     "output_type": "execute_result"
    }
   ],
   "source": [
    "arr8[::1]"
   ]
  },
  {
   "cell_type": "code",
   "execution_count": 256,
   "id": "d31363e3",
   "metadata": {},
   "outputs": [
    {
     "data": {
      "text/plain": [
       "array([[[ 0,  1],\n",
       "        [ 2,  3],\n",
       "        [ 4,  5],\n",
       "        [ 6,  7]],\n",
       "\n",
       "       [[16, 17],\n",
       "        [18, 19],\n",
       "        [20, 21],\n",
       "        [22, 23]]])"
      ]
     },
     "execution_count": 256,
     "metadata": {},
     "output_type": "execute_result"
    }
   ],
   "source": [
    "arr8[::2]"
   ]
  },
  {
   "cell_type": "code",
   "execution_count": 257,
   "id": "49614b81",
   "metadata": {},
   "outputs": [
    {
     "data": {
      "text/plain": [
       "array([[ 8,  9],\n",
       "       [10, 11],\n",
       "       [12, 13],\n",
       "       [14, 15]])"
      ]
     },
     "execution_count": 257,
     "metadata": {},
     "output_type": "execute_result"
    }
   ],
   "source": [
    "arr8[1]"
   ]
  },
  {
   "cell_type": "code",
   "execution_count": 259,
   "id": "0f66b2c5",
   "metadata": {},
   "outputs": [
    {
     "data": {
      "text/plain": [
       "array([ 9, 11, 13, 15])"
      ]
     },
     "execution_count": 259,
     "metadata": {},
     "output_type": "execute_result"
    }
   ],
   "source": [
    "arr8[1,:,1]"
   ]
  },
  {
   "cell_type": "code",
   "execution_count": 260,
   "id": "b2014770",
   "metadata": {},
   "outputs": [
    {
     "data": {
      "text/plain": [
       "array([[16, 17],\n",
       "       [18, 19],\n",
       "       [20, 21],\n",
       "       [22, 23]])"
      ]
     },
     "execution_count": 260,
     "metadata": {},
     "output_type": "execute_result"
    }
   ],
   "source": [
    "arr8[2]"
   ]
  },
  {
   "cell_type": "markdown",
   "id": "c6559537",
   "metadata": {},
   "source": [
    "### Operations"
   ]
  },
  {
   "cell_type": "markdown",
   "id": "02f6f4f2",
   "metadata": {},
   "source": [
    "### reshape\n",
    "Pre-requisite - both the number products must be equal to the number of items present inside the array"
   ]
  },
  {
   "cell_type": "code",
   "execution_count": null,
   "id": "1c70827e",
   "metadata": {},
   "outputs": [],
   "source": [
    "np.arange(1,9).reshape(4,2)"
   ]
  },
  {
   "cell_type": "code",
   "execution_count": null,
   "id": "384f5dfd",
   "metadata": {},
   "outputs": [],
   "source": [
    "np.arange(1,9).reshape(2,4)"
   ]
  },
  {
   "cell_type": "code",
   "execution_count": 22,
   "id": "08a7d6f2",
   "metadata": {},
   "outputs": [
    {
     "data": {
      "text/plain": [
       "array([[1, 2, 3],\n",
       "       [4, 5, 6],\n",
       "       [7, 8, 9]])"
      ]
     },
     "execution_count": 22,
     "metadata": {},
     "output_type": "execute_result"
    }
   ],
   "source": [
    "np.arange(1,10).reshape(3,3)"
   ]
  },
  {
   "cell_type": "code",
   "execution_count": 23,
   "id": "1b506221",
   "metadata": {},
   "outputs": [
    {
     "data": {
      "text/plain": [
       "array([[ 1,  2,  3,  4,  5,  6,  7,  8,  9, 10, 11, 12]])"
      ]
     },
     "execution_count": 23,
     "metadata": {},
     "output_type": "execute_result"
    }
   ],
   "source": [
    "np.arange(1,13).reshape(1,12)"
   ]
  },
  {
   "cell_type": "code",
   "execution_count": 24,
   "id": "af75b98a",
   "metadata": {},
   "outputs": [
    {
     "data": {
      "text/plain": [
       "array([[ 1],\n",
       "       [ 2],\n",
       "       [ 3],\n",
       "       [ 4],\n",
       "       [ 5],\n",
       "       [ 6],\n",
       "       [ 7],\n",
       "       [ 8],\n",
       "       [ 9],\n",
       "       [10],\n",
       "       [11],\n",
       "       [12]])"
      ]
     },
     "execution_count": 24,
     "metadata": {},
     "output_type": "execute_result"
    }
   ],
   "source": [
    "np.arange(1,13).reshape(12,1)"
   ]
  },
  {
   "cell_type": "markdown",
   "id": "0b999c48",
   "metadata": {},
   "source": [
    "### Scalar Operations\n",
    "- Addition, Subtraction and Multiplication"
   ]
  },
  {
   "cell_type": "markdown",
   "id": "65c240ca",
   "metadata": {},
   "source": [
    "### Arithmetic Operators"
   ]
  },
  {
   "cell_type": "code",
   "execution_count": 128,
   "id": "61a9c2b7",
   "metadata": {},
   "outputs": [
    {
     "name": "stdout",
     "output_type": "stream",
     "text": [
      "[[ 1  2  3  4  5  6]\n",
      " [ 7  8  9 10 11 12]]\n",
      "[[ 1  2  3  4  5  6]\n",
      " [ 7  8  9 10 11 12]\n",
      " [13 14 15 16 17 18]\n",
      " [19 20 21 22 23 24]]\n"
     ]
    }
   ],
   "source": [
    "a1 = np.arange(1,13).reshape(2,6)\n",
    "a2 = np.arange(1,25).reshape(4,6)\n",
    "print(a1)\n",
    "print(a2)"
   ]
  },
  {
   "cell_type": "code",
   "execution_count": 116,
   "id": "432584a5",
   "metadata": {},
   "outputs": [
    {
     "data": {
      "text/plain": [
       "array([[ 6,  7,  8,  9, 10, 11],\n",
       "       [12, 13, 14, 15, 16, 17]])"
      ]
     },
     "execution_count": 116,
     "metadata": {},
     "output_type": "execute_result"
    }
   ],
   "source": [
    "# Addition\n",
    "a1 + 5"
   ]
  },
  {
   "cell_type": "code",
   "execution_count": 117,
   "id": "1f9d0d04",
   "metadata": {},
   "outputs": [
    {
     "data": {
      "text/plain": [
       "array([[11, 12, 13, 14, 15, 16],\n",
       "       [17, 18, 19, 20, 21, 22],\n",
       "       [23, 24, 25, 26, 27, 28],\n",
       "       [29, 30, 31, 32, 33, 34]])"
      ]
     },
     "execution_count": 117,
     "metadata": {},
     "output_type": "execute_result"
    }
   ],
   "source": [
    "# Susbtraction\n",
    "a2 + 10"
   ]
  },
  {
   "cell_type": "code",
   "execution_count": 118,
   "id": "3e6a8c39",
   "metadata": {},
   "outputs": [
    {
     "data": {
      "text/plain": [
       "array([[ 3,  6,  9, 12, 15, 18],\n",
       "       [21, 24, 27, 30, 33, 36]])"
      ]
     },
     "execution_count": 118,
     "metadata": {},
     "output_type": "execute_result"
    }
   ],
   "source": [
    "# Multiplication\n",
    "a1 * 3"
   ]
  },
  {
   "cell_type": "code",
   "execution_count": 120,
   "id": "26032b18",
   "metadata": {},
   "outputs": [
    {
     "data": {
      "text/plain": [
       "array([[  1,   4,   9,  16,  25,  36],\n",
       "       [ 49,  64,  81, 100, 121, 144]], dtype=int32)"
      ]
     },
     "execution_count": 120,
     "metadata": {},
     "output_type": "execute_result"
    }
   ],
   "source": [
    "# Power\n",
    "a1 ** 2"
   ]
  },
  {
   "cell_type": "code",
   "execution_count": 121,
   "id": "d4980549",
   "metadata": {},
   "outputs": [
    {
     "data": {
      "text/plain": [
       "array([[1, 0, 1, 0, 1, 0],\n",
       "       [1, 0, 1, 0, 1, 0]], dtype=int32)"
      ]
     },
     "execution_count": 121,
     "metadata": {},
     "output_type": "execute_result"
    }
   ],
   "source": [
    "# Modulo\n",
    "a1 % 2"
   ]
  },
  {
   "cell_type": "markdown",
   "id": "57b011bb",
   "metadata": {},
   "source": [
    "### Relational Operators"
   ]
  },
  {
   "cell_type": "code",
   "execution_count": 129,
   "id": "912e27b4",
   "metadata": {},
   "outputs": [
    {
     "data": {
      "text/plain": [
       "array([[ 1,  2,  3,  4,  5,  6],\n",
       "       [ 7,  8,  9, 10, 11, 12]])"
      ]
     },
     "execution_count": 129,
     "metadata": {},
     "output_type": "execute_result"
    }
   ],
   "source": [
    "a1"
   ]
  },
  {
   "cell_type": "code",
   "execution_count": 124,
   "id": "aa6884ca",
   "metadata": {},
   "outputs": [
    {
     "data": {
      "text/plain": [
       "array([[False,  True,  True,  True,  True,  True],\n",
       "       [ True,  True,  True,  True,  True,  True]])"
      ]
     },
     "execution_count": 124,
     "metadata": {},
     "output_type": "execute_result"
    }
   ],
   "source": [
    "a1 > 1"
   ]
  },
  {
   "cell_type": "code",
   "execution_count": 123,
   "id": "be4315b6",
   "metadata": {},
   "outputs": [
    {
     "data": {
      "text/plain": [
       "array([[False,  True,  True,  True,  True,  True],\n",
       "       [ True,  True,  True,  True,  True,  True]])"
      ]
     },
     "execution_count": 123,
     "metadata": {},
     "output_type": "execute_result"
    }
   ],
   "source": [
    "a1 > True"
   ]
  },
  {
   "cell_type": "code",
   "execution_count": 130,
   "id": "b90c781d",
   "metadata": {},
   "outputs": [
    {
     "data": {
      "text/plain": [
       "array([[False, False, False, False,  True, False],\n",
       "       [False, False, False, False, False, False]])"
      ]
     },
     "execution_count": 130,
     "metadata": {},
     "output_type": "execute_result"
    }
   ],
   "source": [
    "a1 == 5"
   ]
  },
  {
   "cell_type": "markdown",
   "id": "ae53b83c",
   "metadata": {},
   "source": [
    "### Vector Operations"
   ]
  },
  {
   "cell_type": "code",
   "execution_count": null,
   "id": "ea49e967",
   "metadata": {},
   "outputs": [],
   "source": [
    "a1 = np.arange(1,13).reshape(2,6)\n",
    "a2 = np.arange(1,25).reshape(4,6)\n",
    "print(a1)\n",
    "print(a2)"
   ]
  },
  {
   "cell_type": "code",
   "execution_count": 107,
   "id": "9dddd265",
   "metadata": {},
   "outputs": [
    {
     "ename": "ValueError",
     "evalue": "operands could not be broadcast together with shapes (2,6) (4,6) ",
     "output_type": "error",
     "traceback": [
      "\u001b[1;31m---------------------------------------------------------------------------\u001b[0m",
      "\u001b[1;31mValueError\u001b[0m                                Traceback (most recent call last)",
      "Input \u001b[1;32mIn [107]\u001b[0m, in \u001b[0;36m<cell line: 1>\u001b[1;34m()\u001b[0m\n\u001b[1;32m----> 1\u001b[0m \u001b[43ma1\u001b[49m\u001b[43m \u001b[49m\u001b[38;5;241;43m+\u001b[39;49m\u001b[43m \u001b[49m\u001b[43ma2\u001b[49m\n",
      "\u001b[1;31mValueError\u001b[0m: operands could not be broadcast together with shapes (2,6) (4,6) "
     ]
    }
   ],
   "source": [
    "a1 + a2 \n",
    "# Note: Pre-requisite to sum up two arrays - they must be of the same size"
   ]
  },
  {
   "cell_type": "code",
   "execution_count": 131,
   "id": "0992c114",
   "metadata": {
    "scrolled": true
   },
   "outputs": [],
   "source": [
    "a2 = np.arange(12,24).reshape(2,6)"
   ]
  },
  {
   "cell_type": "code",
   "execution_count": 132,
   "id": "7abed574",
   "metadata": {},
   "outputs": [
    {
     "name": "stdout",
     "output_type": "stream",
     "text": [
      "[[ 1  2  3  4  5  6]\n",
      " [ 7  8  9 10 11 12]]\n",
      "[[12 13 14 15 16 17]\n",
      " [18 19 20 21 22 23]]\n"
     ]
    }
   ],
   "source": [
    "print(a1)\n",
    "print(a2)"
   ]
  },
  {
   "cell_type": "code",
   "execution_count": 133,
   "id": "0d93d97a",
   "metadata": {},
   "outputs": [
    {
     "data": {
      "text/plain": [
       "array([[13, 15, 17, 19, 21, 23],\n",
       "       [25, 27, 29, 31, 33, 35]])"
      ]
     },
     "execution_count": 133,
     "metadata": {},
     "output_type": "execute_result"
    }
   ],
   "source": [
    "# Addition\n",
    "a1 + a2"
   ]
  },
  {
   "cell_type": "code",
   "execution_count": 134,
   "id": "f441b273",
   "metadata": {},
   "outputs": [
    {
     "data": {
      "text/plain": [
       "array([[ 12,  26,  42,  60,  80, 102],\n",
       "       [126, 152, 180, 210, 242, 276]])"
      ]
     },
     "execution_count": 134,
     "metadata": {},
     "output_type": "execute_result"
    }
   ],
   "source": [
    "a1 * a2"
   ]
  },
  {
   "cell_type": "code",
   "execution_count": 140,
   "id": "88520206",
   "metadata": {},
   "outputs": [
    {
     "name": "stdout",
     "output_type": "stream",
     "text": [
      "[[ 1  2  3  4  5  6]\n",
      " [ 7  8  9 10 11 12]]\n",
      "[[ 1  2  3  4]\n",
      " [ 5  6  7  8]\n",
      " [ 9 10 11 12]]\n"
     ]
    }
   ],
   "source": [
    "a3 = np.arange(1,13).reshape(2,6)\n",
    "a4 = np.arange(1,13).reshape(3,4)\n",
    "print(a3)\n",
    "print(a4)"
   ]
  },
  {
   "cell_type": "code",
   "execution_count": 141,
   "id": "1ca3bdc3",
   "metadata": {},
   "outputs": [
    {
     "ename": "ValueError",
     "evalue": "operands could not be broadcast together with shapes (2,6) (3,4) ",
     "output_type": "error",
     "traceback": [
      "\u001b[1;31m---------------------------------------------------------------------------\u001b[0m",
      "\u001b[1;31mValueError\u001b[0m                                Traceback (most recent call last)",
      "Input \u001b[1;32mIn [141]\u001b[0m, in \u001b[0;36m<cell line: 1>\u001b[1;34m()\u001b[0m\n\u001b[1;32m----> 1\u001b[0m \u001b[43ma3\u001b[49m\u001b[43m \u001b[49m\u001b[38;5;241;43m*\u001b[39;49m\u001b[43m \u001b[49m\u001b[43ma4\u001b[49m\n",
      "\u001b[1;31mValueError\u001b[0m: operands could not be broadcast together with shapes (2,6) (3,4) "
     ]
    }
   ],
   "source": [
    "a3 * a4\n",
    "# Note the error"
   ]
  },
  {
   "cell_type": "code",
   "execution_count": 142,
   "id": "4a6e790f",
   "metadata": {},
   "outputs": [
    {
     "name": "stdout",
     "output_type": "stream",
     "text": [
      "[[ 1  2  3]\n",
      " [ 4  5  6]\n",
      " [ 7  8  9]\n",
      " [10 11 12]]\n",
      "[[1 2 3]\n",
      " [4 5 6]\n",
      " [7 8 9]]\n"
     ]
    }
   ],
   "source": [
    "a5 = np.arange(1,13).reshape(4,3)\n",
    "a6 = np.arange(1,10).reshape(3,3)\n",
    "print(a5)\n",
    "print(a6)"
   ]
  },
  {
   "cell_type": "code",
   "execution_count": 143,
   "id": "ce2175eb",
   "metadata": {},
   "outputs": [
    {
     "ename": "ValueError",
     "evalue": "operands could not be broadcast together with shapes (4,3) (3,3) ",
     "output_type": "error",
     "traceback": [
      "\u001b[1;31m---------------------------------------------------------------------------\u001b[0m",
      "\u001b[1;31mValueError\u001b[0m                                Traceback (most recent call last)",
      "Input \u001b[1;32mIn [143]\u001b[0m, in \u001b[0;36m<cell line: 1>\u001b[1;34m()\u001b[0m\n\u001b[1;32m----> 1\u001b[0m \u001b[43ma5\u001b[49m\u001b[43m \u001b[49m\u001b[38;5;241;43m*\u001b[39;49m\u001b[43m \u001b[49m\u001b[43ma6\u001b[49m\n",
      "\u001b[1;31mValueError\u001b[0m: operands could not be broadcast together with shapes (4,3) (3,3) "
     ]
    }
   ],
   "source": [
    "a5 * a6\n",
    "# Note the error"
   ]
  },
  {
   "cell_type": "code",
   "execution_count": 145,
   "id": "e0a3d602",
   "metadata": {},
   "outputs": [
    {
     "name": "stdout",
     "output_type": "stream",
     "text": [
      "[[ 1  2  3  4  5  6]\n",
      " [ 7  8  9 10 11 12]]\n",
      "[[12 13 14 15 16 17]\n",
      " [18 19 20 21 22 23]]\n"
     ]
    }
   ],
   "source": [
    "print(a1)\n",
    "print(a2)"
   ]
  },
  {
   "cell_type": "code",
   "execution_count": 144,
   "id": "808b1b99",
   "metadata": {},
   "outputs": [
    {
     "data": {
      "text/plain": [
       "array([[ 12,  26,  42,  60,  80, 102],\n",
       "       [126, 152, 180, 210, 242, 276]])"
      ]
     },
     "execution_count": 144,
     "metadata": {},
     "output_type": "execute_result"
    }
   ],
   "source": [
    "a1 * a2\n",
    "# For the multiplication to work, the arrays must be of the same size"
   ]
  },
  {
   "cell_type": "code",
   "execution_count": 146,
   "id": "53486381",
   "metadata": {},
   "outputs": [
    {
     "data": {
      "text/plain": [
       "array([[0.08333333, 0.15384615, 0.21428571, 0.26666667, 0.3125    ,\n",
       "        0.35294118],\n",
       "       [0.38888889, 0.42105263, 0.45      , 0.47619048, 0.5       ,\n",
       "        0.52173913]])"
      ]
     },
     "execution_count": 146,
     "metadata": {},
     "output_type": "execute_result"
    }
   ],
   "source": [
    "a1 / a2"
   ]
  },
  {
   "cell_type": "markdown",
   "id": "86d32a1e",
   "metadata": {},
   "source": [
    "### Array Functions"
   ]
  },
  {
   "cell_type": "code",
   "execution_count": 60,
   "id": "98a5fd1f",
   "metadata": {},
   "outputs": [
    {
     "data": {
      "text/plain": [
       "array([13, 19, 10, 15, 13, 17, 14, 16, 16, 11])"
      ]
     },
     "execution_count": 60,
     "metadata": {},
     "output_type": "execute_result"
    }
   ],
   "source": [
    "arr1 = np.random.randint(10,20,10)\n",
    "arr1"
   ]
  },
  {
   "cell_type": "code",
   "execution_count": 61,
   "id": "3e91fab6",
   "metadata": {},
   "outputs": [
    {
     "data": {
      "text/plain": [
       "2098799037968"
      ]
     },
     "execution_count": 61,
     "metadata": {},
     "output_type": "execute_result"
    }
   ],
   "source": [
    "id(arr1)"
   ]
  },
  {
   "cell_type": "code",
   "execution_count": 62,
   "id": "b36aeff1",
   "metadata": {},
   "outputs": [
    {
     "data": {
      "text/plain": [
       "array([[34, 70, 40,  0, 79, 31, 21, 51, 78, 87],\n",
       "       [ 4, 63, 84, 95, 19, 25, 35, 35, 50, 32],\n",
       "       [31,  9, 18, 89, 66, 64, 70, 94, 75, 88],\n",
       "       [17, 40, 83, 76, 44, 26, 15, 87, 54, 36],\n",
       "       [20, 43, 33, 18, 47, 76, 23, 57, 94, 96],\n",
       "       [98, 24, 81, 30, 53, 57, 44, 29, 25, 28],\n",
       "       [48, 95, 32, 37, 44, 27, 17, 85,  0, 69],\n",
       "       [47,  7, 52, 55, 90, 52, 10, 79, 43, 20],\n",
       "       [44, 99, 22, 72, 11, 27, 82, 88, 58, 74],\n",
       "       [97, 58, 30, 68, 16, 39, 50, 63, 20,  8]])"
      ]
     },
     "execution_count": 62,
     "metadata": {},
     "output_type": "execute_result"
    }
   ],
   "source": [
    "arr2 = np.random.randint(0,100,(10,10))\n",
    "arr2"
   ]
  },
  {
   "cell_type": "code",
   "execution_count": 147,
   "id": "1ae8c046",
   "metadata": {},
   "outputs": [
    {
     "data": {
      "text/plain": [
       "99"
      ]
     },
     "execution_count": 147,
     "metadata": {},
     "output_type": "execute_result"
    }
   ],
   "source": [
    "# max\n",
    "np.max(arr2)"
   ]
  },
  {
   "cell_type": "code",
   "execution_count": 148,
   "id": "10a94ada",
   "metadata": {},
   "outputs": [
    {
     "data": {
      "text/plain": [
       "0"
      ]
     },
     "execution_count": 148,
     "metadata": {},
     "output_type": "execute_result"
    }
   ],
   "source": [
    "# min\n",
    "np.min(arr2)"
   ]
  },
  {
   "cell_type": "code",
   "execution_count": 149,
   "id": "6ea73191",
   "metadata": {},
   "outputs": [
    {
     "data": {
      "text/plain": [
       "4926"
      ]
     },
     "execution_count": 149,
     "metadata": {},
     "output_type": "execute_result"
    }
   ],
   "source": [
    "# sum\n",
    "np.sum(arr2)"
   ]
  },
  {
   "cell_type": "code",
   "execution_count": 150,
   "id": "6f378087",
   "metadata": {},
   "outputs": [
    {
     "data": {
      "text/plain": [
       "array([13, 19, 10, 15, 13, 17, 14, 16, 16, 11])"
      ]
     },
     "execution_count": 150,
     "metadata": {},
     "output_type": "execute_result"
    }
   ],
   "source": [
    "arr1"
   ]
  },
  {
   "cell_type": "code",
   "execution_count": 151,
   "id": "a91e6449",
   "metadata": {},
   "outputs": [],
   "source": [
    "arr3 = [1,2,3]"
   ]
  },
  {
   "cell_type": "code",
   "execution_count": 152,
   "id": "cb1ad0d0",
   "metadata": {},
   "outputs": [
    {
     "data": {
      "text/plain": [
       "6"
      ]
     },
     "execution_count": 152,
     "metadata": {},
     "output_type": "execute_result"
    }
   ],
   "source": [
    "np.prod(arr3)"
   ]
  },
  {
   "cell_type": "markdown",
   "id": "09f2cb8d",
   "metadata": {},
   "source": [
    "*0 = column, 1 = row* "
   ]
  },
  {
   "cell_type": "code",
   "execution_count": 153,
   "id": "65870917",
   "metadata": {},
   "outputs": [
    {
     "data": {
      "text/plain": [
       "array([[34, 70, 40,  0, 79, 31, 21, 51, 78, 87],\n",
       "       [ 4, 63, 84, 95, 19, 25, 35, 35, 50, 32],\n",
       "       [31,  9, 18, 89, 66, 64, 70, 94, 75, 88],\n",
       "       [17, 40, 83, 76, 44, 26, 15, 87, 54, 36],\n",
       "       [20, 43, 33, 18, 47, 76, 23, 57, 94, 96],\n",
       "       [98, 24, 81, 30, 53, 57, 44, 29, 25, 28],\n",
       "       [48, 95, 32, 37, 44, 27, 17, 85,  0, 69],\n",
       "       [47,  7, 52, 55, 90, 52, 10, 79, 43, 20],\n",
       "       [44, 99, 22, 72, 11, 27, 82, 88, 58, 74],\n",
       "       [97, 58, 30, 68, 16, 39, 50, 63, 20,  8]])"
      ]
     },
     "execution_count": 153,
     "metadata": {},
     "output_type": "execute_result"
    }
   ],
   "source": [
    "arr2"
   ]
  },
  {
   "cell_type": "code",
   "execution_count": 154,
   "id": "44bd8051",
   "metadata": {},
   "outputs": [
    {
     "data": {
      "text/plain": [
       "array([87, 95, 94, 87, 96, 98, 95, 90, 99, 97])"
      ]
     },
     "execution_count": 154,
     "metadata": {},
     "output_type": "execute_result"
    }
   ],
   "source": [
    "np.max(arr2, axis = 1)   # to get max of every row"
   ]
  },
  {
   "cell_type": "code",
   "execution_count": 155,
   "id": "9f50999a",
   "metadata": {},
   "outputs": [
    {
     "data": {
      "text/plain": [
       "array([98, 99, 84, 95, 90, 76, 82, 94, 94, 96])"
      ]
     },
     "execution_count": 155,
     "metadata": {},
     "output_type": "execute_result"
    }
   ],
   "source": [
    "np.max(arr2, axis = 0)    # to get max of every column"
   ]
  },
  {
   "cell_type": "code",
   "execution_count": 156,
   "id": "24633024",
   "metadata": {},
   "outputs": [
    {
     "data": {
      "text/plain": [
       "array([-2044178432,  1258211072, -1956020224,           0,   377545728,\n",
       "         603805696,  -962931520,   -74390736,           0, -1568669696])"
      ]
     },
     "execution_count": 156,
     "metadata": {},
     "output_type": "execute_result"
    }
   ],
   "source": [
    "np.prod(arr2, axis = 0)     # to get product of every column"
   ]
  },
  {
   "cell_type": "markdown",
   "id": "5b58f609",
   "metadata": {},
   "source": [
    "### Statistical Functions"
   ]
  },
  {
   "cell_type": "code",
   "execution_count": 166,
   "id": "691953ea",
   "metadata": {
    "scrolled": true
   },
   "outputs": [
    {
     "data": {
      "text/plain": [
       "array([[ 1,  2,  3,  4,  5],\n",
       "       [ 6,  7,  8,  9, 10]])"
      ]
     },
     "execution_count": 166,
     "metadata": {},
     "output_type": "execute_result"
    }
   ],
   "source": [
    "arr5 = np.arange(1,11).reshape(2,5)\n",
    "arr5"
   ]
  },
  {
   "cell_type": "code",
   "execution_count": 167,
   "id": "742b82d4",
   "metadata": {},
   "outputs": [
    {
     "data": {
      "text/plain": [
       "5.5"
      ]
     },
     "execution_count": 167,
     "metadata": {},
     "output_type": "execute_result"
    }
   ],
   "source": [
    "np.mean(arr5)    # mean"
   ]
  },
  {
   "cell_type": "code",
   "execution_count": 164,
   "id": "939d15c1",
   "metadata": {},
   "outputs": [
    {
     "data": {
      "text/plain": [
       "5.5"
      ]
     },
     "execution_count": 164,
     "metadata": {},
     "output_type": "execute_result"
    }
   ],
   "source": [
    "np.median(arr5)    # median"
   ]
  },
  {
   "cell_type": "code",
   "execution_count": 168,
   "id": "31f7ae8d",
   "metadata": {},
   "outputs": [
    {
     "ename": "AttributeError",
     "evalue": "module 'numpy' has no attribute 'mode'",
     "output_type": "error",
     "traceback": [
      "\u001b[1;31m---------------------------------------------------------------------------\u001b[0m",
      "\u001b[1;31mAttributeError\u001b[0m                            Traceback (most recent call last)",
      "Input \u001b[1;32mIn [168]\u001b[0m, in \u001b[0;36m<cell line: 1>\u001b[1;34m()\u001b[0m\n\u001b[1;32m----> 1\u001b[0m \u001b[43mnp\u001b[49m\u001b[38;5;241;43m.\u001b[39;49m\u001b[43mmode\u001b[49m(arr5)\n",
      "File \u001b[1;32m~\\anaconda3\\lib\\site-packages\\numpy\\__init__.py:313\u001b[0m, in \u001b[0;36m__getattr__\u001b[1;34m(attr)\u001b[0m\n\u001b[0;32m    310\u001b[0m     \u001b[38;5;28;01mfrom\u001b[39;00m \u001b[38;5;21;01m.\u001b[39;00m\u001b[38;5;21;01mtesting\u001b[39;00m \u001b[38;5;28;01mimport\u001b[39;00m Tester\n\u001b[0;32m    311\u001b[0m     \u001b[38;5;28;01mreturn\u001b[39;00m Tester\n\u001b[1;32m--> 313\u001b[0m \u001b[38;5;28;01mraise\u001b[39;00m \u001b[38;5;167;01mAttributeError\u001b[39;00m(\u001b[38;5;124m\"\u001b[39m\u001b[38;5;124mmodule \u001b[39m\u001b[38;5;132;01m{!r}\u001b[39;00m\u001b[38;5;124m has no attribute \u001b[39m\u001b[38;5;124m\"\u001b[39m\n\u001b[0;32m    314\u001b[0m                      \u001b[38;5;124m\"\u001b[39m\u001b[38;5;132;01m{!r}\u001b[39;00m\u001b[38;5;124m\"\u001b[39m\u001b[38;5;241m.\u001b[39mformat(\u001b[38;5;18m__name__\u001b[39m, attr))\n",
      "\u001b[1;31mAttributeError\u001b[0m: module 'numpy' has no attribute 'mode'"
     ]
    }
   ],
   "source": [
    "np.mode(arr5)    # mode\n",
    "\n",
    "# Note the error"
   ]
  },
  {
   "cell_type": "code",
   "execution_count": 169,
   "id": "39086b1a",
   "metadata": {},
   "outputs": [
    {
     "data": {
      "text/plain": [
       "2.8722813232690143"
      ]
     },
     "execution_count": 169,
     "metadata": {},
     "output_type": "execute_result"
    }
   ],
   "source": [
    "np.std(arr5)    # Standard Deviation"
   ]
  },
  {
   "cell_type": "code",
   "execution_count": 170,
   "id": "511ea5dd",
   "metadata": {},
   "outputs": [
    {
     "data": {
      "text/plain": [
       "array([2.5, 2.5, 2.5, 2.5, 2.5])"
      ]
     },
     "execution_count": 170,
     "metadata": {},
     "output_type": "execute_result"
    }
   ],
   "source": [
    "np.std(arr5, axis = 0) "
   ]
  },
  {
   "cell_type": "code",
   "execution_count": 171,
   "id": "ad785079",
   "metadata": {},
   "outputs": [
    {
     "data": {
      "text/plain": [
       "8.25"
      ]
     },
     "execution_count": 171,
     "metadata": {},
     "output_type": "execute_result"
    }
   ],
   "source": [
    "np.var(arr5)    # Variance"
   ]
  },
  {
   "cell_type": "markdown",
   "id": "e2b52560",
   "metadata": {},
   "source": [
    "### Summary\n",
    "- import math\n",
    "- import math as m (aliasing)\n",
    "- math has 30 functions in total\n",
    "- math.sqrt()\n",
    "- math.floor()\n",
    "- math.ceil()\n",
    "- math.pow(a,b)\n",
    "- math.pi\n",
    "- math.e\n",
    "- importing module, importing 1 to all functions\n",
    "- 35 keywords in python. Keyword - import\n",
    "- install vscode and pycharm\n",
    "- input(), taking user input, typecasting to int, getting a single character\n",
    "- input() with number, string with index\n",
    "- eval(input()) - for evaluating user entered expressions\n",
    "- \\*  shows when kernel is still running\n",
    "- executing a program using python filename from the command prompt\n",
    "- streamlit - to create an app"
   ]
  },
  {
   "cell_type": "markdown",
   "id": "7eab175b",
   "metadata": {},
   "source": [
    "- NumPy has 217 in-built functions\n",
    "- Printing a specific row, a specific column, subset of the matrix\n",
    "- Try streamlit\n",
    "- Masking"
   ]
  }
 ],
 "metadata": {
  "kernelspec": {
   "display_name": "Python 3 (ipykernel)",
   "language": "python",
   "name": "python3"
  },
  "language_info": {
   "codemirror_mode": {
    "name": "ipython",
    "version": 3
   },
   "file_extension": ".py",
   "mimetype": "text/x-python",
   "name": "python",
   "nbconvert_exporter": "python",
   "pygments_lexer": "ipython3",
   "version": "3.9.12"
  }
 },
 "nbformat": 4,
 "nbformat_minor": 5
}
