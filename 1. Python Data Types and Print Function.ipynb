{
 "cells": [
  {
   "cell_type": "markdown",
   "id": "19d20c22",
   "metadata": {},
   "source": [
    "# DATA SCIENCE AND AI\n",
    "\n",
    "## Data types"
   ]
  },
  {
   "cell_type": "markdown",
   "id": "d6654460",
   "metadata": {},
   "source": [
    "Recap\n",
    "\n",
    "- Syntax of defining python identifiers\n",
    "    python identifier = values\n",
    "- Rules to define identifiers\n",
    "    - The first character must be a character or underscore, it cannot begin with a number\n",
    "    - Special characters (except underscore) are not allowed\n",
    "    - Keywords aren't allowed, Eg: ELSE is not a keyword, so valid identifier. else is a keyword, so invalid identifier. Since python is case sensitive\n",
    "    - There is no length limit\n",
    "\n",
    "        \n",
    "Today's topic\n",
    "- Datatypes"
   ]
  },
  {
   "cell_type": "markdown",
   "id": "bd84a536",
   "metadata": {},
   "source": [
    "Python software installed\n",
    "   - anaconda python -- bigdata and datascience, gen ai\n",
    "   - python ide - vs code, pycharm, jupyter, spyder\n",
    "   - interpreter - executes the code line by line\n",
    "   -  compiler - executes the code at once\n",
    "Python is dynamic programming language; it works based on indentation"
   ]
  },
  {
   "cell_type": "code",
   "execution_count": 12,
   "id": "e958542e",
   "metadata": {},
   "outputs": [
    {
     "data": {
      "text/plain": [
       "'3.9.12 (main, Apr  4 2022, 05:22:27) [MSC v.1916 64 bit (AMD64)]'"
      ]
     },
     "execution_count": 12,
     "metadata": {},
     "output_type": "execute_result"
    }
   ],
   "source": [
    "#Check python version\n",
    "\n",
    "import sys\n",
    "sys.version"
   ]
  },
  {
   "cell_type": "markdown",
   "id": "9b9563cc",
   "metadata": {},
   "source": [
    "**Python data structures**\n",
    "1. Primitive\n",
    "2. Non-Primitive:\n",
    "      - Built-in\n",
    "      - User-defined"
   ]
  },
  {
   "cell_type": "markdown",
   "id": "940e4d2f",
   "metadata": {},
   "source": [
    "Datatypes\n",
    "\n",
    "1. int\n",
    "2. float\n",
    "3. string\n",
    "4. bool\n",
    "5. complex - java doesn't have complex data types"
   ]
  },
  {
   "cell_type": "markdown",
   "id": "d4bf1d34",
   "metadata": {},
   "source": [
    "**1. int data types - values without decimal**"
   ]
  },
  {
   "cell_type": "code",
   "execution_count": 13,
   "id": "2fad9489",
   "metadata": {},
   "outputs": [
    {
     "data": {
      "text/plain": [
       "3"
      ]
     },
     "execution_count": 13,
     "metadata": {},
     "output_type": "execute_result"
    }
   ],
   "source": [
    "i = 3 # only single values are allowed\n",
    "i"
   ]
  },
  {
   "cell_type": "code",
   "execution_count": 2,
   "id": "c5b84717",
   "metadata": {},
   "outputs": [
    {
     "data": {
      "text/plain": [
       "int"
      ]
     },
     "execution_count": 2,
     "metadata": {},
     "output_type": "execute_result"
    }
   ],
   "source": [
    "type(i)"
   ]
  },
  {
   "cell_type": "code",
   "execution_count": 3,
   "id": "547dac75",
   "metadata": {},
   "outputs": [],
   "source": [
    "i2 = 3,4,5"
   ]
  },
  {
   "cell_type": "code",
   "execution_count": 4,
   "id": "2e77f885",
   "metadata": {},
   "outputs": [
    {
     "data": {
      "text/plain": [
       "tuple"
      ]
     },
     "execution_count": 4,
     "metadata": {},
     "output_type": "execute_result"
    }
   ],
   "source": [
    "type(i2)"
   ]
  },
  {
   "cell_type": "markdown",
   "id": "fcac286c",
   "metadata": {},
   "source": [
    "**2. float - contains decimals\n",
    "   exponential - e1 is 10**"
   ]
  },
  {
   "cell_type": "code",
   "execution_count": 5,
   "id": "8101ec42",
   "metadata": {},
   "outputs": [
    {
     "data": {
      "text/plain": [
       "110.45"
      ]
     },
     "execution_count": 5,
     "metadata": {},
     "output_type": "execute_result"
    }
   ],
   "source": [
    "petrol = 110.45\n",
    "petrol"
   ]
  },
  {
   "cell_type": "code",
   "execution_count": 6,
   "id": "307f0466",
   "metadata": {},
   "outputs": [],
   "source": [
    "f2 = 2e0"
   ]
  },
  {
   "cell_type": "code",
   "execution_count": 7,
   "id": "549e56bf",
   "metadata": {},
   "outputs": [
    {
     "data": {
      "text/plain": [
       "2.0"
      ]
     },
     "execution_count": 7,
     "metadata": {},
     "output_type": "execute_result"
    }
   ],
   "source": [
    "f2"
   ]
  },
  {
   "cell_type": "code",
   "execution_count": 8,
   "id": "e1cc986e",
   "metadata": {},
   "outputs": [],
   "source": [
    "f3 = 2e1\n",
    "f3"
   ]
  },
  {
   "cell_type": "code",
   "execution_count": 10,
   "id": "649b917b",
   "metadata": {},
   "outputs": [
    {
     "data": {
      "text/plain": [
       "300.0"
      ]
     },
     "execution_count": 10,
     "metadata": {},
     "output_type": "execute_result"
    }
   ],
   "source": [
    "f4 = 3e2 #e2 is equivalent to 10^2 (i.e 100)\n",
    "f4"
   ]
  },
  {
   "cell_type": "code",
   "execution_count": 11,
   "id": "f5083cdc",
   "metadata": {},
   "outputs": [
    {
     "data": {
      "text/plain": [
       "3000.0"
      ]
     },
     "execution_count": 11,
     "metadata": {},
     "output_type": "execute_result"
    }
   ],
   "source": [
    "f5 = 3e3\n",
    "f5"
   ]
  },
  {
   "cell_type": "code",
   "execution_count": 12,
   "id": "4a7bab1a",
   "metadata": {},
   "outputs": [
    {
     "data": {
      "text/plain": [
       "2400.0"
      ]
     },
     "execution_count": 12,
     "metadata": {},
     "output_type": "execute_result"
    }
   ],
   "source": [
    "f6 = 2.4e3\n",
    "f6"
   ]
  },
  {
   "cell_type": "markdown",
   "id": "5d73fa31",
   "metadata": {},
   "source": [
    "Inbuilt functions covered - print, type, id\n",
    "Two types of functions - inbuilt vs user-defined"
   ]
  },
  {
   "cell_type": "markdown",
   "id": "92a471ab",
   "metadata": {},
   "source": [
    "In statistics\n",
    "Numeric data  - Numbers\n",
    "Categorical data - Text"
   ]
  },
  {
   "cell_type": "markdown",
   "id": "ee9cff61",
   "metadata": {},
   "source": [
    "**3. String**\n",
    "3 ways of defining a string:\n",
    "    '', \"\", ''' '''"
   ]
  },
  {
   "cell_type": "code",
   "execution_count": 18,
   "id": "0cdd2015",
   "metadata": {},
   "outputs": [
    {
     "data": {
      "text/plain": [
       "'nit'"
      ]
     },
     "execution_count": 18,
     "metadata": {},
     "output_type": "execute_result"
    }
   ],
   "source": [
    "s = 'nit'\n",
    "s"
   ]
  },
  {
   "cell_type": "code",
   "execution_count": 19,
   "id": "bda80399",
   "metadata": {},
   "outputs": [
    {
     "data": {
      "text/plain": [
       "'nit tech'"
      ]
     },
     "execution_count": 19,
     "metadata": {},
     "output_type": "execute_result"
    }
   ],
   "source": [
    "s1 = \"nit tech\"\n",
    "s1"
   ]
  },
  {
   "cell_type": "code",
   "execution_count": 20,
   "id": "a2fab42a",
   "metadata": {},
   "outputs": [
    {
     "data": {
      "text/plain": [
       "'nit tech'"
      ]
     },
     "execution_count": 20,
     "metadata": {},
     "output_type": "execute_result"
    }
   ],
   "source": [
    "s2 = '''nit tech'''\n",
    "s2"
   ]
  },
  {
   "cell_type": "markdown",
   "id": "f2b86af7",
   "metadata": {},
   "source": [
    "Difference between single, double and triple quotes"
   ]
  },
  {
   "cell_type": "code",
   "execution_count": 21,
   "id": "69362af0",
   "metadata": {},
   "outputs": [
    {
     "ename": "SyntaxError",
     "evalue": "EOL while scanning string literal (2247911082.py, line 1)",
     "output_type": "error",
     "traceback": [
      "\u001b[1;36m  Input \u001b[1;32mIn [21]\u001b[1;36m\u001b[0m\n\u001b[1;33m    s3 = 'nit\u001b[0m\n\u001b[1;37m             ^\u001b[0m\n\u001b[1;31mSyntaxError\u001b[0m\u001b[1;31m:\u001b[0m EOL while scanning string literal\n"
     ]
    }
   ],
   "source": [
    "s3 = 'nit\n",
    "        tech'"
   ]
  },
  {
   "cell_type": "code",
   "execution_count": 22,
   "id": "4cfb3015",
   "metadata": {},
   "outputs": [
    {
     "ename": "SyntaxError",
     "evalue": "EOL while scanning string literal (1173316524.py, line 1)",
     "output_type": "error",
     "traceback": [
      "\u001b[1;36m  Input \u001b[1;32mIn [22]\u001b[1;36m\u001b[0m\n\u001b[1;33m    s4 = \"nit\u001b[0m\n\u001b[1;37m              ^\u001b[0m\n\u001b[1;31mSyntaxError\u001b[0m\u001b[1;31m:\u001b[0m EOL while scanning string literal\n"
     ]
    }
   ],
   "source": [
    "s4 = \"nit \n",
    "    tech\""
   ]
  },
  {
   "cell_type": "code",
   "execution_count": 23,
   "id": "cf9b50ae",
   "metadata": {},
   "outputs": [],
   "source": [
    "s5 = '''nit \n",
    "        tech'''"
   ]
  },
  {
   "cell_type": "markdown",
   "id": "ea33720c",
   "metadata": {},
   "source": [
    "**Note**: Triple quotes is used for multiline strings"
   ]
  },
  {
   "cell_type": "markdown",
   "id": "14a6573b",
   "metadata": {},
   "source": [
    "**4. Boolean**"
   ]
  },
  {
   "cell_type": "code",
   "execution_count": 25,
   "id": "e79074c0",
   "metadata": {},
   "outputs": [
    {
     "ename": "NameError",
     "evalue": "name 'true' is not defined",
     "output_type": "error",
     "traceback": [
      "\u001b[1;31m---------------------------------------------------------------------------\u001b[0m",
      "\u001b[1;31mNameError\u001b[0m                                 Traceback (most recent call last)",
      "Input \u001b[1;32mIn [25]\u001b[0m, in \u001b[0;36m<cell line: 1>\u001b[1;34m()\u001b[0m\n\u001b[1;32m----> 1\u001b[0m b \u001b[38;5;241m=\u001b[39m \u001b[43mtrue\u001b[49m\n",
      "\u001b[1;31mNameError\u001b[0m: name 'true' is not defined"
     ]
    }
   ],
   "source": [
    "b = true"
   ]
  },
  {
   "cell_type": "code",
   "execution_count": 26,
   "id": "405efaad",
   "metadata": {},
   "outputs": [],
   "source": [
    "b = True"
   ]
  },
  {
   "cell_type": "code",
   "execution_count": 27,
   "id": "47e2f3cb",
   "metadata": {},
   "outputs": [],
   "source": [
    "b1 = False"
   ]
  },
  {
   "cell_type": "code",
   "execution_count": 28,
   "id": "5c4cb480",
   "metadata": {},
   "outputs": [
    {
     "data": {
      "text/plain": [
       "1"
      ]
     },
     "execution_count": 28,
     "metadata": {},
     "output_type": "execute_result"
    }
   ],
   "source": [
    "b + b1"
   ]
  },
  {
   "cell_type": "code",
   "execution_count": 29,
   "id": "2b30c17f",
   "metadata": {},
   "outputs": [
    {
     "data": {
      "text/plain": [
       "1"
      ]
     },
     "execution_count": 29,
     "metadata": {},
     "output_type": "execute_result"
    }
   ],
   "source": [
    "int(True)"
   ]
  },
  {
   "cell_type": "code",
   "execution_count": 30,
   "id": "eeff18c9",
   "metadata": {},
   "outputs": [
    {
     "data": {
      "text/plain": [
       "1"
      ]
     },
     "execution_count": 30,
     "metadata": {},
     "output_type": "execute_result"
    }
   ],
   "source": [
    "True + False"
   ]
  },
  {
   "cell_type": "code",
   "execution_count": 31,
   "id": "218a0a97",
   "metadata": {},
   "outputs": [
    {
     "data": {
      "text/plain": [
       "1"
      ]
     },
     "execution_count": 31,
     "metadata": {},
     "output_type": "execute_result"
    }
   ],
   "source": [
    "True - False"
   ]
  },
  {
   "cell_type": "code",
   "execution_count": 36,
   "id": "8667d0fa",
   "metadata": {},
   "outputs": [
    {
     "data": {
      "text/plain": [
       "1"
      ]
     },
     "execution_count": 36,
     "metadata": {},
     "output_type": "execute_result"
    }
   ],
   "source": [
    "True * True - False + False * True\n",
    "# Use BODMAS"
   ]
  },
  {
   "cell_type": "code",
   "execution_count": 37,
   "id": "164e3b12",
   "metadata": {},
   "outputs": [
    {
     "data": {
      "text/plain": [
       "0.0"
      ]
     },
     "execution_count": 37,
     "metadata": {},
     "output_type": "execute_result"
    }
   ],
   "source": [
    "False/True"
   ]
  },
  {
   "cell_type": "code",
   "execution_count": 38,
   "id": "a0b23988",
   "metadata": {},
   "outputs": [
    {
     "data": {
      "text/plain": [
       "0"
      ]
     },
     "execution_count": 38,
     "metadata": {},
     "output_type": "execute_result"
    }
   ],
   "source": [
    "False//True"
   ]
  },
  {
   "cell_type": "code",
   "execution_count": 40,
   "id": "e37c9d02",
   "metadata": {},
   "outputs": [
    {
     "ename": "ZeroDivisionError",
     "evalue": "division by zero",
     "output_type": "error",
     "traceback": [
      "\u001b[1;31m---------------------------------------------------------------------------\u001b[0m",
      "\u001b[1;31mZeroDivisionError\u001b[0m                         Traceback (most recent call last)",
      "Input \u001b[1;32mIn [40]\u001b[0m, in \u001b[0;36m<cell line: 1>\u001b[1;34m()\u001b[0m\n\u001b[1;32m----> 1\u001b[0m \u001b[38;5;28;43;01mTrue\u001b[39;49;00m\u001b[38;5;241;43m/\u001b[39;49m\u001b[38;5;28;43;01mFalse\u001b[39;49;00m\n",
      "\u001b[1;31mZeroDivisionError\u001b[0m: division by zero"
     ]
    }
   ],
   "source": [
    "True/False\n",
    "# Interview Question"
   ]
  },
  {
   "cell_type": "markdown",
   "id": "9d050d62",
   "metadata": {},
   "source": [
    "**5. Complex** \n",
    "  a + bj"
   ]
  },
  {
   "cell_type": "code",
   "execution_count": 42,
   "id": "040bc1eb",
   "metadata": {},
   "outputs": [
    {
     "data": {
      "text/plain": [
       "complex"
      ]
     },
     "execution_count": 42,
     "metadata": {},
     "output_type": "execute_result"
    }
   ],
   "source": [
    "c = 1 + 2j \n",
    "type(c)"
   ]
  },
  {
   "cell_type": "code",
   "execution_count": 43,
   "id": "d53ba160",
   "metadata": {},
   "outputs": [
    {
     "data": {
      "text/plain": [
       "1.0"
      ]
     },
     "execution_count": 43,
     "metadata": {},
     "output_type": "execute_result"
    }
   ],
   "source": [
    "c.real"
   ]
  },
  {
   "cell_type": "code",
   "execution_count": 44,
   "id": "ae525e70",
   "metadata": {},
   "outputs": [
    {
     "data": {
      "text/plain": [
       "2.0"
      ]
     },
     "execution_count": 44,
     "metadata": {},
     "output_type": "execute_result"
    }
   ],
   "source": [
    "c.imag"
   ]
  },
  {
   "cell_type": "code",
   "execution_count": 45,
   "id": "aa9dc360",
   "metadata": {},
   "outputs": [],
   "source": [
    "d = 2 + 3j"
   ]
  },
  {
   "cell_type": "markdown",
   "id": "03a387b6",
   "metadata": {},
   "source": [
    "# Print function"
   ]
  },
  {
   "cell_type": "code",
   "execution_count": 46,
   "id": "35509e70",
   "metadata": {},
   "outputs": [
    {
     "name": "stdout",
     "output_type": "stream",
     "text": [
      "(1+2j)\n",
      "(2+3j)\n"
     ]
    }
   ],
   "source": [
    "print(c)\n",
    "print(d)"
   ]
  },
  {
   "cell_type": "code",
   "execution_count": 47,
   "id": "d4f57a8f",
   "metadata": {},
   "outputs": [
    {
     "data": {
      "text/plain": [
       "(3+5j)"
      ]
     },
     "execution_count": 47,
     "metadata": {},
     "output_type": "execute_result"
    }
   ],
   "source": [
    "c+d"
   ]
  },
  {
   "cell_type": "markdown",
   "id": "c9de2030",
   "metadata": {},
   "source": [
    "- fam - variable\n",
    "- family() - function\n",
    "- family(m,d) - 2 arguments or 2 parameters\n",
    "- add(x,y) - function with two arguments\n",
    "- mul(a,b,c) - function with three arguments"
   ]
  },
  {
   "cell_type": "code",
   "execution_count": 1,
   "id": "d1f3c6ee",
   "metadata": {},
   "outputs": [
    {
     "name": "stdout",
     "output_type": "stream",
     "text": [
      "1\n",
      "1 2\n",
      "1 2 3\n"
     ]
    }
   ],
   "source": [
    "print(1)\n",
    "print(1,2)\n",
    "print(1,2,3)"
   ]
  },
  {
   "cell_type": "code",
   "execution_count": 13,
   "id": "70a02d1a",
   "metadata": {},
   "outputs": [
    {
     "name": "stdout",
     "output_type": "stream",
     "text": [
      "The addition of 20 and 30 is= 50\n"
     ]
    }
   ],
   "source": [
    "num1 = 20\n",
    "num2 = 30\n",
    "add = num1 + num2\n",
    "print('The addition of',num1, 'and', num2, 'is=',add )"
   ]
  },
  {
   "cell_type": "markdown",
   "id": "1df36b43",
   "metadata": {},
   "source": [
    "**Format method**"
   ]
  },
  {
   "cell_type": "code",
   "execution_count": 16,
   "id": "ac70f9a7",
   "metadata": {},
   "outputs": [
    {
     "name": "stdout",
     "output_type": "stream",
     "text": [
      "The addition of 20 and 30 = 50\n"
     ]
    }
   ],
   "source": [
    "num1 = 20\n",
    "num2 = 30\n",
    "add = num1 + num2\n",
    "print('The addition of {} and {} = {}'.format(num1,num2,add))"
   ]
  },
  {
   "cell_type": "code",
   "execution_count": 17,
   "id": "4ea08f76",
   "metadata": {},
   "outputs": [
    {
     "name": "stdout",
     "output_type": "stream",
     "text": [
      "Hello, my name is Srujana, I am from Hyderabad\n"
     ]
    }
   ],
   "source": [
    "print('Hello, my name is {}, I am from {}'.format('Srujana','Hyderabad'))"
   ]
  },
  {
   "cell_type": "code",
   "execution_count": 19,
   "id": "d9fb95b6",
   "metadata": {},
   "outputs": [
    {
     "data": {
      "text/plain": [
       "58.333333333333336"
      ]
     },
     "execution_count": 19,
     "metadata": {},
     "output_type": "execute_result"
    }
   ],
   "source": [
    "num1 = 100\n",
    "num2 = 50\n",
    "num3 = 25\n",
    "avg = (num1 + num2 + num3)/3\n",
    "avg"
   ]
  },
  {
   "cell_type": "code",
   "execution_count": 20,
   "id": "9aee6b9d",
   "metadata": {},
   "outputs": [
    {
     "data": {
      "text/plain": [
       "58.33"
      ]
     },
     "execution_count": 20,
     "metadata": {},
     "output_type": "execute_result"
    }
   ],
   "source": [
    "avg1 = round((num1 + num2 + num3)/3,2)\n",
    "avg1"
   ]
  },
  {
   "cell_type": "code",
   "execution_count": 23,
   "id": "eb8a65a0",
   "metadata": {},
   "outputs": [
    {
     "name": "stdout",
     "output_type": "stream",
     "text": [
      "The average of 100, 50 and 25 is 58.33\n"
     ]
    }
   ],
   "source": [
    "print('The average of {}, {} and {} is {}'.format(num1,num2,num3,avg1))"
   ]
  },
  {
   "cell_type": "markdown",
   "id": "2dea6d47",
   "metadata": {},
   "source": [
    "**f string method**"
   ]
  },
  {
   "cell_type": "code",
   "execution_count": 25,
   "id": "95ed8c33",
   "metadata": {},
   "outputs": [
    {
     "name": "stdout",
     "output_type": "stream",
     "text": [
      "The addition of 50 and 60 is 110\n"
     ]
    }
   ],
   "source": [
    "num4 = 50\n",
    "num5 = 60\n",
    "add1 = num4 + num5\n",
    "print(f'The addition of {num4} and {num5} is {add1}')"
   ]
  },
  {
   "cell_type": "markdown",
   "id": "ef6bf2de",
   "metadata": {},
   "source": [
    "**end statement**"
   ]
  },
  {
   "cell_type": "code",
   "execution_count": 26,
   "id": "da03475c",
   "metadata": {},
   "outputs": [
    {
     "name": "stdout",
     "output_type": "stream",
     "text": [
      "hello\n",
      "good morning\n"
     ]
    }
   ],
   "source": [
    "print('hello')\n",
    "print('good morning')"
   ]
  },
  {
   "cell_type": "code",
   "execution_count": 28,
   "id": "3fb9d99a",
   "metadata": {},
   "outputs": [
    {
     "name": "stdout",
     "output_type": "stream",
     "text": [
      "Hi Srujana, Good Morning\n"
     ]
    }
   ],
   "source": [
    "print('Hi',end=' ')\n",
    "print('Srujana, Good Morning')"
   ]
  },
  {
   "cell_type": "markdown",
   "id": "49f88ae9",
   "metadata": {},
   "source": [
    "**separator**"
   ]
  },
  {
   "cell_type": "code",
   "execution_count": 30,
   "id": "a3027ad2",
   "metadata": {},
   "outputs": [
    {
     "name": "stdout",
     "output_type": "stream",
     "text": [
      "Hi!Hello!Long time\n"
     ]
    }
   ],
   "source": [
    "print('Hi','Hello','Long time',sep='!')"
   ]
  },
  {
   "cell_type": "code",
   "execution_count": 31,
   "id": "109174f3",
   "metadata": {},
   "outputs": [
    {
     "name": "stdout",
     "output_type": "stream",
     "text": [
      "Hi Hello Long time\n"
     ]
    }
   ],
   "source": [
    "print('Hi','Hello','Long time',sep=' ')"
   ]
  },
  {
   "cell_type": "code",
   "execution_count": 32,
   "id": "f4cae389",
   "metadata": {},
   "outputs": [
    {
     "name": "stdout",
     "output_type": "stream",
     "text": [
      "4 .\n"
     ]
    }
   ],
   "source": [
    "print(4,'.')"
   ]
  },
  {
   "cell_type": "code",
   "execution_count": 33,
   "id": "3b67ea63",
   "metadata": {},
   "outputs": [
    {
     "name": "stdout",
     "output_type": "stream",
     "text": [
      "4.\n"
     ]
    }
   ],
   "source": [
    "print(4,'.',sep='')\n",
    "#also used to reduce space"
   ]
  },
  {
   "cell_type": "code",
   "execution_count": 35,
   "id": "dd7cee2e",
   "metadata": {},
   "outputs": [
    {
     "data": {
      "text/plain": [
       "float"
      ]
     },
     "execution_count": 35,
     "metadata": {},
     "output_type": "execute_result"
    }
   ],
   "source": [
    "# Interesting info\n",
    "\n",
    "#1. What is the datatype of np.nan?\n",
    "import numpy as np\n",
    "type(np.nan)"
   ]
  },
  {
   "cell_type": "code",
   "execution_count": 39,
   "id": "88da1091",
   "metadata": {},
   "outputs": [
    {
     "data": {
      "text/plain": [
       "tuple"
      ]
     },
     "execution_count": 39,
     "metadata": {},
     "output_type": "execute_result"
    }
   ],
   "source": [
    "x = 7,\n",
    "type(x)"
   ]
  }
 ],
 "metadata": {
  "kernelspec": {
   "display_name": "Python 3 (ipykernel)",
   "language": "python",
   "name": "python3"
  },
  "language_info": {
   "codemirror_mode": {
    "name": "ipython",
    "version": 3
   },
   "file_extension": ".py",
   "mimetype": "text/x-python",
   "name": "python",
   "nbconvert_exporter": "python",
   "pygments_lexer": "ipython3",
   "version": "3.9.12"
  }
 },
 "nbformat": 4,
 "nbformat_minor": 5
}
