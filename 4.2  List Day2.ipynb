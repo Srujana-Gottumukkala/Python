{
 "cells": [
  {
   "cell_type": "markdown",
   "id": "2e7d2852",
   "metadata": {},
   "source": [
    "# List - contd."
   ]
  },
  {
   "cell_type": "code",
   "execution_count": 5,
   "id": "9e91f4ac",
   "metadata": {},
   "outputs": [
    {
     "data": {
      "text/plain": [
       "[1, (2+3j), 'Srujana', True, 2, 4]"
      ]
     },
     "execution_count": 5,
     "metadata": {},
     "output_type": "execute_result"
    }
   ],
   "source": [
    "l = [1,2+3j,'Srujana',True,2,4]\n",
    "l"
   ]
  },
  {
   "cell_type": "code",
   "execution_count": 5,
   "id": "b04db918",
   "metadata": {},
   "outputs": [
    {
     "data": {
      "text/plain": [
       "[2, (2+3j), 'Srujana', True, 2, 4]"
      ]
     },
     "execution_count": 5,
     "metadata": {},
     "output_type": "execute_result"
    }
   ],
   "source": [
    "#list is mutable or hashable\n",
    "l[0] = 2\n",
    "l"
   ]
  },
  {
   "cell_type": "code",
   "execution_count": 6,
   "id": "c48d8f58",
   "metadata": {},
   "outputs": [
    {
     "data": {
      "text/plain": [
       "[2, 'Srujana', 2]"
      ]
     },
     "execution_count": 6,
     "metadata": {},
     "output_type": "execute_result"
    }
   ],
   "source": [
    "l[0:100:2]\n",
    "#we don't get any error as index out of bounds"
   ]
  },
  {
   "cell_type": "code",
   "execution_count": null,
   "id": "07281cd3",
   "metadata": {},
   "outputs": [],
   "source": [
    "# compile time error - syntax error\n",
    "# runtime error - system understand at runtime, eg: division by 0"
   ]
  },
  {
   "cell_type": "code",
   "execution_count": 10,
   "id": "1fcf7e04",
   "metadata": {},
   "outputs": [
    {
     "data": {
      "text/plain": [
       "[2, (2+3j), 'Srujana', True, 2, 4]"
      ]
     },
     "execution_count": 10,
     "metadata": {},
     "output_type": "execute_result"
    }
   ],
   "source": [
    "l1 = []\n",
    "l1.extend(l)\n",
    "l1"
   ]
  },
  {
   "cell_type": "code",
   "execution_count": 12,
   "id": "fa132a75",
   "metadata": {},
   "outputs": [
    {
     "data": {
      "text/plain": [
       "[5, 6, 7, 8, 9, 10, 2, (2+3j), 'Srujana', True, 2, 4]"
      ]
     },
     "execution_count": 12,
     "metadata": {},
     "output_type": "execute_result"
    }
   ],
   "source": [
    "l2 = [5,6,7,8,9,10]\n",
    "l2.extend(l1)\n",
    "l2"
   ]
  },
  {
   "cell_type": "code",
   "execution_count": 13,
   "id": "71d6c3b5",
   "metadata": {},
   "outputs": [
    {
     "data": {
      "text/plain": [
       "6"
      ]
     },
     "execution_count": 13,
     "metadata": {},
     "output_type": "execute_result"
    }
   ],
   "source": [
    "l2.index(2)"
   ]
  },
  {
   "cell_type": "code",
   "execution_count": 31,
   "id": "e2b54160",
   "metadata": {},
   "outputs": [
    {
     "data": {
      "text/plain": [
       "[5, 6, 7, 8, 9, 10, 2, (2+3j), 'Srujana', True, 2, 20, 4]"
      ]
     },
     "execution_count": 31,
     "metadata": {},
     "output_type": "execute_result"
    }
   ],
   "source": [
    "l2.reverse()\n",
    "l2"
   ]
  },
  {
   "cell_type": "code",
   "execution_count": 25,
   "id": "d14a7bad",
   "metadata": {},
   "outputs": [
    {
     "data": {
      "text/plain": [
       "(2+3j)"
      ]
     },
     "execution_count": 25,
     "metadata": {},
     "output_type": "execute_result"
    }
   ],
   "source": [
    "l2[4]"
   ]
  },
  {
   "cell_type": "code",
   "execution_count": 29,
   "id": "cfafd083",
   "metadata": {},
   "outputs": [],
   "source": [
    "l2.insert(1,20)"
   ]
  },
  {
   "cell_type": "code",
   "execution_count": 30,
   "id": "6759b81a",
   "metadata": {},
   "outputs": [
    {
     "data": {
      "text/plain": [
       "[4, 20, 2, True, 'Srujana', (2+3j), 2, 10, 9, 8, 7, 6, 5]"
      ]
     },
     "execution_count": 30,
     "metadata": {},
     "output_type": "execute_result"
    }
   ],
   "source": [
    "l2"
   ]
  },
  {
   "cell_type": "code",
   "execution_count": 34,
   "id": "db32255d",
   "metadata": {},
   "outputs": [
    {
     "data": {
      "text/plain": [
       "[3, 4, 70, 100]"
      ]
     },
     "execution_count": 34,
     "metadata": {},
     "output_type": "execute_result"
    }
   ],
   "source": [
    "l3_ = [4,70,3,100]\n",
    "l3_.sort()\n",
    "l3_"
   ]
  },
  {
   "cell_type": "code",
   "execution_count": 35,
   "id": "31d57f50",
   "metadata": {},
   "outputs": [
    {
     "ename": "TypeError",
     "evalue": "'<' not supported between instances of 'str' and 'int'",
     "output_type": "error",
     "traceback": [
      "\u001b[1;31m---------------------------------------------------------------------------\u001b[0m",
      "\u001b[1;31mTypeError\u001b[0m                                 Traceback (most recent call last)",
      "Input \u001b[1;32mIn [35]\u001b[0m, in \u001b[0;36m<cell line: 2>\u001b[1;34m()\u001b[0m\n\u001b[0;32m      1\u001b[0m l4 \u001b[38;5;241m=\u001b[39m [\u001b[38;5;241m100\u001b[39m,\u001b[38;5;241m102\u001b[39m,\u001b[38;5;124m'\u001b[39m\u001b[38;5;124mSrujana\u001b[39m\u001b[38;5;124m'\u001b[39m]\n\u001b[1;32m----> 2\u001b[0m \u001b[43ml4\u001b[49m\u001b[38;5;241;43m.\u001b[39;49m\u001b[43msort\u001b[49m\u001b[43m(\u001b[49m\u001b[43m)\u001b[49m\n\u001b[0;32m      3\u001b[0m l4\n",
      "\u001b[1;31mTypeError\u001b[0m: '<' not supported between instances of 'str' and 'int'"
     ]
    }
   ],
   "source": [
    "l4 = [100,102,'Srujana']\n",
    "l4.sort()\n",
    "l4"
   ]
  },
  {
   "cell_type": "code",
   "execution_count": 2,
   "id": "cb6761c2",
   "metadata": {},
   "outputs": [
    {
     "data": {
      "text/plain": [
       "['Hi', 'Nit', 'Srujana']"
      ]
     },
     "execution_count": 2,
     "metadata": {},
     "output_type": "execute_result"
    }
   ],
   "source": [
    "l5 = ['Srujana','Hi','Nit']\n",
    "l5.sort()\n",
    "l5"
   ]
  },
  {
   "cell_type": "code",
   "execution_count": null,
   "id": "49842ab7",
   "metadata": {},
   "outputs": [],
   "source": [
    "# parameter tuning - the default that is present \n",
    "# hyper-parameter tuning - eg, sort() contains three parameters, there is a parameter in sort to reverse; used on gen ai\n",
    "# fine tuning - used in gen ai"
   ]
  },
  {
   "cell_type": "code",
   "execution_count": null,
   "id": "0c68da68",
   "metadata": {},
   "outputs": [],
   "source": [
    "# sort() function - 3 arguments can be passed, chatgpt trained by 1billion arguments, hence called as large language models"
   ]
  },
  {
   "cell_type": "code",
   "execution_count": 4,
   "id": "65342d83",
   "metadata": {
    "scrolled": true
   },
   "outputs": [
    {
     "data": {
      "text/plain": [
       "['Srujana', 'Nit', 'Hi']"
      ]
     },
     "execution_count": 4,
     "metadata": {},
     "output_type": "execute_result"
    }
   ],
   "source": [
    "# Sort in descending order\n",
    "l5.sort(reverse = True)\n",
    "l5\n"
   ]
  },
  {
   "cell_type": "code",
   "execution_count": 12,
   "id": "609be470",
   "metadata": {},
   "outputs": [
    {
     "name": "stdout",
     "output_type": "stream",
     "text": [
      "Srujana\n",
      "Nit\n",
      "Hi\n"
     ]
    }
   ],
   "source": [
    "for i in l5:\n",
    "    print(i)"
   ]
  },
  {
   "cell_type": "code",
   "execution_count": 3,
   "id": "0158b656",
   "metadata": {},
   "outputs": [
    {
     "name": "stdout",
     "output_type": "stream",
     "text": [
      "(0, 'Hi')\n",
      "(1, 'Nit')\n",
      "(2, 'Srujana')\n"
     ]
    }
   ],
   "source": [
    "for i in enumerate(l5):\n",
    "    print(i)"
   ]
  },
  {
   "cell_type": "code",
   "execution_count": null,
   "id": "b2ca87d0",
   "metadata": {},
   "outputs": [],
   "source": [
    "#Enumerate real time used in vehicle tracking"
   ]
  },
  {
   "cell_type": "markdown",
   "id": "6d7b54a8",
   "metadata": {},
   "source": [
    "**Join Lists**"
   ]
  },
  {
   "cell_type": "code",
   "execution_count": 6,
   "id": "b1c78c9f",
   "metadata": {},
   "outputs": [],
   "source": [
    "l1 = [2,3,4,5,6,7]\n",
    "l2 = [8,9,10]"
   ]
  },
  {
   "cell_type": "code",
   "execution_count": 7,
   "id": "f9b8bf89",
   "metadata": {},
   "outputs": [
    {
     "data": {
      "text/plain": [
       "[2, 3, 4, 5, 6, 7, 8, 9, 10]"
      ]
     },
     "execution_count": 7,
     "metadata": {},
     "output_type": "execute_result"
    }
   ],
   "source": [
    "l1 + l2"
   ]
  },
  {
   "cell_type": "markdown",
   "id": "2e5fb39a",
   "metadata": {},
   "source": [
    "**List Membership**"
   ]
  },
  {
   "cell_type": "code",
   "execution_count": 8,
   "id": "a6068732",
   "metadata": {},
   "outputs": [
    {
     "data": {
      "text/plain": [
       "False"
      ]
     },
     "execution_count": 8,
     "metadata": {},
     "output_type": "execute_result"
    }
   ],
   "source": [
    "1 in l1"
   ]
  },
  {
   "cell_type": "code",
   "execution_count": 9,
   "id": "e5f120ce",
   "metadata": {},
   "outputs": [
    {
     "data": {
      "text/plain": [
       "True"
      ]
     },
     "execution_count": 9,
     "metadata": {},
     "output_type": "execute_result"
    }
   ],
   "source": [
    "7 in l1"
   ]
  },
  {
   "cell_type": "code",
   "execution_count": 11,
   "id": "21bc7ff1",
   "metadata": {},
   "outputs": [
    {
     "name": "stdout",
     "output_type": "stream",
     "text": [
      "2 exists in l1\n"
     ]
    }
   ],
   "source": [
    "if 2 in l1:\n",
    "    print('2 exists in l1')\n",
    "else:\n",
    "    print('2 does not exist in list l1')"
   ]
  },
  {
   "cell_type": "markdown",
   "id": "ac9b717c",
   "metadata": {},
   "source": [
    "**All/Any**"
   ]
  },
  {
   "cell_type": "code",
   "execution_count": 13,
   "id": "a62fbc6f",
   "metadata": {},
   "outputs": [
    {
     "data": {
      "text/plain": [
       "False"
      ]
     },
     "execution_count": 13,
     "metadata": {},
     "output_type": "execute_result"
    }
   ],
   "source": [
    "L1 = [0,1,2,3,4,5]\n",
    "all(L1)"
   ]
  },
  {
   "cell_type": "code",
   "execution_count": 14,
   "id": "1c9fb157",
   "metadata": {},
   "outputs": [
    {
     "data": {
      "text/plain": [
       "True"
      ]
     },
     "execution_count": 14,
     "metadata": {},
     "output_type": "execute_result"
    }
   ],
   "source": [
    "any(L1)"
   ]
  },
  {
   "cell_type": "code",
   "execution_count": 17,
   "id": "e240d6b2",
   "metadata": {},
   "outputs": [
    {
     "data": {
      "text/plain": [
       "False"
      ]
     },
     "execution_count": 17,
     "metadata": {},
     "output_type": "execute_result"
    }
   ],
   "source": [
    "L1 = [0,0,0,0]\n",
    "L1\n",
    "any(L1)"
   ]
  },
  {
   "cell_type": "code",
   "execution_count": null,
   "id": "a882d4a8",
   "metadata": {},
   "outputs": [],
   "source": [
    "# other info\n",
    "# meta llama\n",
    "# lora\n",
    "# rlora"
   ]
  },
  {
   "cell_type": "markdown",
   "id": "548439fd",
   "metadata": {},
   "source": [
    "**Summary**\n",
    "- for loop\n",
    "- mutable\n",
    "- slicing\n",
    "- joining lists\n",
    "- methods\n",
    "    - extend()\n",
    "    - index()\n",
    "    - reverse()\n",
    "    - insert()\n",
    "    - sort()\n",
    "    - all()\n",
    "    - any()"
   ]
  }
 ],
 "metadata": {
  "kernelspec": {
   "display_name": "Python 3 (ipykernel)",
   "language": "python",
   "name": "python3"
  },
  "language_info": {
   "codemirror_mode": {
    "name": "ipython",
    "version": 3
   },
   "file_extension": ".py",
   "mimetype": "text/x-python",
   "name": "python",
   "nbconvert_exporter": "python",
   "pygments_lexer": "ipython3",
   "version": "3.9.12"
  }
 },
 "nbformat": 4,
 "nbformat_minor": 5
}
