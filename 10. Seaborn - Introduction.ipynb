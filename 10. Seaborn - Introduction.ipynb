{
 "cells": [
  {
   "cell_type": "markdown",
   "id": "84bf6fe8",
   "metadata": {},
   "source": [
    "# Seaborn\n",
    "    - For statistical visualization"
   ]
  },
  {
   "cell_type": "markdown",
   "id": "80c9036f",
   "metadata": {},
   "source": [
    "- displot()\n",
    "- distplot()\n",
    "- lmplot()\n",
    "- boxplot()\n",
    "- What an outlier is\n",
    "- 25% quartile, 75% quartile\n",
    "- Univariate analysis - plot the graph using one variable\n",
    "- Bivariate analysis - plot the graph using two variables\n",
    "- Multivariate analysis - plot the graph using more than two variables\n",
    "- Convert raw data to clean data"
   ]
  }
 ],
 "metadata": {
  "kernelspec": {
   "display_name": "Python 3 (ipykernel)",
   "language": "python",
   "name": "python3"
  },
  "language_info": {
   "codemirror_mode": {
    "name": "ipython",
    "version": 3
   },
   "file_extension": ".py",
   "mimetype": "text/x-python",
   "name": "python",
   "nbconvert_exporter": "python",
   "pygments_lexer": "ipython3",
   "version": "3.9.12"
  }
 },
 "nbformat": 4,
 "nbformat_minor": 5
}
