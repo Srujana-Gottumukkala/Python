{
 "cells": [
  {
   "cell_type": "markdown",
   "id": "62a159fe",
   "metadata": {},
   "source": [
    "### DESCRIPTIVE STATISTICS\n",
    "- Measures of central tendency\n",
    "    - mean - average\n",
    "    - median - middle value\n",
    "    - mode - most frequent\n",
    "- Measure of Asymmetry\n",
    "    - Skewness\n",
    "            +ve skew: mean > median, mode -> here the data is at left, but outlier is at the right\n",
    "            0 skew: mean = median = mode -> data stays at center, no outlier\n",
    "                  also called as \n",
    "                        normal distribution\n",
    "                        gaussian distribution\n",
    "                        binomial distribution\n",
    "                        bell curve\n",
    "                        0 symmetry\n",
    "            -ve skew: mode > median > mean -> outlier is at the left, data is at the right\n",
    "            \n",
    "    - Kurtosis - indicates if the data is concentrated on one side\n",
    "            +ve kurtosis > 3 - Leptokurtic  \n",
    "                also +vely skewed\n",
    "            0 kurtosis = 3 - Mesokurtic\n",
    "                0 skew\n",
    "            -ve kurtosis < 3 - Platykurtic\n",
    "                -vely skewed\n",
    "            \n",
    "- Measure of Variability\n",
    "    - Variance\n",
    "    - Standard Deviation\n",
    "    - Coefficient of Variance: Standard Deviation/Mean\n",
    "- Measure of Relationship\n",
    "    -  It is a main statistic that is used to measure the correlation of two variables"
   ]
  }
 ],
 "metadata": {
  "kernelspec": {
   "display_name": "Python 3 (ipykernel)",
   "language": "python",
   "name": "python3"
  },
  "language_info": {
   "codemirror_mode": {
    "name": "ipython",
    "version": 3
   },
   "file_extension": ".py",
   "mimetype": "text/x-python",
   "name": "python",
   "nbconvert_exporter": "python",
   "pygments_lexer": "ipython3",
   "version": "3.9.12"
  }
 },
 "nbformat": 4,
 "nbformat_minor": 5
}
