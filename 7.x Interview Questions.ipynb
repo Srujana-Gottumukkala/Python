{
 "cells": [
  {
   "cell_type": "markdown",
   "id": "94ef4b54",
   "metadata": {},
   "source": [
    "# Interview Questions"
   ]
  },
  {
   "cell_type": "code",
   "execution_count": 4,
   "id": "814de9fb",
   "metadata": {},
   "outputs": [
    {
     "data": {
      "text/plain": [
       "9"
      ]
     },
     "execution_count": 4,
     "metadata": {},
     "output_type": "execute_result"
    }
   ],
   "source": [
    "# 1. What is the result of the expression 3 ** 2 in Python?\n",
    "3 ** 2"
   ]
  },
  {
   "cell_type": "code",
   "execution_count": 5,
   "id": "0cb093ef",
   "metadata": {},
   "outputs": [
    {
     "data": {
      "text/plain": [
       "'H wry?'"
      ]
     },
     "execution_count": 5,
     "metadata": {},
     "output_type": "execute_result"
    }
   ],
   "source": [
    "# 2. What does the expression my_string[::3] do?\n",
    "my_string = 'Hi, how are you?'\n",
    "my_string[::3]\n",
    "\n",
    "# It returns every third character of the string"
   ]
  },
  {
   "cell_type": "code",
   "execution_count": 8,
   "id": "b5277230",
   "metadata": {},
   "outputs": [
    {
     "name": "stdout",
     "output_type": "stream",
     "text": [
      "0\n"
     ]
    }
   ],
   "source": [
    "#3. What is output of following code?\n",
    "x = 10\n",
    "y = 5\n",
    "print(x % y)    # Module operator"
   ]
  },
  {
   "cell_type": "code",
   "execution_count": 14,
   "id": "31f7c9f0",
   "metadata": {},
   "outputs": [],
   "source": [
    "'''\n",
    "    4. Which of the following is not a valid variable name in Python?\n",
    "        a. my_variable\n",
    "        b. 1st_variable\n",
    "        c. variable_1\n",
    "        d. _variable\n",
    "'''\n",
    "my_variable = 3\n",
    "variable_1 = 10\n",
    "_variable = 1"
   ]
  },
  {
   "cell_type": "code",
   "execution_count": 13,
   "id": "e8cdb208",
   "metadata": {},
   "outputs": [
    {
     "ename": "SyntaxError",
     "evalue": "invalid syntax (1949501567.py, line 1)",
     "output_type": "error",
     "traceback": [
      "\u001b[1;36m  Input \u001b[1;32mIn [13]\u001b[1;36m\u001b[0m\n\u001b[1;33m    1st_variable = 1\u001b[0m\n\u001b[1;37m     ^\u001b[0m\n\u001b[1;31mSyntaxError\u001b[0m\u001b[1;31m:\u001b[0m invalid syntax\n"
     ]
    }
   ],
   "source": [
    "1st_variable = 1  # Error since variable names should not start with digits"
   ]
  },
  {
   "cell_type": "code",
   "execution_count": 15,
   "id": "23ee5db3",
   "metadata": {},
   "outputs": [
    {
     "name": "stdout",
     "output_type": "stream",
     "text": [
      "World!\n"
     ]
    }
   ],
   "source": [
    "#5. What will the following code output?\n",
    "my_str = \"Hello, World!\"\n",
    "\n",
    "print(my_str[7:])"
   ]
  },
  {
   "cell_type": "code",
   "execution_count": null,
   "id": "beb4d93a",
   "metadata": {},
   "outputs": [],
   "source": [
    "#6. What is the purpose of the range() function in Python?\n",
    "# Generate a list of numbers within a specified range"
   ]
  },
  {
   "cell_type": "code",
   "execution_count": 16,
   "id": "5beab60a",
   "metadata": {},
   "outputs": [
    {
     "name": "stdout",
     "output_type": "stream",
     "text": [
      "0\n",
      "1\n",
      "2\n",
      "3\n",
      "4\n"
     ]
    }
   ],
   "source": [
    "#7. What is the output of the following code?\n",
    "for i in range(5):\n",
    "    print(i)"
   ]
  },
  {
   "cell_type": "code",
   "execution_count": null,
   "id": "5a011caa",
   "metadata": {},
   "outputs": [],
   "source": [
    "#8. What is the difference between append() and extend() methods for lists?\n",
    "# append() adds a single element, extend() adds multiple elements"
   ]
  },
  {
   "cell_type": "code",
   "execution_count": 17,
   "id": "6949b7ba",
   "metadata": {},
   "outputs": [
    {
     "name": "stdout",
     "output_type": "stream",
     "text": [
      "5\n"
     ]
    }
   ],
   "source": [
    "#9. What is the output of the following code?\n",
    "\n",
    "my_list = [1, 2, 3, 4, 5]\n",
    "my_list.reverse()\n",
    "print(my_list[0])"
   ]
  },
  {
   "cell_type": "code",
   "execution_count": 18,
   "id": "b9729532",
   "metadata": {},
   "outputs": [
    {
     "ename": "TypeError",
     "evalue": "'int' object is not subscriptable",
     "output_type": "error",
     "traceback": [
      "\u001b[1;31m---------------------------------------------------------------------------\u001b[0m",
      "\u001b[1;31mTypeError\u001b[0m                                 Traceback (most recent call last)",
      "Input \u001b[1;32mIn [18]\u001b[0m, in \u001b[0;36m<cell line: 5>\u001b[1;34m()\u001b[0m\n\u001b[0;32m      3\u001b[0m my_list \u001b[38;5;241m=\u001b[39m [\u001b[38;5;241m1\u001b[39m, \u001b[38;5;241m2\u001b[39m, \u001b[38;5;241m3\u001b[39m, \u001b[38;5;241m4\u001b[39m]\n\u001b[0;32m      4\u001b[0m my_list\u001b[38;5;241m.\u001b[39mappend([\u001b[38;5;241m5\u001b[39m, \u001b[38;5;241m6\u001b[39m])\n\u001b[1;32m----> 5\u001b[0m \u001b[38;5;28mprint\u001b[39m(\u001b[43mmy_list\u001b[49m\u001b[43m[\u001b[49m\u001b[38;5;241;43m3\u001b[39;49m\u001b[43m]\u001b[49m\u001b[43m[\u001b[49m\u001b[38;5;241;43m1\u001b[39;49m\u001b[43m]\u001b[49m)\n",
      "\u001b[1;31mTypeError\u001b[0m: 'int' object is not subscriptable"
     ]
    }
   ],
   "source": [
    "#10. What is the output of the following code?\n",
    "\n",
    "my_list = [1, 2, 3, 4]\n",
    "my_list.append([5, 6])\n",
    "print(my_list[3][1])\n",
    "\n",
    "# Error"
   ]
  },
  {
   "cell_type": "code",
   "execution_count": 19,
   "id": "61661ab2",
   "metadata": {},
   "outputs": [
    {
     "name": "stdout",
     "output_type": "stream",
     "text": [
      "Hello Alice!\n"
     ]
    }
   ],
   "source": [
    "#11. What is the output of the following code?\n",
    "name = 'Alice'\n",
    "if name == 'Bob':\n",
    "    print('Hello Bob!')\n",
    "\n",
    "else:\n",
    "    print('Hello', name + '!')"
   ]
  },
  {
   "cell_type": "code",
   "execution_count": 31,
   "id": "2085606d",
   "metadata": {},
   "outputs": [],
   "source": [
    "#12. How do you add a new key-value pair to a dictionary?\n",
    "dict1 = {1:'a', 2:'b', 3:'c', 4:'d'}\n",
    "dict1[5] = 'e'"
   ]
  },
  {
   "cell_type": "code",
   "execution_count": 32,
   "id": "8d3acb9b",
   "metadata": {},
   "outputs": [
    {
     "data": {
      "text/plain": [
       "{1: 'a', 2: 'b', 3: 'c', 4: 'd', 5: 'e'}"
      ]
     },
     "execution_count": 32,
     "metadata": {},
     "output_type": "execute_result"
    }
   ],
   "source": [
    "dict1"
   ]
  },
  {
   "cell_type": "code",
   "execution_count": 33,
   "id": "b849203a",
   "metadata": {},
   "outputs": [],
   "source": [
    "#13. What is the key difference between a list and a tuple?\n",
    "# Tuples are immutable, lists are mutable"
   ]
  },
  {
   "cell_type": "code",
   "execution_count": 35,
   "id": "ca7aa943",
   "metadata": {},
   "outputs": [
    {
     "data": {
      "text/plain": [
       "[5, 4, 3, 2, 1]"
      ]
     },
     "execution_count": 35,
     "metadata": {},
     "output_type": "execute_result"
    }
   ],
   "source": [
    "#14. Which method can be used to reverse a list in Python?\n",
    "l1 = [1,2,3,4,5]\n",
    "l1.reverse()\n",
    "l1"
   ]
  },
  {
   "cell_type": "code",
   "execution_count": 37,
   "id": "dea3221f",
   "metadata": {},
   "outputs": [
    {
     "data": {
      "text/plain": [
       "[1, 2, 3, 4, 5]"
      ]
     },
     "execution_count": 37,
     "metadata": {},
     "output_type": "execute_result"
    }
   ],
   "source": [
    "l1[::-1]"
   ]
  },
  {
   "cell_type": "code",
   "execution_count": null,
   "id": "7ba2f6d4",
   "metadata": {},
   "outputs": [],
   "source": [
    "#15. Which data structure is NOT mutable?\n",
    "# Tuple"
   ]
  },
  {
   "cell_type": "code",
   "execution_count": 38,
   "id": "83cb494c",
   "metadata": {},
   "outputs": [
    {
     "data": {
      "text/plain": [
       "list"
      ]
     },
     "execution_count": 38,
     "metadata": {},
     "output_type": "execute_result"
    }
   ],
   "source": [
    "#16. What is the correct syntax to create an empty list in Python?\n",
    "\n",
    "l2 = []\n",
    "type(l2)"
   ]
  },
  {
   "cell_type": "code",
   "execution_count": null,
   "id": "0839029b",
   "metadata": {},
   "outputs": [],
   "source": [
    "#17. Which data structure in Python does not allow duplicate elements?\n",
    "# Set"
   ]
  },
  {
   "cell_type": "code",
   "execution_count": 43,
   "id": "4458373c",
   "metadata": {},
   "outputs": [
    {
     "data": {
      "text/plain": [
       "tuple"
      ]
     },
     "execution_count": 43,
     "metadata": {},
     "output_type": "execute_result"
    }
   ],
   "source": [
    "#18. What is the correct way to create a tuple with a single element in Python?\n",
    "a = (1,)\n",
    "type(a)"
   ]
  },
  {
   "cell_type": "code",
   "execution_count": 44,
   "id": "867b4c7a",
   "metadata": {},
   "outputs": [
    {
     "data": {
      "text/plain": [
       "set"
      ]
     },
     "execution_count": 44,
     "metadata": {},
     "output_type": "execute_result"
    }
   ],
   "source": [
    "#19. How do you remove an item from a set in Python?  set.remove(item)\n",
    "set1 = {1,3,235,647}\n",
    "type(set1)"
   ]
  },
  {
   "cell_type": "code",
   "execution_count": 45,
   "id": "486c46c6",
   "metadata": {},
   "outputs": [
    {
     "data": {
      "text/plain": [
       "{1, 235, 647}"
      ]
     },
     "execution_count": 45,
     "metadata": {},
     "output_type": "execute_result"
    }
   ],
   "source": [
    "set1.remove(3)\n",
    "set1"
   ]
  },
  {
   "cell_type": "code",
   "execution_count": 46,
   "id": "1c469c29",
   "metadata": {},
   "outputs": [
    {
     "data": {
      "text/plain": [
       "'d'"
      ]
     },
     "execution_count": 46,
     "metadata": {},
     "output_type": "execute_result"
    }
   ],
   "source": [
    "#20. What is the correct way to access the value associated with a key in a dictionary?  dict[key]\n",
    "dict1 = {1:'a', 2:'b', 3:'c', 4:'d'}\n",
    "dict1[4]"
   ]
  },
  {
   "cell_type": "code",
   "execution_count": 47,
   "id": "125c47f5",
   "metadata": {},
   "outputs": [
    {
     "data": {
      "text/plain": [
       "[5, 4, 3, 2, 1]"
      ]
     },
     "execution_count": 47,
     "metadata": {},
     "output_type": "execute_result"
    }
   ],
   "source": [
    "# 21. Which method is used to add an item to the end of a list in Python?\n",
    "l1"
   ]
  },
  {
   "cell_type": "code",
   "execution_count": 49,
   "id": "52e6ebc0",
   "metadata": {},
   "outputs": [
    {
     "data": {
      "text/plain": [
       "[5, 4, 3, 2, 1, 6]"
      ]
     },
     "execution_count": 49,
     "metadata": {},
     "output_type": "execute_result"
    }
   ],
   "source": [
    "l1.append(6)\n",
    "l1"
   ]
  },
  {
   "cell_type": "code",
   "execution_count": 50,
   "id": "a6dc7145",
   "metadata": {},
   "outputs": [
    {
     "data": {
      "text/plain": [
       "6"
      ]
     },
     "execution_count": 50,
     "metadata": {},
     "output_type": "execute_result"
    }
   ],
   "source": [
    "# 22. Which function is used to get the length of a list in Python?\n",
    "len(l1)"
   ]
  },
  {
   "cell_type": "code",
   "execution_count": 51,
   "id": "8e9454f6",
   "metadata": {},
   "outputs": [
    {
     "name": "stdout",
     "output_type": "stream",
     "text": [
      "Hello Students 20\n"
     ]
    }
   ],
   "source": [
    "'''23.  Which code will give this output ‘Hello Students 20’\n",
    "A) print(\"Hello”, “Students\"+20)\n",
    "B) print(\"Hello Students\"+' '+20)\n",
    "C) print(\"Hello Students\"+' '+'20')\n",
    "D) print(\"Hello”+”Students\"+' '+'20')\n",
    "'''\n",
    "print(\"Hello Students\"+' '+'20')\n"
   ]
  },
  {
   "cell_type": "code",
   "execution_count": 53,
   "id": "2965ce50",
   "metadata": {},
   "outputs": [
    {
     "name": "stdout",
     "output_type": "stream",
     "text": [
      "9\n"
     ]
    }
   ],
   "source": [
    "#24. What will be the output of the following code?\n",
    "x = 27\n",
    "y = 4\n",
    "print(x % y * 3)"
   ]
  },
  {
   "cell_type": "code",
   "execution_count": null,
   "id": "0beba551",
   "metadata": {},
   "outputs": [],
   "source": [
    "#25. Which of the following is a correct way to comment multiple lines in Python?\n",
    "# ''' This is a comment '''"
   ]
  },
  {
   "cell_type": "code",
   "execution_count": 57,
   "id": "e757d2c0",
   "metadata": {},
   "outputs": [],
   "source": [
    "#26. Which of the following is the correct way to remove an element from a list in Python?\n",
    "l1 = [1,2,3,4,5,6]"
   ]
  },
  {
   "cell_type": "code",
   "execution_count": 58,
   "id": "112dbe3e",
   "metadata": {},
   "outputs": [
    {
     "data": {
      "text/plain": [
       "[1, 2, 3, 4, 5]"
      ]
     },
     "execution_count": 58,
     "metadata": {},
     "output_type": "execute_result"
    }
   ],
   "source": [
    "l1.remove(6)\n",
    "l1"
   ]
  },
  {
   "cell_type": "code",
   "execution_count": 60,
   "id": "331ea0aa",
   "metadata": {},
   "outputs": [
    {
     "name": "stdout",
     "output_type": "stream",
     "text": [
      "15\n"
     ]
    }
   ],
   "source": [
    "#27. What is the output of the following code?\n",
    "x = 10\n",
    "y = \"5\"\n",
    "print(x + int(y))"
   ]
  },
  {
   "cell_type": "code",
   "execution_count": 61,
   "id": "2162eba9",
   "metadata": {},
   "outputs": [
    {
     "name": "stdout",
     "output_type": "stream",
     "text": [
      "5\n"
     ]
    }
   ],
   "source": [
    "#28. What is the output of the following code?\n",
    "\n",
    "x = 20\n",
    "y = 6\n",
    "print(x % y + x // y)"
   ]
  },
  {
   "cell_type": "code",
   "execution_count": 62,
   "id": "ea8aa400",
   "metadata": {},
   "outputs": [
    {
     "name": "stdout",
     "output_type": "stream",
     "text": [
      "[1, 2, 4, 5, 6, 7, 8, 9]\n"
     ]
    }
   ],
   "source": [
    "#29. What is the output of the following code?\n",
    "\n",
    "my_list = [1, 2, 3, 4, 5]\n",
    "my_list.append(6)\n",
    "my_list.extend([7, 8, 9])\n",
    "my_list.pop(2)\n",
    "print(my_list)"
   ]
  },
  {
   "cell_type": "code",
   "execution_count": 68,
   "id": "a4352dff",
   "metadata": {},
   "outputs": [],
   "source": [
    "#30. Consider the following Python code\n",
    "\n",
    "my_dict = {\"apple\": 2, \"banana\": 3, \"orange\": 1}\n",
    "my_dict[\"banana\"] += 1"
   ]
  },
  {
   "cell_type": "code",
   "execution_count": 69,
   "id": "7e722c5b",
   "metadata": {},
   "outputs": [
    {
     "data": {
      "text/plain": [
       "{'apple': 2, 'banana': 4, 'orange': 1}"
      ]
     },
     "execution_count": 69,
     "metadata": {},
     "output_type": "execute_result"
    }
   ],
   "source": [
    "my_dict"
   ]
  }
 ],
 "metadata": {
  "kernelspec": {
   "display_name": "Python 3 (ipykernel)",
   "language": "python",
   "name": "python3"
  },
  "language_info": {
   "codemirror_mode": {
    "name": "ipython",
    "version": 3
   },
   "file_extension": ".py",
   "mimetype": "text/x-python",
   "name": "python",
   "nbconvert_exporter": "python",
   "pygments_lexer": "ipython3",
   "version": "3.9.12"
  }
 },
 "nbformat": 4,
 "nbformat_minor": 5
}
