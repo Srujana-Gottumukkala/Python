{
 "cells": [
  {
   "cell_type": "markdown",
   "id": "462017d9-7c6a-4598-9981-f94041796d5f",
   "metadata": {},
   "source": [
    "### User-defined functions"
   ]
  },
  {
   "cell_type": "code",
   "execution_count": 8,
   "id": "a755678b-5aff-4a7b-8a75-4d988a82dc1f",
   "metadata": {},
   "outputs": [],
   "source": [
    "def greet():\n",
    "    print('hello')\n",
    "    print('good morning') "
   ]
  },
  {
   "cell_type": "code",
   "execution_count": 9,
   "id": "805748c8-4d94-45ea-a38c-fa4c60be388a",
   "metadata": {},
   "outputs": [
    {
     "name": "stdout",
     "output_type": "stream",
     "text": [
      "hello\n",
      "good morning\n"
     ]
    }
   ],
   "source": [
    "def greet():\n",
    "    print('hello')\n",
    "    print('good morning') \n",
    "greet()"
   ]
  },
  {
   "cell_type": "code",
   "execution_count": 10,
   "id": "47991858-8c7b-4c92-87d7-c697e3c5fcd1",
   "metadata": {},
   "outputs": [
    {
     "name": "stdout",
     "output_type": "stream",
     "text": [
      "11\n"
     ]
    }
   ],
   "source": [
    "# write a python code add 2 number \n",
    "\n",
    "def add(x,y):\n",
    "    c=x+y\n",
    "    print(c)  \n",
    "add(5,6)"
   ]
  },
  {
   "cell_type": "code",
   "execution_count": 11,
   "id": "d787bd47-4ff0-49df-9866-e74e53b55098",
   "metadata": {},
   "outputs": [
    {
     "name": "stdout",
     "output_type": "stream",
     "text": [
      "18\n"
     ]
    }
   ],
   "source": [
    "# write a python code add 2 number \n",
    "\n",
    "def add(x,y,z):\n",
    "    c=x+y+z\n",
    "    print(c)  \n",
    "add(5,6, 7)"
   ]
  },
  {
   "cell_type": "code",
   "execution_count": 12,
   "id": "4a5f9607-1125-4bb2-9515-31a1e00ce2aa",
   "metadata": {},
   "outputs": [
    {
     "name": "stdout",
     "output_type": "stream",
     "text": [
      "hello\n",
      "good morning\n"
     ]
    }
   ],
   "source": [
    "def greet():\n",
    "    print('hello')\n",
    "    print('good morning') \n",
    "greet()"
   ]
  },
  {
   "cell_type": "code",
   "execution_count": 13,
   "id": "6bcec29c-aa6a-4811-9ad2-73a77187ee84",
   "metadata": {},
   "outputs": [
    {
     "name": "stdout",
     "output_type": "stream",
     "text": [
      "18\n"
     ]
    }
   ],
   "source": [
    "def add(x,y,z):\n",
    "    c=x+y+z\n",
    "    print(c)  \n",
    "add(5,6, 7)"
   ]
  },
  {
   "cell_type": "code",
   "execution_count": 14,
   "id": "8d5d037e-cbdf-4455-9ed2-8fbafeba06e5",
   "metadata": {},
   "outputs": [
    {
     "name": "stdout",
     "output_type": "stream",
     "text": [
      "hello\n",
      "good morning\n",
      "18\n"
     ]
    }
   ],
   "source": [
    "def greet():\n",
    "    print('hello')\n",
    "    print('good morning') \n",
    "greet()\n",
    "\n",
    "def add(x,y,z):\n",
    "    c=x+y+z\n",
    "    print(c)  \n",
    "add(5,6, 7)"
   ]
  },
  {
   "cell_type": "code",
   "execution_count": 15,
   "id": "a7c60bec-d353-48a4-9fe2-8e448fef880a",
   "metadata": {},
   "outputs": [
    {
     "name": "stdout",
     "output_type": "stream",
     "text": [
      "hello\n",
      "good morning\n",
      "-1\n"
     ]
    }
   ],
   "source": [
    "def greet():\n",
    "    print('hello')\n",
    "    print('good morning') \n",
    "\n",
    "def add(x,y,z):\n",
    "    c=x+y+z\n",
    "    return c  \n",
    "\n",
    "def sub(x,y):\n",
    "    d = x-y\n",
    "    print(d)\n",
    "    \n",
    "greet()\n",
    "add(5,6,7)\n",
    "sub(2,3)"
   ]
  },
  {
   "cell_type": "code",
   "execution_count": 16,
   "id": "762e5df9-6ebc-4209-8314-aee5cfaf0836",
   "metadata": {},
   "outputs": [
    {
     "name": "stdout",
     "output_type": "stream",
     "text": [
      "hello\n",
      "good noon\n",
      "12\n"
     ]
    }
   ],
   "source": [
    "def greet():\n",
    "    print('hello')\n",
    "    print('good noon')\n",
    "\n",
    "def add(x,y,z):\n",
    "    c=x+y+z\n",
    "    return c\n",
    "\n",
    "greet()\n",
    "\n",
    "result = add(5,4,3)\n",
    "print(result) "
   ]
  },
  {
   "cell_type": "code",
   "execution_count": 17,
   "id": "34aa1987-1ea0-45c6-be32-b10398d19fe1",
   "metadata": {},
   "outputs": [
    {
     "name": "stdout",
     "output_type": "stream",
     "text": [
      "9 -1 20 0.8 1024\n"
     ]
    }
   ],
   "source": [
    "def add_sub(x,y): # what if i want to return 2 values add_sub & i want to return 2 values & function can accept multiple value \n",
    "    c= x+y\n",
    "    d= x-y\n",
    "    e=x*y\n",
    "    f= x/y\n",
    "    g = x**y\n",
    "    print(c, d,e,f,g)\n",
    "    \n",
    "add_sub(4,5)"
   ]
  },
  {
   "cell_type": "code",
   "execution_count": 18,
   "id": "a7039371-8b7c-4f64-a184-1f821be04b53",
   "metadata": {},
   "outputs": [
    {
     "name": "stdout",
     "output_type": "stream",
     "text": [
      "9 -1\n"
     ]
    }
   ],
   "source": [
    "def add_sub(x,y): # what if i want to return 2 values add_sub & i want to return 2 values & function can accept multiple value \n",
    "    c= x+y\n",
    "    d= x-y\n",
    "    print(c,d) \n",
    "    \n",
    "add_sub(4,5)"
   ]
  },
  {
   "cell_type": "code",
   "execution_count": 19,
   "id": "d37be154-ea2d-4612-83b1-7a98fc8913b5",
   "metadata": {},
   "outputs": [
    {
     "data": {
      "text/plain": [
       "(9, -1)"
      ]
     },
     "execution_count": 19,
     "metadata": {},
     "output_type": "execute_result"
    }
   ],
   "source": [
    "def add_sub(x,y): # what if i want to return 2 values add_sub & i want to return 2 values & function can accept multiple value \n",
    "    c= x+y\n",
    "    d= x-y\n",
    "    return c,d \n",
    "    \n",
    "add_sub(4,5)"
   ]
  },
  {
   "cell_type": "code",
   "execution_count": 20,
   "id": "5e6ea878-8996-4c46-8e18-6d5089612124",
   "metadata": {},
   "outputs": [
    {
     "name": "stdout",
     "output_type": "stream",
     "text": [
      "(9, -1)\n",
      "<class 'tuple'>\n"
     ]
    }
   ],
   "source": [
    "def add_sub(x,y): # what if i want to return 2 values add_sub & i want to return 2 values & function can accept multiple value \n",
    "    c= x+y\n",
    "    d= x-y\n",
    "    return c, d\n",
    "    \n",
    "result = add_sub(4,5)\n",
    "\n",
    "print(result)\n",
    "print(type(result))"
   ]
  },
  {
   "cell_type": "code",
   "execution_count": 21,
   "id": "d31ad64b-74e8-468d-86a2-ce21124e226b",
   "metadata": {},
   "outputs": [
    {
     "name": "stdout",
     "output_type": "stream",
     "text": [
      "9 1\n",
      "<class 'int'>\n",
      "<class 'int'>\n"
     ]
    }
   ],
   "source": [
    "def add_sub(x,y):\n",
    "    c= x+y\n",
    "    d= x-y\n",
    "    return c, d\n",
    "\n",
    "result1,result2 = add_sub(5,4)\n",
    "\n",
    "print(result1,result2)\n",
    "\n",
    "print(type(result1))\n",
    "print(type(result2))"
   ]
  },
  {
   "cell_type": "code",
   "execution_count": 22,
   "id": "a381b05c-6bd6-4fa9-8a41-fa3a71390d58",
   "metadata": {},
   "outputs": [
    {
     "name": "stdout",
     "output_type": "stream",
     "text": [
      "10\n"
     ]
    }
   ],
   "source": [
    "def bmw(x): #update function take the value from the user\n",
    "    x = 10\n",
    "    print(x)\n",
    "    \n",
    "bmw(8)"
   ]
  },
  {
   "cell_type": "code",
   "execution_count": 23,
   "id": "e77c2fbf-b36d-4a4d-9026-23911f5de848",
   "metadata": {},
   "outputs": [
    {
     "name": "stdout",
     "output_type": "stream",
     "text": [
      "10\n"
     ]
    }
   ],
   "source": [
    "def bmw(x): #update function take the value from the user\n",
    "    x = 10\n",
    "    print(x)\n",
    "    \n",
    "bmw(8)"
   ]
  },
  {
   "cell_type": "code",
   "execution_count": 24,
   "id": "6cdbcb44-f570-4bf3-b1c5-fb3f5168ff19",
   "metadata": {},
   "outputs": [
    {
     "name": "stdout",
     "output_type": "stream",
     "text": [
      "8\n",
      "10\n"
     ]
    }
   ],
   "source": [
    "def bmw(x):  \n",
    "    x = 8\n",
    "    print(x)\n",
    "    \n",
    "a = 10\n",
    "bmw(a)\n",
    "print(a)"
   ]
  },
  {
   "cell_type": "markdown",
   "id": "706ea555-b499-42de-a432-08b4b0c12630",
   "metadata": {},
   "source": [
    "#### Formal argument"
   ]
  },
  {
   "cell_type": "code",
   "execution_count": 25,
   "id": "92c04fb0-1dfb-461d-b8e1-b7f694a8288e",
   "metadata": {},
   "outputs": [
    {
     "ename": "IndentationError",
     "evalue": "expected an indented block (1232482718.py, line 3)",
     "output_type": "error",
     "traceback": [
      "\u001b[1;36m  Cell \u001b[1;32mIn[25], line 3\u001b[1;36m\u001b[0m\n\u001b[1;33m    c = a+b\u001b[0m\n\u001b[1;37m    ^\u001b[0m\n\u001b[1;31mIndentationError\u001b[0m\u001b[1;31m:\u001b[0m expected an indented block\n"
     ]
    }
   ],
   "source": [
    "class nit:\n",
    "    def add(a,b): # a & b called formal argument\n",
    "    c = a+b\n",
    "    print(c)\n",
    "    \n",
    "add(5,6) #5 and 6 we called as actual argument"
   ]
  },
  {
   "cell_type": "markdown",
   "id": "1276beb1-b106-4cbf-85d8-c49ba26ba202",
   "metadata": {},
   "source": [
    "#### Actual argument\n",
    "    - positional argument\n",
    "    - keyword argument\n",
    "    - variable length argument\n",
    "    - default argument "
   ]
  },
  {
   "cell_type": "markdown",
   "id": "72ae02ac-3aad-46df-bbd1-27d7dad1aa65",
   "metadata": {},
   "source": [
    "#### 1. Positional Argument"
   ]
  },
  {
   "cell_type": "code",
   "execution_count": 32,
   "id": "ec0648ba-ad59-4030-811f-4d6f239b2e24",
   "metadata": {},
   "outputs": [
    {
     "name": "stdout",
     "output_type": "stream",
     "text": [
      "nit\n",
      "22\n"
     ]
    }
   ],
   "source": [
    "def person(name,age):\n",
    "    print(name)\n",
    "    print(age)\n",
    "    \n",
    "person('nit',22)"
   ]
  },
  {
   "cell_type": "code",
   "execution_count": 1,
   "id": "4b5834cf-d3ca-4dba-a558-bd676ed996a1",
   "metadata": {},
   "outputs": [
    {
     "ename": "TypeError",
     "evalue": "person() takes 2 positional arguments but 3 were given",
     "output_type": "error",
     "traceback": [
      "\u001b[1;31m---------------------------------------------------------------------------\u001b[0m",
      "\u001b[1;31mTypeError\u001b[0m                                 Traceback (most recent call last)",
      "Cell \u001b[1;32mIn[1], line 5\u001b[0m\n\u001b[0;32m      2\u001b[0m     \u001b[38;5;28mprint\u001b[39m(name)\n\u001b[0;32m      3\u001b[0m     \u001b[38;5;28mprint\u001b[39m(age)\n\u001b[1;32m----> 5\u001b[0m \u001b[43mperson\u001b[49m\u001b[43m(\u001b[49m\u001b[38;5;124;43m'\u001b[39;49m\u001b[38;5;124;43mnit\u001b[39;49m\u001b[38;5;124;43m'\u001b[39;49m\u001b[43m,\u001b[49m\u001b[38;5;241;43m22\u001b[39;49m\u001b[43m,\u001b[49m\u001b[38;5;241;43m33\u001b[39;49m\u001b[43m)\u001b[49m\n",
      "\u001b[1;31mTypeError\u001b[0m: person() takes 2 positional arguments but 3 were given"
     ]
    }
   ],
   "source": [
    "def person(name,age):\n",
    "    print(name)\n",
    "    print(age)\n",
    "    \n",
    "person('nit',22,33)"
   ]
  },
  {
   "cell_type": "code",
   "execution_count": 2,
   "id": "583e9cb0-64e9-4835-9193-c22e9b09150a",
   "metadata": {},
   "outputs": [
    {
     "ename": "TypeError",
     "evalue": "person() missing 1 required positional argument: 'age'",
     "output_type": "error",
     "traceback": [
      "\u001b[1;31m---------------------------------------------------------------------------\u001b[0m",
      "\u001b[1;31mTypeError\u001b[0m                                 Traceback (most recent call last)",
      "Cell \u001b[1;32mIn[2], line 5\u001b[0m\n\u001b[0;32m      2\u001b[0m     \u001b[38;5;28mprint\u001b[39m(name)\n\u001b[0;32m      3\u001b[0m     \u001b[38;5;28mprint\u001b[39m(age)\n\u001b[1;32m----> 5\u001b[0m \u001b[43mperson\u001b[49m\u001b[43m(\u001b[49m\u001b[38;5;124;43m'\u001b[39;49m\u001b[38;5;124;43mnit\u001b[39;49m\u001b[38;5;124;43m'\u001b[39;49m\u001b[43m)\u001b[49m\n",
      "\u001b[1;31mTypeError\u001b[0m: person() missing 1 required positional argument: 'age'"
     ]
    }
   ],
   "source": [
    "def person(name,age):\n",
    "    print(name)\n",
    "    print(age)\n",
    "    \n",
    "person('nit')"
   ]
  },
  {
   "cell_type": "code",
   "execution_count": 33,
   "id": "9e21d5ee-f4e4-40af-b28e-4238de61a36f",
   "metadata": {},
   "outputs": [
    {
     "name": "stdout",
     "output_type": "stream",
     "text": [
      "22\n"
     ]
    },
    {
     "ename": "TypeError",
     "evalue": "unsupported operand type(s) for -: 'str' and 'int'",
     "output_type": "error",
     "traceback": [
      "\u001b[1;31m---------------------------------------------------------------------------\u001b[0m",
      "\u001b[1;31mTypeError\u001b[0m                                 Traceback (most recent call last)",
      "Cell \u001b[1;32mIn[33], line 5\u001b[0m\n\u001b[0;32m      2\u001b[0m     \u001b[38;5;28mprint\u001b[39m(name)\n\u001b[0;32m      3\u001b[0m     \u001b[38;5;28mprint\u001b[39m(age\u001b[38;5;241m-\u001b[39m\u001b[38;5;241m5\u001b[39m)   \n\u001b[1;32m----> 5\u001b[0m \u001b[43mperson\u001b[49m\u001b[43m(\u001b[49m\u001b[38;5;241;43m22\u001b[39;49m\u001b[43m,\u001b[49m\u001b[43m \u001b[49m\u001b[38;5;124;43m'\u001b[39;49m\u001b[38;5;124;43mnit\u001b[39;49m\u001b[38;5;124;43m'\u001b[39;49m\u001b[43m)\u001b[49m\n",
      "Cell \u001b[1;32mIn[33], line 3\u001b[0m, in \u001b[0;36mperson\u001b[1;34m(name, age)\u001b[0m\n\u001b[0;32m      1\u001b[0m \u001b[38;5;28;01mdef\u001b[39;00m \u001b[38;5;21mperson\u001b[39m(name,age):\n\u001b[0;32m      2\u001b[0m     \u001b[38;5;28mprint\u001b[39m(name)\n\u001b[1;32m----> 3\u001b[0m     \u001b[38;5;28mprint\u001b[39m(\u001b[43mage\u001b[49m\u001b[38;5;241;43m-\u001b[39;49m\u001b[38;5;241;43m5\u001b[39;49m)\n",
      "\u001b[1;31mTypeError\u001b[0m: unsupported operand type(s) for -: 'str' and 'int'"
     ]
    }
   ],
   "source": [
    "def person(name,age):\n",
    "    print(name)\n",
    "    print(age-5)   \n",
    "    \n",
    "person(22, 'nit')"
   ]
  },
  {
   "cell_type": "markdown",
   "id": "850c6b9c-03f6-4cbd-87f0-f6361dd3cb18",
   "metadata": {},
   "source": [
    "#### 2. Keyword Argument"
   ]
  },
  {
   "cell_type": "code",
   "execution_count": 39,
   "id": "f6d3debd-3cf8-46b6-87c3-02a3321b148b",
   "metadata": {},
   "outputs": [
    {
     "name": "stdout",
     "output_type": "stream",
     "text": [
      "nit\n",
      "17\n"
     ]
    }
   ],
   "source": [
    "def person(name,age):\n",
    "    print(name)\n",
    "    print(age-5)   \n",
    "    \n",
    "person(age = 22, name = 'nit')"
   ]
  },
  {
   "cell_type": "code",
   "execution_count": 40,
   "id": "ab37ab1b-6376-4123-a194-4ae76659e43d",
   "metadata": {},
   "outputs": [
    {
     "name": "stdout",
     "output_type": "stream",
     "text": [
      "22\n"
     ]
    },
    {
     "ename": "TypeError",
     "evalue": "unsupported operand type(s) for -: 'str' and 'int'",
     "output_type": "error",
     "traceback": [
      "\u001b[1;31m---------------------------------------------------------------------------\u001b[0m",
      "\u001b[1;31mTypeError\u001b[0m                                 Traceback (most recent call last)",
      "Cell \u001b[1;32mIn[40], line 5\u001b[0m\n\u001b[0;32m      2\u001b[0m     \u001b[38;5;28mprint\u001b[39m(name)\n\u001b[0;32m      3\u001b[0m     \u001b[38;5;28mprint\u001b[39m(age\u001b[38;5;241m-\u001b[39m\u001b[38;5;241m5\u001b[39m)   \n\u001b[1;32m----> 5\u001b[0m \u001b[43mperson\u001b[49m\u001b[43m(\u001b[49m\u001b[38;5;241;43m22\u001b[39;49m\u001b[43m,\u001b[49m\u001b[43m \u001b[49m\u001b[38;5;124;43m'\u001b[39;49m\u001b[38;5;124;43mnit\u001b[39;49m\u001b[38;5;124;43m'\u001b[39;49m\u001b[43m)\u001b[49m\n",
      "Cell \u001b[1;32mIn[40], line 3\u001b[0m, in \u001b[0;36mperson\u001b[1;34m(name, age)\u001b[0m\n\u001b[0;32m      1\u001b[0m \u001b[38;5;28;01mdef\u001b[39;00m \u001b[38;5;21mperson\u001b[39m(name,age):\n\u001b[0;32m      2\u001b[0m     \u001b[38;5;28mprint\u001b[39m(name)\n\u001b[1;32m----> 3\u001b[0m     \u001b[38;5;28mprint\u001b[39m(\u001b[43mage\u001b[49m\u001b[38;5;241;43m-\u001b[39;49m\u001b[38;5;241;43m5\u001b[39;49m)\n",
      "\u001b[1;31mTypeError\u001b[0m: unsupported operand type(s) for -: 'str' and 'int'"
     ]
    }
   ],
   "source": [
    "def person(name,age):\n",
    "    print(name)\n",
    "    print(age-5)   \n",
    "    \n",
    "person(22, 'nit')"
   ]
  },
  {
   "cell_type": "markdown",
   "id": "433bc7a0-f36d-46e4-845b-feeb3da196e5",
   "metadata": {},
   "source": [
    "#### 3. Default argument"
   ]
  },
  {
   "cell_type": "code",
   "execution_count": null,
   "id": "d1552598-2168-454e-b729-6687a3081a59",
   "metadata": {},
   "outputs": [],
   "source": [
    "def person(name, age = 18):\n",
    "    print(name)\n",
    "    print(age)"
   ]
  },
  {
   "cell_type": "code",
   "execution_count": null,
   "id": "6c7c009b-22e1-46d9-b667-8ed91d99a31a",
   "metadata": {},
   "outputs": [],
   "source": [
    "person('Srujana')"
   ]
  },
  {
   "cell_type": "code",
   "execution_count": null,
   "id": "7f28d8c4-3b67-41e2-a182-6bd78ab700d1",
   "metadata": {},
   "outputs": [],
   "source": [
    "person('Srujana',27)"
   ]
  },
  {
   "cell_type": "code",
   "execution_count": null,
   "id": "41ffe9e2-0c5c-43a3-8da0-24e14c972cca",
   "metadata": {},
   "outputs": [],
   "source": [
    "# These concepts are used in polymorphism, method overloading, method overriding"
   ]
  },
  {
   "cell_type": "markdown",
   "id": "4c6f4146-e955-4d78-ad80-3a983938118a",
   "metadata": {},
   "source": [
    "#### 4. Variable length argument"
   ]
  },
  {
   "cell_type": "code",
   "execution_count": 42,
   "id": "f6e57a08-e7d8-48fa-bc3e-beb7913b7a23",
   "metadata": {},
   "outputs": [],
   "source": [
    "def add(a,*b):\n",
    "    c = a\n",
    "    for i in b:\n",
    "        c = c + i\n",
    "    print(c)\n",
    "\n",
    "# a is considered as an integer, b is considered as a tuple"
   ]
  },
  {
   "cell_type": "code",
   "execution_count": 43,
   "id": "35e84965-d0b2-4907-9643-ead16f6e966c",
   "metadata": {},
   "outputs": [
    {
     "name": "stdout",
     "output_type": "stream",
     "text": [
      "15\n"
     ]
    }
   ],
   "source": [
    "add(1,2,3,4,5)"
   ]
  },
  {
   "cell_type": "code",
   "execution_count": 44,
   "id": "10bb715c-d8ad-43c3-964e-7d7585abf91e",
   "metadata": {},
   "outputs": [
    {
     "name": "stdout",
     "output_type": "stream",
     "text": [
      "55\n"
     ]
    }
   ],
   "source": [
    "add(1,2,3,4,5,6,7,8,9,10)"
   ]
  },
  {
   "cell_type": "markdown",
   "id": "6978ec42-a075-4aad-86c6-5a70f179a0c4",
   "metadata": {},
   "source": [
    "#### 5. Kwargs: Keyword + variable length"
   ]
  },
  {
   "cell_type": "code",
   "execution_count": 46,
   "id": "cec2af48-1df2-4826-a8b0-8009e3ed720b",
   "metadata": {},
   "outputs": [],
   "source": [
    "def person():\n",
    "    person('Srujana',36,'Data Analyst')"
   ]
  },
  {
   "cell_type": "code",
   "execution_count": 53,
   "id": "63a1367c-9443-444e-9c23-f96081df9de2",
   "metadata": {},
   "outputs": [
    {
     "name": "stdout",
     "output_type": "stream",
     "text": [
      "Srujana\n",
      "(36,)\n"
     ]
    }
   ],
   "source": [
    "def person(name, *data):\n",
    "    print(name)\n",
    "    print(data)\n",
    "person('Srujana',36)"
   ]
  },
  {
   "cell_type": "code",
   "execution_count": 54,
   "id": "8a6c8ebb-bd37-4f17-911a-afaca3f3c54b",
   "metadata": {},
   "outputs": [
    {
     "name": "stdout",
     "output_type": "stream",
     "text": [
      "Srujana\n",
      "{'age': 36}\n"
     ]
    }
   ],
   "source": [
    "def person(name, **data):\n",
    "    print(name)\n",
    "    print(data)\n",
    "person('Srujana',age = 36)"
   ]
  },
  {
   "cell_type": "code",
   "execution_count": 55,
   "id": "e1abc3ec-38a1-414c-8de5-e3bad3f66515",
   "metadata": {},
   "outputs": [
    {
     "name": "stdout",
     "output_type": "stream",
     "text": [
      "Srujana\n",
      "{'age': 36, 'designation': 'Data Analyst'}\n"
     ]
    }
   ],
   "source": [
    "def person(name, **data):\n",
    "    print(name)\n",
    "    print(data)\n",
    "person('Srujana',age = 36, designation = 'Data Analyst')"
   ]
  },
  {
   "cell_type": "markdown",
   "id": "bf88c8d6-8b78-4866-ab62-ad3f76c2ab66",
   "metadata": {},
   "source": [
    "### Global Variable vs Local Variable"
   ]
  },
  {
   "cell_type": "code",
   "execution_count": 62,
   "id": "e84f5166-bdca-4498-9954-ef162d610112",
   "metadata": {},
   "outputs": [],
   "source": [
    "a = 5 # Global variable\n",
    "def var(x):\n",
    "    b = 10 # Local variable\n",
    "    print('Inside the function',b)\n",
    "    print('Outside the function', a)"
   ]
  },
  {
   "cell_type": "code",
   "execution_count": 63,
   "id": "1a7f1b35-7b67-4aea-9850-86765f5ef405",
   "metadata": {},
   "outputs": [
    {
     "name": "stdout",
     "output_type": "stream",
     "text": [
      "Inside the function 10\n"
     ]
    }
   ],
   "source": [
    "sum(1)"
   ]
  },
  {
   "cell_type": "code",
   "execution_count": 64,
   "id": "47d07014-4218-46d5-b77e-5044ba0465a5",
   "metadata": {},
   "outputs": [
    {
     "ename": "NameError",
     "evalue": "name 'b' is not defined",
     "output_type": "error",
     "traceback": [
      "\u001b[1;31m---------------------------------------------------------------------------\u001b[0m",
      "\u001b[1;31mNameError\u001b[0m                                 Traceback (most recent call last)",
      "Cell \u001b[1;32mIn[64], line 5\u001b[0m\n\u001b[0;32m      3\u001b[0m     b \u001b[38;5;241m=\u001b[39m \u001b[38;5;241m10\u001b[39m \u001b[38;5;66;03m# Local variable\u001b[39;00m\n\u001b[0;32m      4\u001b[0m     \u001b[38;5;28mprint\u001b[39m(\u001b[38;5;124m'\u001b[39m\u001b[38;5;124mInside the function\u001b[39m\u001b[38;5;124m'\u001b[39m,b)\n\u001b[1;32m----> 5\u001b[0m \u001b[38;5;28mprint\u001b[39m(\u001b[38;5;124m'\u001b[39m\u001b[38;5;124mOutside the function\u001b[39m\u001b[38;5;124m'\u001b[39m, \u001b[43mb\u001b[49m)\n",
      "\u001b[1;31mNameError\u001b[0m: name 'b' is not defined"
     ]
    }
   ],
   "source": [
    "a = 5 # Global variable\n",
    "def var(x):\n",
    "    b = 10 # Local variable\n",
    "    print('Inside the function',b)\n",
    "print('Outside the function', b)\n",
    "\n",
    "# Note that the local variable cannot be accessed outside the function"
   ]
  },
  {
   "cell_type": "markdown",
   "id": "6bcefedc-3c3a-464a-9159-3b7a35c7fbc2",
   "metadata": {},
   "source": [
    "#### global keyword and globals() function"
   ]
  },
  {
   "cell_type": "code",
   "execution_count": 73,
   "id": "0fecf89d-e1ec-4fbd-8fdc-29ba0b432ef4",
   "metadata": {},
   "outputs": [],
   "source": [
    "x = 5 # Global variable\n",
    "def update_x():\n",
    "    global x  # Declare that we are using the global variable\n",
    "    x += 10 "
   ]
  },
  {
   "cell_type": "code",
   "execution_count": 74,
   "id": "11e13433-6443-4d2d-958a-cbcf853d91ea",
   "metadata": {},
   "outputs": [
    {
     "name": "stdout",
     "output_type": "stream",
     "text": [
      "15\n"
     ]
    }
   ],
   "source": [
    "update_x()\n",
    "print(x)"
   ]
  },
  {
   "cell_type": "code",
   "execution_count": 75,
   "id": "d182715e-2fcb-4f51-a56e-2b848c936f32",
   "metadata": {},
   "outputs": [],
   "source": [
    "x = 5 # Global variable\n",
    "def update_x():\n",
    "    x += 10 "
   ]
  },
  {
   "cell_type": "code",
   "execution_count": 77,
   "id": "758d6cd2-8fcb-4655-b9b8-e465746e43f6",
   "metadata": {},
   "outputs": [
    {
     "ename": "UnboundLocalError",
     "evalue": "local variable 'x' referenced before assignment",
     "output_type": "error",
     "traceback": [
      "\u001b[1;31m---------------------------------------------------------------------------\u001b[0m",
      "\u001b[1;31mUnboundLocalError\u001b[0m                         Traceback (most recent call last)",
      "Cell \u001b[1;32mIn[77], line 1\u001b[0m\n\u001b[1;32m----> 1\u001b[0m \u001b[43mupdate_x\u001b[49m\u001b[43m(\u001b[49m\u001b[43m)\u001b[49m\n",
      "Cell \u001b[1;32mIn[75], line 3\u001b[0m, in \u001b[0;36mupdate_x\u001b[1;34m()\u001b[0m\n\u001b[0;32m      2\u001b[0m \u001b[38;5;28;01mdef\u001b[39;00m \u001b[38;5;21mupdate_x\u001b[39m():\n\u001b[1;32m----> 3\u001b[0m     x \u001b[38;5;241m+\u001b[39m\u001b[38;5;241m=\u001b[39m \u001b[38;5;241m10\u001b[39m\n",
      "\u001b[1;31mUnboundLocalError\u001b[0m: local variable 'x' referenced before assignment"
     ]
    }
   ],
   "source": [
    "update_x()\n",
    "# Note the error if global is not used; If first needs to be referenced before using it"
   ]
  },
  {
   "cell_type": "markdown",
   "id": "cdb23fcf-6696-4a30-beab-19dee3d5eb18",
   "metadata": {},
   "source": [
    "**globals()** - It is a built-in function that returns a dict. It allows us to access and modify variables programmatically."
   ]
  },
  {
   "cell_type": "code",
   "execution_count": 79,
   "id": "7c00b22d-8fd8-4842-8887-c8fb81889771",
   "metadata": {},
   "outputs": [],
   "source": [
    "x = 50 # Global variable\n",
    "\n",
    "def update_x():\n",
    "    globals()['x'] += 10  # Access and modify the global variable"
   ]
  },
  {
   "cell_type": "code",
   "execution_count": 80,
   "id": "3bdd81b1-54b2-43df-84c3-ac87976fa09d",
   "metadata": {},
   "outputs": [
    {
     "name": "stdout",
     "output_type": "stream",
     "text": [
      "60\n"
     ]
    }
   ],
   "source": [
    "update_x()\n",
    "print(x)"
   ]
  },
  {
   "cell_type": "markdown",
   "id": "45979b5f-d244-4262-b2bd-b299eee0d213",
   "metadata": {},
   "source": [
    "#### 1. Write a Python code to find out the number of odd number, number of even numbers"
   ]
  },
  {
   "cell_type": "code",
   "execution_count": 5,
   "id": "82dedaf4-76c4-45f0-b2e5-d31261a8cf99",
   "metadata": {},
   "outputs": [
    {
     "name": "stdout",
     "output_type": "stream",
     "text": [
      "Even number count: 3 and Odd number count: 4\n"
     ]
    }
   ],
   "source": [
    "def count(list):\n",
    "    even = 0\n",
    "    odd = 0\n",
    "    \n",
    "# using list in the function definition\n",
    "    for i in list1:\n",
    "        if i%2 == 0:\n",
    "            even += 1\n",
    "        else:\n",
    "            odd += 1\n",
    "    return even, odd\n",
    "\n",
    "list1 = [1,2,3,4,5,6,7]\n",
    "even, odd = count(list1)\n",
    "\n",
    "print(\"Even number count: {} and Odd number count: {}\".format(even,odd))"
   ]
  },
  {
   "cell_type": "markdown",
   "id": "52ce7e98-1dee-4682-ae86-b11f043fcde1",
   "metadata": {},
   "source": [
    "#### 2. Fibonacci Sequence"
   ]
  },
  {
   "cell_type": "code",
   "execution_count": 6,
   "id": "5b3c8c31-f005-45fe-ab6a-d1fdc9686576",
   "metadata": {},
   "outputs": [
    {
     "name": "stdout",
     "output_type": "stream",
     "text": [
      "0\n",
      "1\n",
      "1\n",
      "2\n",
      "3\n",
      "5\n",
      "8\n",
      "13\n",
      "21\n",
      "34\n",
      "55\n",
      "89\n"
     ]
    }
   ],
   "source": [
    "def fib(n):\n",
    "    a = 0\n",
    "    b = 1\n",
    "\n",
    "    print(a)\n",
    "    print(b)\n",
    "\n",
    "    for i in range(0,n):\n",
    "        c = a + b\n",
    "        a = b\n",
    "        b = c\n",
    "\n",
    "        print(c)\n",
    "\n",
    "fib(10)"
   ]
  },
  {
   "cell_type": "markdown",
   "id": "e9dc9a4b-d903-4ac6-bb5a-ad3d92068736",
   "metadata": {},
   "source": [
    "#### 3. Recursion"
   ]
  },
  {
   "cell_type": "markdown",
   "id": "ee2c9306-dab3-4710-96c5-5c9222c5f888",
   "metadata": {},
   "source": [
    "Recursion function - a function that calls itself"
   ]
  },
  {
   "cell_type": "code",
   "execution_count": null,
   "id": "e518c7cf-b99a-4555-ae62-2c152b146917",
   "metadata": {},
   "outputs": [],
   "source": [
    "def wish():\n",
    "    print('hello')\n",
    "    wish()\n",
    "\n",
    "wish()\n",
    "# Recursion error occurs"
   ]
  },
  {
   "cell_type": "code",
   "execution_count": 1,
   "id": "b196bea8-8786-4b07-803b-fe646f96febc",
   "metadata": {},
   "outputs": [
    {
     "data": {
      "text/plain": [
       "3000"
      ]
     },
     "execution_count": 1,
     "metadata": {},
     "output_type": "execute_result"
    }
   ],
   "source": [
    "import sys\n",
    "sys.getrecursionlimit()"
   ]
  },
  {
   "cell_type": "code",
   "execution_count": 1,
   "id": "b2764f44-6f78-4ca0-b34f-0f023d4d2054",
   "metadata": {
    "scrolled": true
   },
   "outputs": [
    {
     "name": "stdout",
     "output_type": "stream",
     "text": [
      "100\n",
      "hello 1\n",
      "hello 2\n",
      "hello 3\n",
      "hello 4\n",
      "hello 5\n",
      "hello 6\n",
      "hello 7\n",
      "hello 8\n",
      "hello 9\n",
      "hello 10\n",
      "hello 11\n",
      "hello 12\n",
      "hello 13\n",
      "hello 14\n",
      "hello 15\n",
      "hello 16\n",
      "hello 17\n",
      "hello 18\n",
      "hello 19\n",
      "hello 20\n",
      "hello 21\n",
      "hello 22\n",
      "hello 23\n",
      "hello 24\n",
      "hello 25\n",
      "hello 26\n",
      "hello 27\n",
      "hello 28\n",
      "hello 29\n",
      "hello 30\n",
      "hello 31\n",
      "hello 32\n",
      "hello 33\n",
      "hello 34\n",
      "hello 35\n",
      "hello 36\n",
      "hello 37\n",
      "hello 38\n",
      "hello 39\n",
      "hello 40\n",
      "hello 41\n",
      "hello 42\n",
      "hello 43\n",
      "hello 44\n",
      "hello 45\n",
      "hello 46\n",
      "hello 47\n",
      "hello 48\n",
      "hello 49\n",
      "hello 50\n",
      "hello 51\n",
      "hello 52\n",
      "hello 53\n",
      "hello 54\n",
      "hello 55\n",
      "hello 56\n",
      "hello 57\n",
      "hello 58\n",
      "hello 59\n",
      "hello 60\n",
      "hello 61\n",
      "hello 62\n",
      "hello 63\n",
      "hello 64\n",
      "hello 65\n",
      "hello 66\n",
      "hello 67\n",
      "hello 68\n",
      "Unexpected exception formatting exception. Falling back to standard exception\n"
     ]
    },
    {
     "name": "stderr",
     "output_type": "stream",
     "text": [
      "Traceback (most recent call last):\n",
      "  File \"C:\\Users\\sruja\\anaconda3\\lib\\site-packages\\IPython\\core\\interactiveshell.py\", line 3526, in run_code\n",
      "    exec(code_obj, self.user_global_ns, self.user_ns)\n",
      "  File \"C:\\Users\\sruja\\AppData\\Local\\Temp\\ipykernel_8372\\833223789.py\", line 12, in <module>\n",
      "    wish()\n",
      "  File \"C:\\Users\\sruja\\AppData\\Local\\Temp\\ipykernel_8372\\833223789.py\", line 11, in wish\n",
      "    wish()\n",
      "  File \"C:\\Users\\sruja\\AppData\\Local\\Temp\\ipykernel_8372\\833223789.py\", line 11, in wish\n",
      "    wish()\n",
      "  File \"C:\\Users\\sruja\\AppData\\Local\\Temp\\ipykernel_8372\\833223789.py\", line 11, in wish\n",
      "    wish()\n",
      "  [Previous line repeated 65 more times]\n",
      "  File \"C:\\Users\\sruja\\AppData\\Local\\Temp\\ipykernel_8372\\833223789.py\", line 10, in wish\n",
      "    print('hello',i)\n",
      "  File \"C:\\Users\\sruja\\anaconda3\\lib\\site-packages\\ipykernel\\iostream.py\", line 664, in write\n",
      "    parent = self.parent_header\n",
      "  File \"C:\\Users\\sruja\\anaconda3\\lib\\site-packages\\ipykernel\\iostream.py\", line 509, in parent_header\n",
      "    return self._parent_header.get()\n",
      "RecursionError: maximum recursion depth exceeded while calling a Python object\n",
      "\n",
      "During handling of the above exception, another exception occurred:\n",
      "\n",
      "Traceback (most recent call last):\n",
      "  File \"C:\\Users\\sruja\\anaconda3\\lib\\site-packages\\pygments\\lexer.py\", line 559, in _process_state\n",
      "    rex = cls._process_regex(tdef[0], rflags, state)\n",
      "  File \"C:\\Users\\sruja\\anaconda3\\lib\\site-packages\\pygments\\lexer.py\", line 487, in _process_regex\n",
      "    regex = regex.get()\n",
      "  File \"C:\\Users\\sruja\\anaconda3\\lib\\site-packages\\pygments\\lexer.py\", line 475, in get\n",
      "    return regex_opt(self.words, prefix=self.prefix, suffix=self.suffix)\n",
      "  File \"C:\\Users\\sruja\\anaconda3\\lib\\site-packages\\pygments\\regexopt.py\", line 91, in regex_opt\n",
      "    return prefix + regex_opt_inner(strings, '(') + suffix\n",
      "  File \"C:\\Users\\sruja\\anaconda3\\lib\\site-packages\\pygments\\regexopt.py\", line 77, in regex_opt_inner\n",
      "    '|'.join(regex_opt_inner(list(group[1]), '')\n",
      "  File \"C:\\Users\\sruja\\anaconda3\\lib\\site-packages\\pygments\\regexopt.py\", line 77, in <genexpr>\n",
      "    '|'.join(regex_opt_inner(list(group[1]), '')\n",
      "  File \"C:\\Users\\sruja\\anaconda3\\lib\\site-packages\\pygments\\regexopt.py\", line 77, in regex_opt_inner\n",
      "    '|'.join(regex_opt_inner(list(group[1]), '')\n",
      "  File \"C:\\Users\\sruja\\anaconda3\\lib\\site-packages\\pygments\\regexopt.py\", line 77, in <genexpr>\n",
      "    '|'.join(regex_opt_inner(list(group[1]), '')\n",
      "  File \"C:\\Users\\sruja\\anaconda3\\lib\\site-packages\\pygments\\regexopt.py\", line 77, in regex_opt_inner\n",
      "    '|'.join(regex_opt_inner(list(group[1]), '')\n",
      "  File \"C:\\Users\\sruja\\anaconda3\\lib\\site-packages\\pygments\\regexopt.py\", line 77, in <genexpr>\n",
      "    '|'.join(regex_opt_inner(list(group[1]), '')\n",
      "  File \"C:\\Users\\sruja\\anaconda3\\lib\\site-packages\\pygments\\regexopt.py\", line 77, in regex_opt_inner\n",
      "    '|'.join(regex_opt_inner(list(group[1]), '')\n",
      "  File \"C:\\Users\\sruja\\anaconda3\\lib\\site-packages\\pygments\\regexopt.py\", line 77, in <genexpr>\n",
      "    '|'.join(regex_opt_inner(list(group[1]), '')\n",
      "  File \"C:\\Users\\sruja\\anaconda3\\lib\\site-packages\\pygments\\regexopt.py\", line 77, in regex_opt_inner\n",
      "    '|'.join(regex_opt_inner(list(group[1]), '')\n",
      "  File \"C:\\Users\\sruja\\anaconda3\\lib\\site-packages\\pygments\\regexopt.py\", line 77, in <genexpr>\n",
      "    '|'.join(regex_opt_inner(list(group[1]), '')\n",
      "  File \"C:\\Users\\sruja\\anaconda3\\lib\\site-packages\\pygments\\regexopt.py\", line 77, in regex_opt_inner\n",
      "    '|'.join(regex_opt_inner(list(group[1]), '')\n",
      "  File \"C:\\Users\\sruja\\anaconda3\\lib\\site-packages\\pygments\\regexopt.py\", line 77, in <genexpr>\n",
      "    '|'.join(regex_opt_inner(list(group[1]), '')\n",
      "  File \"C:\\Users\\sruja\\anaconda3\\lib\\site-packages\\pygments\\regexopt.py\", line 77, in regex_opt_inner\n",
      "    '|'.join(regex_opt_inner(list(group[1]), '')\n",
      "  File \"C:\\Users\\sruja\\anaconda3\\lib\\site-packages\\pygments\\regexopt.py\", line 77, in <genexpr>\n",
      "    '|'.join(regex_opt_inner(list(group[1]), '')\n",
      "  File \"C:\\Users\\sruja\\anaconda3\\lib\\site-packages\\pygments\\regexopt.py\", line 77, in regex_opt_inner\n",
      "    '|'.join(regex_opt_inner(list(group[1]), '')\n",
      "  File \"C:\\Users\\sruja\\anaconda3\\lib\\site-packages\\pygments\\regexopt.py\", line 77, in <genexpr>\n",
      "    '|'.join(regex_opt_inner(list(group[1]), '')\n",
      "  File \"C:\\Users\\sruja\\anaconda3\\lib\\site-packages\\pygments\\regexopt.py\", line 77, in regex_opt_inner\n",
      "    '|'.join(regex_opt_inner(list(group[1]), '')\n",
      "  File \"C:\\Users\\sruja\\anaconda3\\lib\\site-packages\\pygments\\regexopt.py\", line 77, in <genexpr>\n",
      "    '|'.join(regex_opt_inner(list(group[1]), '')\n",
      "  File \"C:\\Users\\sruja\\anaconda3\\lib\\site-packages\\pygments\\regexopt.py\", line 77, in regex_opt_inner\n",
      "    '|'.join(regex_opt_inner(list(group[1]), '')\n",
      "  File \"C:\\Users\\sruja\\anaconda3\\lib\\site-packages\\pygments\\regexopt.py\", line 77, in <genexpr>\n",
      "    '|'.join(regex_opt_inner(list(group[1]), '')\n",
      "  File \"C:\\Users\\sruja\\anaconda3\\lib\\site-packages\\pygments\\regexopt.py\", line 77, in regex_opt_inner\n",
      "    '|'.join(regex_opt_inner(list(group[1]), '')\n",
      "  File \"C:\\Users\\sruja\\anaconda3\\lib\\site-packages\\pygments\\regexopt.py\", line 77, in <genexpr>\n",
      "    '|'.join(regex_opt_inner(list(group[1]), '')\n",
      "  File \"C:\\Users\\sruja\\anaconda3\\lib\\site-packages\\pygments\\regexopt.py\", line 77, in regex_opt_inner\n",
      "    '|'.join(regex_opt_inner(list(group[1]), '')\n",
      "  File \"C:\\Users\\sruja\\anaconda3\\lib\\site-packages\\pygments\\regexopt.py\", line 77, in <genexpr>\n",
      "    '|'.join(regex_opt_inner(list(group[1]), '')\n",
      "  File \"C:\\Users\\sruja\\anaconda3\\lib\\site-packages\\pygments\\regexopt.py\", line 77, in regex_opt_inner\n",
      "    '|'.join(regex_opt_inner(list(group[1]), '')\n",
      "  File \"C:\\Users\\sruja\\anaconda3\\lib\\site-packages\\pygments\\regexopt.py\", line 77, in <genexpr>\n",
      "    '|'.join(regex_opt_inner(list(group[1]), '')\n",
      "  File \"C:\\Users\\sruja\\anaconda3\\lib\\site-packages\\pygments\\regexopt.py\", line 77, in regex_opt_inner\n",
      "    '|'.join(regex_opt_inner(list(group[1]), '')\n",
      "  File \"C:\\Users\\sruja\\anaconda3\\lib\\site-packages\\pygments\\regexopt.py\", line 77, in <genexpr>\n",
      "    '|'.join(regex_opt_inner(list(group[1]), '')\n",
      "  File \"C:\\Users\\sruja\\anaconda3\\lib\\site-packages\\pygments\\regexopt.py\", line 63, in regex_opt_inner\n",
      "    + regex_opt_inner([s[plen:] for s in strings], '(?:') \\\n",
      "  File \"C:\\Users\\sruja\\anaconda3\\lib\\site-packages\\pygments\\regexopt.py\", line 77, in regex_opt_inner\n",
      "    '|'.join(regex_opt_inner(list(group[1]), '')\n",
      "  File \"C:\\Users\\sruja\\anaconda3\\lib\\site-packages\\pygments\\regexopt.py\", line 77, in <genexpr>\n",
      "    '|'.join(regex_opt_inner(list(group[1]), '')\n",
      "  File \"C:\\Users\\sruja\\anaconda3\\lib\\site-packages\\pygments\\regexopt.py\", line 77, in regex_opt_inner\n",
      "    '|'.join(regex_opt_inner(list(group[1]), '')\n",
      "  File \"C:\\Users\\sruja\\anaconda3\\lib\\site-packages\\pygments\\regexopt.py\", line 77, in <genexpr>\n",
      "    '|'.join(regex_opt_inner(list(group[1]), '')\n",
      "  File \"C:\\Users\\sruja\\anaconda3\\lib\\site-packages\\pygments\\regexopt.py\", line 77, in regex_opt_inner\n",
      "    '|'.join(regex_opt_inner(list(group[1]), '')\n",
      "  File \"C:\\Users\\sruja\\anaconda3\\lib\\site-packages\\pygments\\regexopt.py\", line 77, in <genexpr>\n",
      "    '|'.join(regex_opt_inner(list(group[1]), '')\n",
      "  File \"C:\\Users\\sruja\\anaconda3\\lib\\site-packages\\pygments\\regexopt.py\", line 78, in <lambda>\n",
      "    for group in groupby(strings, lambda s: s[0] == first[0])) \\\n",
      "RecursionError: maximum recursion depth exceeded in comparison\n",
      "\n",
      "The above exception was the direct cause of the following exception:\n",
      "\n",
      "Traceback (most recent call last):\n",
      "  File \"C:\\Users\\sruja\\anaconda3\\lib\\site-packages\\IPython\\core\\interactiveshell.py\", line 2120, in showtraceback\n",
      "    stb = self.InteractiveTB.structured_traceback(\n",
      "  File \"C:\\Users\\sruja\\anaconda3\\lib\\site-packages\\IPython\\core\\ultratb.py\", line 1435, in structured_traceback\n",
      "    return FormattedTB.structured_traceback(\n",
      "  File \"C:\\Users\\sruja\\anaconda3\\lib\\site-packages\\IPython\\core\\ultratb.py\", line 1326, in structured_traceback\n",
      "    return VerboseTB.structured_traceback(\n",
      "  File \"C:\\Users\\sruja\\anaconda3\\lib\\site-packages\\IPython\\core\\ultratb.py\", line 1173, in structured_traceback\n",
      "    formatted_exception = self.format_exception_as_a_whole(etype, evalue, etb, number_of_lines_of_context,\n",
      "  File \"C:\\Users\\sruja\\anaconda3\\lib\\site-packages\\IPython\\core\\ultratb.py\", line 1088, in format_exception_as_a_whole\n",
      "    frames.append(self.format_record(record))\n",
      "  File \"C:\\Users\\sruja\\anaconda3\\lib\\site-packages\\IPython\\core\\ultratb.py\", line 969, in format_record\n",
      "    _format_traceback_lines(\n",
      "  File \"C:\\Users\\sruja\\anaconda3\\lib\\site-packages\\IPython\\core\\ultratb.py\", line 215, in _format_traceback_lines\n",
      "    line = stack_line.render(pygmented=has_colors).rstrip('\\n') + '\\n'\n",
      "  File \"C:\\Users\\sruja\\anaconda3\\lib\\site-packages\\stack_data\\core.py\", line 360, in render\n",
      "    start_line, lines = self.frame_info._pygmented_scope_lines\n",
      "  File \"C:\\Users\\sruja\\anaconda3\\lib\\site-packages\\stack_data\\utils.py\", line 145, in cached_property_wrapper\n",
      "    value = obj.__dict__[self.func.__name__] = self.func(obj)\n",
      "  File \"C:\\Users\\sruja\\anaconda3\\lib\\site-packages\\stack_data\\core.py\", line 780, in _pygmented_scope_lines\n",
      "    lines = _pygmented_with_ranges(formatter, code, ranges)\n",
      "  File \"C:\\Users\\sruja\\anaconda3\\lib\\site-packages\\stack_data\\utils.py\", line 155, in _pygmented_with_ranges\n",
      "    class MyLexer(type(get_lexer_by_name(\"python3\"))):\n",
      "  File \"C:\\Users\\sruja\\anaconda3\\lib\\site-packages\\pygments\\lexers\\__init__.py\", line 126, in get_lexer_by_name\n",
      "    return _lexer_cache[name](**options)\n",
      "  File \"C:\\Users\\sruja\\anaconda3\\lib\\site-packages\\pygments\\lexer.py\", line 641, in __call__\n",
      "    cls._tokens = cls.process_tokendef('', cls.get_tokendefs())\n",
      "  File \"C:\\Users\\sruja\\anaconda3\\lib\\site-packages\\pygments\\lexer.py\", line 580, in process_tokendef\n",
      "    cls._process_state(tokendefs, processed, state)\n",
      "  File \"C:\\Users\\sruja\\anaconda3\\lib\\site-packages\\pygments\\lexer.py\", line 543, in _process_state\n",
      "    tokens.extend(cls._process_state(unprocessed, processed,\n",
      "  File \"C:\\Users\\sruja\\anaconda3\\lib\\site-packages\\pygments\\lexer.py\", line 543, in _process_state\n",
      "    tokens.extend(cls._process_state(unprocessed, processed,\n",
      "  File \"C:\\Users\\sruja\\anaconda3\\lib\\site-packages\\pygments\\lexer.py\", line 561, in _process_state\n",
      "    raise ValueError(\"uncompilable regex %r in state %r of %r: %s\" %\n",
      "ValueError: uncompilable regex <pygments.lexer.words object at 0x000002208628C280> in state 'builtins' of <class 'pygments.lexers.python.PythonLexer'>: maximum recursion depth exceeded in comparison\n"
     ]
    }
   ],
   "source": [
    "import sys\n",
    "sys.setrecursionlimit(100)\n",
    "print(sys.getrecursionlimit())\n",
    "\n",
    "i = 0\n",
    "\n",
    "def wish():\n",
    "    global i\n",
    "    i += 1\n",
    "    print('hello',i)\n",
    "    wish()\n",
    "wish()"
   ]
  }
 ],
 "metadata": {
  "kernelspec": {
   "display_name": "Python 3 (ipykernel)",
   "language": "python",
   "name": "python3"
  },
  "language_info": {
   "codemirror_mode": {
    "name": "ipython",
    "version": 3
   },
   "file_extension": ".py",
   "mimetype": "text/x-python",
   "name": "python",
   "nbconvert_exporter": "python",
   "pygments_lexer": "ipython3",
   "version": "3.9.21"
  }
 },
 "nbformat": 4,
 "nbformat_minor": 5
}
